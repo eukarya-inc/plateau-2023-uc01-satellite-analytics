{
  "cells": [
    {
      "cell_type": "code",
      "execution_count": 1,
      "metadata": {
        "colab": {
          "base_uri": "https://localhost:8080/"
        },
        "id": "hKGzbWiIBWeW",
        "outputId": "ac56f4f8-dace-4e87-f4c7-cf004e6a1f90"
      },
      "outputs": [
        {
          "name": "stdout",
          "output_type": "stream",
          "text": [
            "Mounted at /content/drive\n",
            "/content/drive/MyDrive\n",
            "Cloning into 'plateau-2023-uc01-satellite-analytics'...\n",
            "remote: Enumerating objects: 32, done.\u001b[K\n",
            "remote: Counting objects: 100% (32/32), done.\u001b[K\n",
            "remote: Compressing objects: 100% (31/31), done.\u001b[K\n",
            "remote: Total 32 (delta 7), reused 10 (delta 0), pack-reused 0\u001b[K\n",
            "Receiving objects: 100% (32/32), 5.26 MiB | 12.49 MiB/s, done.\n",
            "Resolving deltas: 100% (7/7), done.\n",
            "/content/drive/MyDrive/plateau-2023-uc01-satellite-analytics\n"
          ]
        }
      ],
      "source": [
        "# @title Googleドライブにリポジトリをクローンしてくる\n",
        "from google.colab import drive\n",
        "\n",
        "drive.mount('/content/drive')\n",
        "%cd /content/drive/MyDrive/\n",
        "!git clone https://github.com/eukarya-inc/plateau-2023-uc01-satellite-analytics.git\n",
        "%cd plateau-2023-uc01-satellite-analytics"
      ]
    },
    {
      "cell_type": "code",
      "execution_count": 3,
      "metadata": {
        "id": "RcGKdRaFBhoE"
      },
      "outputs": [],
      "source": [
        "# # @title ワーキングディレクトリの追加\n",
        "# repository_dir = !git rev-parse --show-toplevel\n",
        "# repository_dir = repository_dir[0]\n",
        "# workdir = repository_dir + \"/PLATEAU-FloodSAR/\""
      ]
    },
    {
      "cell_type": "code",
      "execution_count": null,
      "metadata": {
        "colab": {
          "base_uri": "https://localhost:8080/"
        },
        "id": "KFRrYUJUoCgl",
        "outputId": "4b6ce55f-18d0-4697-f1c3-e35d31b5681f"
      },
      "outputs": [],
      "source": [
        "# @title 浸水推定モデルのチェックポイントのダウンロード\n",
        "!mkdir PLATEAU-FloodSAR/models\n",
        "%cd PLATEAU-FloodSAR/models\n",
        "\n",
        "!gdown https://drive.google.com/uc?id=1rD68QJQr-gmF9jeZY5qBjVJJqoWOFe7E\n",
        "!gdown https://drive.google.com/uc?id=1VEgB3VcLOYEwud9Zo-QsHUAMmNkrGDZq\n",
        "%cd ../../"
      ]
    },
    {
      "cell_type": "markdown",
      "metadata": {
        "id": "oig1vteznKIE"
      },
      "source": [
        "# @title サンプルの実行（内容を変更する場合はドライブに保存されたファイルを使用してください）\n",
        "順に実行していく（指定範囲によっては全てを実行するのに1時間以上かかります）\n",
        "- [0_PrepareProject.ipynb](https://colab.research.google.com/github/eukarya-inc/plateau-2023-uc01-satellite-analytics/blob/main/PLATEAU-FloodSAR/0_PrepareProject.ipynb)\n",
        "- [1_EstimateSAR_FloodPrbDiff_mod.ipynb](https://colab.research.google.com/github/eukarya-inc/plateau-2023-uc01-satellite-analytics/blob/main/PLATEAU-FloodSAR/1_EstimateSAR_FloodPrbDiff_mod.ipynb)\n",
        "- [2_GeneratePointGroup.ipynb](https://colab.research.google.com/github/eukarya-inc/plateau-2023-uc01-satellite-analytics/blob/main/PLATEAU-FloodSAR/2_GeneratePointGroup.ipynb)\n",
        "- [3_CalcFloodDEMRaster.ipynb](https://colab.research.google.com/github/eukarya-inc/plateau-2023-uc01-satellite-analytics/blob/main/PLATEAU-FloodSAR/3_CalcFloodDEMRaster.ipynb)\n",
        "- [4_AssessBuildings_ipynv.ipynb](https://colab.research.google.com/github/eukarya-inc/plateau-2023-uc01-satellite-analytics/blob/main/PLATEAU-FloodSAR/4_AssessBuildings_ipynv.ipynb)\n",
        "- [5_Upload.ipynb](https://colab.research.google.com/github/eukarya-inc/plateau-2023-uc01-satellite-analytics/blob/main/PLATEAU-FloodSAR/5_Upload.ipynb)"
      ]
    }
  ],
  "metadata": {
    "colab": {
      "provenance": []
    },
    "kernelspec": {
      "display_name": "Python 3",
      "name": "python3"
    },
    "language_info": {
      "name": "python"
    }
  },
  "nbformat": 4,
  "nbformat_minor": 0
}
