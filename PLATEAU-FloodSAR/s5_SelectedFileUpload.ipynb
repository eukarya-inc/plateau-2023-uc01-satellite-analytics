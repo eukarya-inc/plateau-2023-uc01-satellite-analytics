{
  "cells": [
    {
      "cell_type": "markdown",
      "metadata": {
        "id": "plexmctqq0xV"
      },
      "source": [
        "建物データと浸水面標高ラスターデータから建物の被災データを生成。（必要手続き：Driveの接続）\n",
        "\n",
        "integratinonKeyとprojectIDが共に設定されている場合、Re:EarthCMSへのアップロードを行います。最後に出力される各種URLを、Re:Earthの編集画面に入力してください。"
      ]
    },
    {
      "cell_type": "code",
      "execution_count": null,
      "metadata": {
        "colab": {
          "base_uri": "https://localhost:8080/"
        },
        "id": "6miOua5u8sih",
        "outputId": "dc0aa02e-4e38-49a1-9c2d-93ad8e88b0f3"
      },
      "outputs": [
        {
          "output_type": "stream",
          "name": "stdout",
          "text": [
            "Drive already mounted at /content/drive; to attempt to forcibly remount, call drive.mount(\"/content/drive\", force_remount=True).\n"
          ]
        }
      ],
      "source": [
        "# @title Googleドライブの準備\n",
        "from google.colab import drive\n",
        "drive.mount('/content/drive')"
      ]
    },
    {
      "cell_type": "code",
      "execution_count": null,
      "metadata": {
        "id": "TiWIAVi6pnpm"
      },
      "outputs": [],
      "source": [
        "# @title 設定するパラメータ\n",
        "\n",
        "# ケース名：解析を通して使います。\n",
        "casename = \"omuta-r2-giaj\" #\"omuta-r2-giaj\" #-giaj\" #\"kurume-r2\" #\"kurume-r2-GIAJ\"\n",
        "file_uploading = \"heatmap_all_mokuzou.zip\"\n",
        "\n",
        "obsdate = \"2020-07-07\" #\"2020-07-09\" #\"2020-07-10\"\n",
        "satellite = \"国土地理院\" #\"ASNARO-2\" #\"国土地理院\" #\"Sentinel-1\"\n",
        "\n",
        "uploadlist = [\n",
        "      #\"浸水域・浸水深（3Dタイル）\",\n",
        "      #\"浸水域・浸水深（画像タイル）\",\n",
        "      \"建物被災状況（CSVファイル）\",\n",
        "      #\"被災建物・ヒートマップ画像タイル：床上（木造）\",\n",
        "      #\"被災建物・ヒートマップ画像タイル：床下（木造）\",\n",
        "      \"被災建物・ヒートマップ画像タイル:木造家屋総数\"\n",
        "]\n",
        "\n",
        "# Re:Earthへのアップロード用\n",
        "# 片方でも None の場合はアップロードされません。\n",
        "integrationKey = None # インテグレーションキー（文字列）\n",
        "projectId = None # プロジェクトページのURLより（文字列）\n"
      ]
    },
    {
      "cell_type": "code",
      "execution_count": null,
      "metadata": {
        "id": "GmDsB5-EpfHS",
        "cellView": "form"
      },
      "outputs": [],
      "source": [
        "# @title 詳細設定用パラメータ（基本的には操作不要）\n",
        "\n",
        "enable_savefig = False # 図をGoogleドライブに保存する？\n",
        "\n",
        "zoomlevel = 15 # DEM zoom level to fetch\n",
        "\n",
        "# デバッグ用出力\n",
        "global globalflag_debug\n",
        "\n",
        "# 保存先\n",
        "path_home = \"/content/drive/MyDrive/plateau-2023-uc01-satellite-analytics/PLATEAU-FloodSAR/\"\n",
        "#path_cgml = path_home + \"/CityGML/\"\n",
        "path_dem = path_home + \"/DEM/\"\n",
        "path_case = path_home + casename + \"/\"\n",
        "path_upload = path_case + \"ForUpload/\"\n",
        "file_fldbbox = path_case + \"floodprb_bbox.npy\"\n",
        "json_boundary = path_case +\"boundary.json\"\n",
        "file_bbox = path_case + \"boundbox.npy\"\n",
        "\n",
        "file_flooddem = path_case + \"flood_dem_{:04d}.npz\"\n",
        "file_flooddepth = path_case + \"flood_depth_{:04d}.npz\"\n",
        "file_building_csv = path_upload + \"buildings.csv\"\n",
        "\n",
        "path_flood3Dtile_tmp =  \"flood3dtile_depth/\"\n",
        "path_deltphtile_tmp = \"ellipsoid_xyztiles/\"\n",
        "file_flood3Dtile_zip = path_upload+\"3dtiles.zip\"\n",
        "file_floodXYZtile_zip = path_upload+\"xyztile.zip\"\n",
        "file_floodHeattile_yukauemokuzou_zip = path_upload+\"heatmap_yukaue_mokuzou.zip\"\n",
        "file_floodHeattile_yukashitamokuzou_zip = path_upload+\"heatmap_yukashita_mokuzou.zip\"\n",
        "file_floodHeattile_allmokuzou_zip = path_upload+\"heatmap_all_mokuzou.zip\""
      ]
    },
    {
      "cell_type": "code",
      "source": [
        "#!pip list"
      ],
      "metadata": {
        "id": "_YV6NAiTPqKU"
      },
      "execution_count": null,
      "outputs": []
    },
    {
      "cell_type": "code",
      "execution_count": null,
      "metadata": {
        "colab": {
          "base_uri": "https://localhost:8080/"
        },
        "id": "qMdvFcGnW7Do",
        "outputId": "f332b7fe-ca4f-45b6-d99e-ee5014f60617",
        "cellView": "form"
      },
      "outputs": [
        {
          "output_type": "stream",
          "name": "stdout",
          "text": [
            "Requirement already satisfied: plateauutils in /usr/local/lib/python3.10/dist-packages (0.0.14)\n",
            "Requirement already satisfied: click in /usr/local/lib/python3.10/dist-packages (from plateauutils) (8.1.7)\n",
            "Requirement already satisfied: numpy in /usr/local/lib/python3.10/dist-packages (from plateauutils) (1.26.2)\n",
            "Requirement already satisfied: pandas in /usr/local/lib/python3.10/dist-packages (from plateauutils) (1.5.3)\n",
            "Requirement already satisfied: pillow in /usr/local/lib/python3.10/dist-packages (from plateauutils) (9.4.0)\n",
            "Requirement already satisfied: py3dtiles in /usr/local/lib/python3.10/dist-packages (from plateauutils) (7.0.0)\n",
            "Requirement already satisfied: pyproj in /usr/local/lib/python3.10/dist-packages (from plateauutils) (3.6.1)\n",
            "Requirement already satisfied: reearthcmsapi in /usr/local/lib/python3.10/dist-packages (from plateauutils) (0.0.3)\n",
            "Requirement already satisfied: requests in /usr/local/lib/python3.10/dist-packages (from plateauutils) (2.31.0)\n",
            "Requirement already satisfied: shapely in /usr/local/lib/python3.10/dist-packages (from plateauutils) (2.0.2)\n",
            "Requirement already satisfied: tqdm in /usr/local/lib/python3.10/dist-packages (from plateauutils) (4.66.1)\n",
            "Requirement already satisfied: python-dateutil>=2.8.1 in /usr/local/lib/python3.10/dist-packages (from pandas->plateauutils) (2.8.2)\n",
            "Requirement already satisfied: pytz>=2020.1 in /usr/local/lib/python3.10/dist-packages (from pandas->plateauutils) (2023.3.post1)\n",
            "Requirement already satisfied: cython in /usr/local/lib/python3.10/dist-packages (from py3dtiles->plateauutils) (3.0.6)\n",
            "Requirement already satisfied: earcut==1.1.5 in /usr/local/lib/python3.10/dist-packages (from py3dtiles->plateauutils) (1.1.5)\n",
            "Requirement already satisfied: lz4 in /usr/local/lib/python3.10/dist-packages (from py3dtiles->plateauutils) (4.3.2)\n",
            "Requirement already satisfied: numba in /usr/local/lib/python3.10/dist-packages (from py3dtiles->plateauutils) (0.58.1)\n",
            "Requirement already satisfied: psutil in /usr/local/lib/python3.10/dist-packages (from py3dtiles->plateauutils) (5.9.5)\n",
            "Requirement already satisfied: pyzmq in /usr/local/lib/python3.10/dist-packages (from py3dtiles->plateauutils) (23.2.1)\n",
            "Requirement already satisfied: certifi in /usr/local/lib/python3.10/dist-packages (from pyproj->plateauutils) (2023.11.17)\n",
            "Requirement already satisfied: frozendict>=2.3.4 in /usr/local/lib/python3.10/dist-packages (from reearthcmsapi->plateauutils) (2.3.10)\n",
            "Requirement already satisfied: setuptools>=21.0.0 in /usr/local/lib/python3.10/dist-packages (from reearthcmsapi->plateauutils) (67.7.2)\n",
            "Requirement already satisfied: typing-extensions>=4.3.0 in /usr/local/lib/python3.10/dist-packages (from reearthcmsapi->plateauutils) (4.5.0)\n",
            "Requirement already satisfied: urllib3<2.1.0,>=1.26.7 in /usr/local/lib/python3.10/dist-packages (from reearthcmsapi->plateauutils) (2.0.7)\n",
            "Requirement already satisfied: charset-normalizer<4,>=2 in /usr/local/lib/python3.10/dist-packages (from requests->plateauutils) (3.3.2)\n",
            "Requirement already satisfied: idna<4,>=2.5 in /usr/local/lib/python3.10/dist-packages (from requests->plateauutils) (3.6)\n",
            "Requirement already satisfied: six>=1.5 in /usr/local/lib/python3.10/dist-packages (from python-dateutil>=2.8.1->pandas->plateauutils) (1.16.0)\n",
            "Requirement already satisfied: llvmlite<0.42,>=0.41.0dev0 in /usr/local/lib/python3.10/dist-packages (from numba->py3dtiles->plateauutils) (0.41.1)\n",
            "Requirement already satisfied: reearthcmsapi in /usr/local/lib/python3.10/dist-packages (0.0.3)\n",
            "Requirement already satisfied: certifi>=14.5.14 in /usr/local/lib/python3.10/dist-packages (from reearthcmsapi) (2023.11.17)\n",
            "Requirement already satisfied: frozendict>=2.3.4 in /usr/local/lib/python3.10/dist-packages (from reearthcmsapi) (2.3.10)\n",
            "Requirement already satisfied: python-dateutil>=2.7.0 in /usr/local/lib/python3.10/dist-packages (from reearthcmsapi) (2.8.2)\n",
            "Requirement already satisfied: setuptools>=21.0.0 in /usr/local/lib/python3.10/dist-packages (from reearthcmsapi) (67.7.2)\n",
            "Requirement already satisfied: typing-extensions>=4.3.0 in /usr/local/lib/python3.10/dist-packages (from reearthcmsapi) (4.5.0)\n",
            "Requirement already satisfied: urllib3<2.1.0,>=1.26.7 in /usr/local/lib/python3.10/dist-packages (from reearthcmsapi) (2.0.7)\n",
            "Requirement already satisfied: six>=1.5 in /usr/local/lib/python3.10/dist-packages (from python-dateutil>=2.7.0->reearthcmsapi) (1.16.0)\n",
            "Requirement already satisfied: numpy in /usr/local/lib/python3.10/dist-packages (1.26.2)\n",
            "Requirement already satisfied: scipy in /usr/local/lib/python3.10/dist-packages (1.11.4)\n",
            "Requirement already satisfied: numpy<1.28.0,>=1.21.6 in /usr/local/lib/python3.10/dist-packages (from scipy) (1.26.2)\n",
            "Requirement already satisfied: scikit-image in /usr/local/lib/python3.10/dist-packages (0.22.0)\n",
            "Requirement already satisfied: numpy>=1.22 in /usr/local/lib/python3.10/dist-packages (from scikit-image) (1.26.2)\n",
            "Requirement already satisfied: scipy>=1.8 in /usr/local/lib/python3.10/dist-packages (from scikit-image) (1.11.4)\n",
            "Requirement already satisfied: networkx>=2.8 in /usr/local/lib/python3.10/dist-packages (from scikit-image) (3.2.1)\n",
            "Requirement already satisfied: pillow>=9.0.1 in /usr/local/lib/python3.10/dist-packages (from scikit-image) (9.4.0)\n",
            "Requirement already satisfied: imageio>=2.27 in /usr/local/lib/python3.10/dist-packages (from scikit-image) (2.31.6)\n",
            "Requirement already satisfied: tifffile>=2022.8.12 in /usr/local/lib/python3.10/dist-packages (from scikit-image) (2023.12.9)\n",
            "Requirement already satisfied: packaging>=21 in /usr/local/lib/python3.10/dist-packages (from scikit-image) (23.2)\n",
            "Requirement already satisfied: lazy_loader>=0.3 in /usr/local/lib/python3.10/dist-packages (from scikit-image) (0.3)\n"
          ]
        }
      ],
      "source": [
        "#@title ライブラリインポート\n",
        "!pip install plateauutils\n",
        "!pip install reearthcmsapi\n",
        "!pip install --upgrade numpy\n",
        "!pip install --upgrade scipy\n",
        "!pip install --upgrade scikit-image\n",
        "\n",
        "import matplotlib.pyplot as plt\n",
        "import numpy as np\n",
        "from shapely import box\n",
        "#from scipy import interpolate\n",
        "from progressbar import progressbar\n",
        "import zipfile\n",
        "import os\n",
        "import sys\n",
        "import shutil\n",
        "import plateauutils\n",
        "import reearthcmsapi\n",
        "from plateauutils.flood_converter.flood_to_3dtiles import FloodTo3dtiles\n",
        "from plateauutils.flood_converter.flood_to_png import FloodToPng\n",
        "from reearthcmsapi.apis.tags import items_api\n",
        "from reearthcmsapi.model.versioned_item import VersionedItem\n",
        "from reearthcmsapi.model.asset_embedding import AssetEmbedding\n",
        "from reearthcmsapi.apis.tags import assets_project_api\n",
        "from reearthcmsapi.model.asset import Asset\n",
        "from pprint import pprint\n",
        "sys.path.append(path_home)\n",
        "import plateau_floodsar_lib as pfsl"
      ]
    },
    {
      "cell_type": "markdown",
      "source": [
        "## Re:EarthCMSへのアップロード"
      ],
      "metadata": {
        "id": "AaeMrN67ayq_"
      }
    },
    {
      "cell_type": "code",
      "source": [
        "#@title Re:Earth CMSへのアップロード\n",
        "if integrationKey is not None and projectId is not None:\n",
        "  configuration = reearthcmsapi.Configuration(\n",
        "      host = \"https://api.cms.test.reearth.dev/api\",\n",
        "      access_token = integrationKey\n",
        "  )\n",
        "\n",
        "  client = reearthcmsapi.ApiClient(configuration)\n",
        "\n",
        "  api_client = reearthcmsapi.ApiClient(configuration)\n",
        "  api_instance = assets_project_api.AssetsProjectApi(api_client)\n",
        "\n",
        "  # Create an instance of the API class\n",
        "  api_instance = assets_project_api.AssetsProjectApi(api_client)\n",
        "  path_params = {\n",
        "      'projectId': projectId,\n",
        "  }\n",
        "\n",
        "  detaillist = {\n",
        "      \"浸水域・浸水深（3Dタイル）\": [file_floodXYZtile_zip, \"浸水域・浸水深（3Dタイル）\\n{ff}/tileset.json\"],\n",
        "      \"浸水域・浸水深（画像タイル）\":[file_floodXYZtile_zip, \"浸水域・浸水深（画像タイル）\\n{ff}/{z}/{x}/{y}.png\"],\n",
        "      \"建物被災状況（CSVファイル）\":[file_building_csv, \"建物被災状況（CSVファイル）\\n{ff}.csv\"],\n",
        "      \"被災建物・ヒートマップ画像タイル：床上（木造）\":[file_floodHeattile_yukauemokuzou_zip,\"被災建物・ヒートマップ画像タイル：床上（木造）\\n{ff}/{z}/{x}/{y}.png\"],\n",
        "      \"被災建物・ヒートマップ画像タイル：床下（木造）\":[file_floodHeattile_yukashitamokuzou_zip,\"被災建物・ヒートマップ画像タイル：床下（木造）\\n{ff}/{z}/{x}/{y}.png\"],\n",
        "      \"被災建物・ヒートマップ画像タイル:木造家屋総数\":[file_floodHeattile_allmokuzou_zip,\"被災建物・ヒートマップ画像タイル:木造家屋総数\\n{ff}/{z}/{x}/{y}.png\"]\n",
        "  }\n",
        "\n",
        "  outtxt = \"\"\n",
        "  for key in uploadlist:\n",
        "    if key not in detaillist:\n",
        "      continue\n",
        "    ff, txt = detaillist[key]\n",
        "    if not os.path.exists(ff):\n",
        "      continue\n",
        "    body = dict(\n",
        "        file=open(ff, 'rb'),\n",
        "        skip_decompression=False,\n",
        "    )\n",
        "    try:\n",
        "        # Create an new asset.\n",
        "        api_response = api_instance.asset_create(\n",
        "            path_params=path_params,\n",
        "            body=body,\n",
        "        )\n",
        "        #pprint(api_response)\n",
        "        outtxt += txt.format(ff=api_response.body[\"url\"][:-4],x=\"{x}\",y=\"{y}\",z=\"{z}\")+\"\\n\\n\"\n",
        "    except reearthcmsapi.ApiException as e:\n",
        "        print(\"Exception when calling AssetsProjectApi->asset_create: %s\\n\" % e)\n",
        "\n",
        "  print(\"以下の情報をRe:Earth編集画面に入力してください。\")\n",
        "  print(\"------------------------------------------------\")\n",
        "  print(f\"観測日: {obsdate}\")\n",
        "  print(f\"観測衛星: {satellite}\")\n",
        "  print()\n",
        "  print(outtxt)\n",
        "else:\n",
        "  print(\"Re:Earth CMSへのアップロードは行われませんでした。\")"
      ],
      "metadata": {
        "colab": {
          "base_uri": "https://localhost:8080/"
        },
        "id": "YDWw8pmWXy7A",
        "outputId": "2994e487-7083-4bcf-a5ec-cc4e0c322bac"
      },
      "execution_count": null,
      "outputs": [
        {
          "output_type": "stream",
          "name": "stdout",
          "text": [
            "以下の情報をRe:Earth編集画面に入力してください。\n",
            "------------------------------------------------\n",
            "\n",
            "\n"
          ]
        }
      ]
    }
  ],
  "metadata": {
    "colab": {
      "provenance": []
    },
    "kernelspec": {
      "display_name": "Python 3",
      "name": "python3"
    },
    "language_info": {
      "name": "python"
    }
  },
  "nbformat": 4,
  "nbformat_minor": 0
}
