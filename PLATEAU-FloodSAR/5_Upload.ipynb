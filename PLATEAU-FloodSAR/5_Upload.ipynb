{
  "cells": [
    {
      "cell_type": "markdown",
      "metadata": {
        "id": "plexmctqq0xV"
      },
      "source": [
        "建物データと浸水面標高ラスターデータから建物の被災データを生成。（必要手続き：Driveの接続）\n",
        "\n",
        "integratinonKeyとprojectIDが共に設定されている場合、Re:EarthCMSへのアップロードを行います。最後に出力される各種URLを、Re:Earthの編集画面に入力してください。"
      ]
    },
    {
      "cell_type": "code",
      "execution_count": null,
      "metadata": {
        "colab": {
          "base_uri": "https://localhost:8080/"
        },
        "id": "6miOua5u8sih",
        "outputId": "084847b5-1eb9-4506-831b-889735664ecf"
      },
      "outputs": [
        {
          "output_type": "stream",
          "name": "stdout",
          "text": [
            "Drive already mounted at /content/drive; to attempt to forcibly remount, call drive.mount(\"/content/drive\", force_remount=True).\n"
          ]
        }
      ],
      "source": [
        "# @title Googleドライブの準備\n",
        "from google.colab import drive\n",
        "drive.mount('/content/drive')"
      ]
    },
    {
      "cell_type": "code",
      "execution_count": null,
      "metadata": {
        "id": "TiWIAVi6pnpm"
      },
      "outputs": [],
      "source": [
        "# @title 設定するパラメータ\n",
        "\n",
        "# ケース名：解析を通して使います。\n",
        "casename = \"omuta-r2-giaj\" #-giaj\" #\"kurume-r2\" #\"kurume-r2-GIAJ\"\n",
        "\n",
        "obsdate = \"2020-07-07\" #\"2020-07-09\" #\"2020-07-10\"\n",
        "satellite = \"国土地理院\" #\"ASNARO-2\" #\"国土地理院\" #\"Sentinel-1\"\n",
        "\n",
        "# 浸水範囲を求める際に設定した最大水深\n",
        "maxdepth = 0 #0# 4.27 # Set 0 for GIAJ\n",
        "\n",
        "# Re:Earthへのアップロード用\n",
        "# 片方でも None の場合はアップロードされません。\n",
        "integrationKey = None # インテグレーションキー（文字列）\n",
        "projectId = None # プロジェクトページのURLより（文字列）\n",
        "\n",
        "# 確認用画像出力用フラグ\n",
        "flg_checkDips = False"
      ]
    },
    {
      "cell_type": "code",
      "execution_count": null,
      "metadata": {
        "id": "GmDsB5-EpfHS"
      },
      "outputs": [],
      "source": [
        "# @title 詳細設定用パラメータ（基本的には操作不要）\n",
        "\n",
        "enable_savefig = False # 図をGoogleドライブに保存する？\n",
        "\n",
        "zoomlevel = 15 # DEM zoom level to fetch\n",
        "\n",
        "# デバッグ用出力\n",
        "global globalflag_debug\n",
        "\n",
        "# 保存先\n",
        "path_home = \"/content/drive/MyDrive/plateau-2023-uc01-satellite-analytics/PLATEAU-FloodSAR/\"\n",
        "#path_cgml = path_home + \"/CityGML/\"\n",
        "path_dem = path_home + \"/DEM/\"\n",
        "path_case = path_home + casename + \"/\"\n",
        "path_upload = path_case + \"ForUpload/\"\n",
        "file_fldbbox = path_case + \"floodprb_bbox.npy\"\n",
        "json_boundary = path_case +\"boundary.json\"\n",
        "file_bbox = path_case + \"boundbox.npy\"\n",
        "\n",
        "file_flooddem = path_case + \"flood_dem_{:04d}.npz\"\n",
        "file_flooddepth = path_case + \"flood_depth_{:04d}.npz\"\n",
        "file_building_csv = path_upload + \"buildings.csv\"\n",
        "\n",
        "path_flood3Dtile_tmp =  \"flood3dtile_depth/\"\n",
        "path_deltphtile_tmp = \"ellipsoid_xyztiles/\"\n",
        "file_flood3Dtile_zip = path_upload+\"3dtiles.zip\"\n",
        "file_floodXYZtile_zip = path_upload+\"xyztile.zip\"\n",
        "file_floodHeattile_yukauemokuzou_zip = path_upload+\"heatmap_yukaue_mokuzou.zip\"\n",
        "file_floodHeattile_yukashitamokuzou_zip = path_upload+\"heatmap_yukashita_mokuzou.zip\"\n",
        "file_floodHeattile_allmokuzou_zip = path_upload+\"heatmap_all_mokuzou.zip\""
      ]
    },
    {
      "cell_type": "code",
      "source": [
        "#!pip list"
      ],
      "metadata": {
        "id": "_YV6NAiTPqKU"
      },
      "execution_count": null,
      "outputs": []
    },
    {
      "cell_type": "code",
      "execution_count": null,
      "metadata": {
        "colab": {
          "base_uri": "https://localhost:8080/"
        },
        "id": "qMdvFcGnW7Do",
        "outputId": "c336a04c-643c-46bd-bc31-92bf07be649b"
      },
      "outputs": [
        {
          "output_type": "stream",
          "name": "stdout",
          "text": [
            "Requirement already satisfied: plateauutils in /usr/local/lib/python3.10/dist-packages (0.0.14)\n",
            "Requirement already satisfied: click in /usr/local/lib/python3.10/dist-packages (from plateauutils) (8.1.7)\n",
            "Requirement already satisfied: numpy in /usr/local/lib/python3.10/dist-packages (from plateauutils) (1.26.2)\n",
            "Requirement already satisfied: pandas in /usr/local/lib/python3.10/dist-packages (from plateauutils) (1.5.3)\n",
            "Requirement already satisfied: pillow in /usr/local/lib/python3.10/dist-packages (from plateauutils) (9.4.0)\n",
            "Requirement already satisfied: py3dtiles in /usr/local/lib/python3.10/dist-packages (from plateauutils) (7.0.0)\n",
            "Requirement already satisfied: pyproj in /usr/local/lib/python3.10/dist-packages (from plateauutils) (3.6.1)\n",
            "Requirement already satisfied: reearthcmsapi in /usr/local/lib/python3.10/dist-packages (from plateauutils) (0.0.3)\n",
            "Requirement already satisfied: requests in /usr/local/lib/python3.10/dist-packages (from plateauutils) (2.31.0)\n",
            "Requirement already satisfied: shapely in /usr/local/lib/python3.10/dist-packages (from plateauutils) (2.0.2)\n",
            "Requirement already satisfied: tqdm in /usr/local/lib/python3.10/dist-packages (from plateauutils) (4.66.1)\n",
            "Requirement already satisfied: python-dateutil>=2.8.1 in /usr/local/lib/python3.10/dist-packages (from pandas->plateauutils) (2.8.2)\n",
            "Requirement already satisfied: pytz>=2020.1 in /usr/local/lib/python3.10/dist-packages (from pandas->plateauutils) (2023.3.post1)\n",
            "Requirement already satisfied: cython in /usr/local/lib/python3.10/dist-packages (from py3dtiles->plateauutils) (3.0.6)\n",
            "Requirement already satisfied: earcut==1.1.5 in /usr/local/lib/python3.10/dist-packages (from py3dtiles->plateauutils) (1.1.5)\n",
            "Requirement already satisfied: lz4 in /usr/local/lib/python3.10/dist-packages (from py3dtiles->plateauutils) (4.3.2)\n",
            "Requirement already satisfied: numba in /usr/local/lib/python3.10/dist-packages (from py3dtiles->plateauutils) (0.58.1)\n",
            "Requirement already satisfied: psutil in /usr/local/lib/python3.10/dist-packages (from py3dtiles->plateauutils) (5.9.5)\n",
            "Requirement already satisfied: pyzmq in /usr/local/lib/python3.10/dist-packages (from py3dtiles->plateauutils) (23.2.1)\n",
            "Requirement already satisfied: certifi in /usr/local/lib/python3.10/dist-packages (from pyproj->plateauutils) (2023.11.17)\n",
            "Requirement already satisfied: frozendict>=2.3.4 in /usr/local/lib/python3.10/dist-packages (from reearthcmsapi->plateauutils) (2.3.10)\n",
            "Requirement already satisfied: setuptools>=21.0.0 in /usr/local/lib/python3.10/dist-packages (from reearthcmsapi->plateauutils) (67.7.2)\n",
            "Requirement already satisfied: typing-extensions>=4.3.0 in /usr/local/lib/python3.10/dist-packages (from reearthcmsapi->plateauutils) (4.5.0)\n",
            "Requirement already satisfied: urllib3<2.1.0,>=1.26.7 in /usr/local/lib/python3.10/dist-packages (from reearthcmsapi->plateauutils) (2.0.7)\n",
            "Requirement already satisfied: charset-normalizer<4,>=2 in /usr/local/lib/python3.10/dist-packages (from requests->plateauutils) (3.3.2)\n",
            "Requirement already satisfied: idna<4,>=2.5 in /usr/local/lib/python3.10/dist-packages (from requests->plateauutils) (3.6)\n",
            "Requirement already satisfied: six>=1.5 in /usr/local/lib/python3.10/dist-packages (from python-dateutil>=2.8.1->pandas->plateauutils) (1.16.0)\n",
            "Requirement already satisfied: llvmlite<0.42,>=0.41.0dev0 in /usr/local/lib/python3.10/dist-packages (from numba->py3dtiles->plateauutils) (0.41.1)\n",
            "Requirement already satisfied: reearthcmsapi in /usr/local/lib/python3.10/dist-packages (0.0.3)\n",
            "Requirement already satisfied: certifi>=14.5.14 in /usr/local/lib/python3.10/dist-packages (from reearthcmsapi) (2023.11.17)\n",
            "Requirement already satisfied: frozendict>=2.3.4 in /usr/local/lib/python3.10/dist-packages (from reearthcmsapi) (2.3.10)\n",
            "Requirement already satisfied: python-dateutil>=2.7.0 in /usr/local/lib/python3.10/dist-packages (from reearthcmsapi) (2.8.2)\n",
            "Requirement already satisfied: setuptools>=21.0.0 in /usr/local/lib/python3.10/dist-packages (from reearthcmsapi) (67.7.2)\n",
            "Requirement already satisfied: typing-extensions>=4.3.0 in /usr/local/lib/python3.10/dist-packages (from reearthcmsapi) (4.5.0)\n",
            "Requirement already satisfied: urllib3<2.1.0,>=1.26.7 in /usr/local/lib/python3.10/dist-packages (from reearthcmsapi) (2.0.7)\n",
            "Requirement already satisfied: six>=1.5 in /usr/local/lib/python3.10/dist-packages (from python-dateutil>=2.7.0->reearthcmsapi) (1.16.0)\n",
            "Requirement already satisfied: numpy in /usr/local/lib/python3.10/dist-packages (1.26.2)\n",
            "Requirement already satisfied: scipy in /usr/local/lib/python3.10/dist-packages (1.11.4)\n",
            "Requirement already satisfied: numpy<1.28.0,>=1.21.6 in /usr/local/lib/python3.10/dist-packages (from scipy) (1.26.2)\n",
            "Requirement already satisfied: scikit-image in /usr/local/lib/python3.10/dist-packages (0.22.0)\n",
            "Requirement already satisfied: numpy>=1.22 in /usr/local/lib/python3.10/dist-packages (from scikit-image) (1.26.2)\n",
            "Requirement already satisfied: scipy>=1.8 in /usr/local/lib/python3.10/dist-packages (from scikit-image) (1.11.4)\n",
            "Requirement already satisfied: networkx>=2.8 in /usr/local/lib/python3.10/dist-packages (from scikit-image) (3.2.1)\n",
            "Requirement already satisfied: pillow>=9.0.1 in /usr/local/lib/python3.10/dist-packages (from scikit-image) (9.4.0)\n",
            "Requirement already satisfied: imageio>=2.27 in /usr/local/lib/python3.10/dist-packages (from scikit-image) (2.31.6)\n",
            "Requirement already satisfied: tifffile>=2022.8.12 in /usr/local/lib/python3.10/dist-packages (from scikit-image) (2023.12.9)\n",
            "Requirement already satisfied: packaging>=21 in /usr/local/lib/python3.10/dist-packages (from scikit-image) (23.2)\n",
            "Requirement already satisfied: lazy_loader>=0.3 in /usr/local/lib/python3.10/dist-packages (from scikit-image) (0.3)\n"
          ]
        }
      ],
      "source": [
        "#@title ライブラリインポート\n",
        "!pip install plateauutils\n",
        "!pip install reearthcmsapi\n",
        "!pip install --upgrade numpy\n",
        "!pip install --upgrade scipy\n",
        "!pip install --upgrade scikit-image\n",
        "\n",
        "import matplotlib.pyplot as plt\n",
        "import numpy as np\n",
        "from shapely import box\n",
        "#from scipy import interpolate\n",
        "from progressbar import progressbar\n",
        "import zipfile\n",
        "import os\n",
        "import sys\n",
        "import shutil\n",
        "import plateauutils\n",
        "import reearthcmsapi\n",
        "from plateauutils.flood_converter.flood_to_3dtiles import FloodTo3dtiles\n",
        "from plateauutils.flood_converter.flood_to_png import FloodToPng\n",
        "from reearthcmsapi.apis.tags import items_api\n",
        "from reearthcmsapi.model.versioned_item import VersionedItem\n",
        "from reearthcmsapi.model.asset_embedding import AssetEmbedding\n",
        "from reearthcmsapi.apis.tags import assets_project_api\n",
        "from reearthcmsapi.model.asset import Asset\n",
        "from pprint import pprint\n",
        "sys.path.append(path_home)\n",
        "import plateau_floodsar_lib as pfsl"
      ]
    },
    {
      "cell_type": "code",
      "execution_count": null,
      "metadata": {
        "id": "Ax-KhC5CvDsf"
      },
      "outputs": [],
      "source": [
        "if not os.path.exists(path_upload):\n",
        "  os.mkdir(path_upload)"
      ]
    },
    {
      "cell_type": "markdown",
      "source": [
        "## 浸水データ読み込みと楕円体高への変換、浸水カテゴリラスターの生成"
      ],
      "metadata": {
        "id": "iJ_df-c3ciIo"
      }
    },
    {
      "cell_type": "code",
      "execution_count": null,
      "metadata": {
        "colab": {
          "base_uri": "https://localhost:8080/"
        },
        "id": "2o2kk4vXww7X",
        "outputId": "aa4ed6f6-cb04-48fc-aeb2-c1b4851e96e3"
      },
      "outputs": [
        {
          "output_type": "stream",
          "name": "stdout",
          "text": [
            "[130.38311   32.991771 130.545845  33.103334]\n"
          ]
        }
      ],
      "source": [
        "# @title 領域の読み込み\n",
        "boundbox = np.load(file_fldbbox)\n",
        "print(boundbox)"
      ]
    },
    {
      "cell_type": "code",
      "execution_count": null,
      "metadata": {
        "colab": {
          "base_uri": "https://localhost:8080/"
        },
        "id": "Lq26Dl63xOnZ",
        "outputId": "3e322837-3ad7-43d3-bbd6-a10982b6437d",
        "cellView": "form"
      },
      "outputs": [
        {
          "output_type": "stream",
          "name": "stderr",
          "text": [
            "100% (1 of 1) |##########################| Elapsed Time: 0:00:00 Time:  0:00:00\n"
          ]
        },
        {
          "output_type": "stream",
          "name": "stdout",
          "text": [
            "POLYGON ((130.545845 32.991771, 130.545845 33.103334, 130.38311 33.103334, 130.38311 32.991771, 130.545845 32.991771))\n"
          ]
        }
      ],
      "source": [
        "# @title ジオイド高マップ取得\n",
        "bbox = box(*boundbox)\n",
        "print(bbox)\n",
        "ggh = pfsl.GiajGeoidHandler(path_home)\n",
        "ggh.load_dem_tiles(bbox)\n",
        "tile = ggh.produce_tile_stiched()\n",
        "geo_data = tile[\"geoid\"]\n",
        "geo_lons = tile[\"lons\"]\n",
        "geo_lats = tile[\"lats\"]\n",
        "idx_l = np.where(boundbox[0] <= geo_lons)[0][0]-1\n",
        "idx_h = np.where(boundbox[2] < geo_lons)[0][0]+1\n",
        "#print(idx_l, idx_h)\n",
        "idy_l = np.where(boundbox[3] >= geo_lats)[0][0]-1\n",
        "idy_h = np.where(boundbox[1] > geo_lats)[0][0]+1\n",
        "#print(idy_l, idy_h)\n",
        "geo_data = geo_data[idy_l:idy_h+1,idx_l:idx_h+1]\n",
        "geo_lons = geo_lons[idx_l:idx_h+1]\n",
        "geo_lats = geo_lats[idy_l:idy_h+1]"
      ]
    },
    {
      "cell_type": "code",
      "execution_count": null,
      "metadata": {
        "id": "mLNUCz483qf-"
      },
      "outputs": [],
      "source": [
        "#@title ジオイド高の確認\n",
        "if flg_checkDips:\n",
        "  print(boundbox)\n",
        "  boxline_x = [boundbox[0],boundbox[2],boundbox[2],boundbox[0],boundbox[0]]\n",
        "  boxline_y = [boundbox[1],boundbox[1],boundbox[3],boundbox[3],boundbox[1]]\n",
        "  ax =plt.subplot(1,1,1)\n",
        "  #img = ax.contourf(geo_data)#,levels=np.arange(1,cnt+10,10))\n",
        "  img = ax.contourf(geo_lons, geo_lats, geo_data)#,levels=np.arange(1,cnt+10,10))\n",
        "  plt.plot(boxline_x,boxline_y, \"r-\")\n",
        "  ax.axis(\"equal\")\n",
        "  plt.colorbar(img)"
      ]
    },
    {
      "cell_type": "code",
      "execution_count": null,
      "metadata": {
        "id": "NXhffCvCYHPT"
      },
      "outputs": [],
      "source": [
        "#@title 浸水DEMラスターの読み込みと確認\n",
        "dem_map = np.load(file_flooddem.format(int(maxdepth*100)))\n",
        "lons = dem_map[\"lons\"]\n",
        "lats = dem_map[\"lats\"]\n",
        "demmap = dem_map[\"floodmap_dem\"]\n",
        "\n",
        "if flg_checkDips:\n",
        "  ax =plt.subplot(1,1,1)\n",
        "  img = ax.contourf(lons,lats, demmap)#,levels=np.arange(0,maxdepth+0.1,0.25))\n",
        "  ax.axis(\"equal\")\n",
        "  plt.colorbar(img)"
      ]
    },
    {
      "cell_type": "code",
      "source": [
        "print(geo_lats)\n",
        "print(lats[10], geo_lats[len(np.where(geo_lats>lats[10])[0])-1])\n",
        "print(geo_lons)\n",
        "print(lons[3000], geo_lons[len(np.where(geo_lons<lons[3000])[0])-1])"
      ],
      "metadata": {
        "colab": {
          "base_uri": "https://localhost:8080/"
        },
        "id": "3loTvedJX9yl",
        "outputId": "b83ab0d2-9105-4b9e-d482-2de88b08635f"
      },
      "execution_count": null,
      "outputs": [
        {
          "output_type": "stream",
          "name": "stdout",
          "text": [
            "[33.10508369 33.10045327 33.09582285 33.09119243 33.08656201 33.08193159 33.07730117 33.07267075 33.06804033 33.06340991 33.05877949 33.05414907 33.04951865 33.04488823 33.04025782 33.0356274  33.03099698 33.02636656 33.02173614 33.01710572 33.0124753  33.00784488 33.00321446 32.99858404 32.99395362 32.9893232  32.98469278]\n",
            "33.10953405714065 32.98469277758815\n",
            "[130.38024902 130.38574219 130.39123535 130.39672852 130.40222168 130.40771484 130.41320801 130.41870117 130.42419434 130.4296875  130.43518066 130.44067383 130.44616699 130.45166016 130.45715332 130.46264648 130.46813965 130.47363281 130.47912598 130.48461914 130.4901123  130.49560547 130.50109863 130.5065918  130.51208496 130.51757812 130.52307129 130.52856445 130.53405762 130.53955078 130.54504395 130.55053711 130.55603027]\n",
            "130.50350189208984 130.5010986328125\n"
          ]
        }
      ]
    },
    {
      "cell_type": "code",
      "execution_count": null,
      "metadata": {
        "colab": {
          "base_uri": "https://localhost:8080/"
        },
        "id": "3AocEvd9cqec",
        "outputId": "3beb6edf-78dd-4ccc-bbee-30a2e4ae53b1"
      },
      "outputs": [
        {
          "output_type": "stream",
          "name": "stderr",
          "text": [
            "\r  0% (0 of 3328) |                       | Elapsed Time: 0:00:00 ETA:  --:--:--"
          ]
        },
        {
          "output_type": "stream",
          "name": "stdout",
          "text": [
            "27 33 (27, 33)\n"
          ]
        },
        {
          "output_type": "stream",
          "name": "stderr",
          "text": [
            "100% (3328 of 3328) |####################| Elapsed Time: 0:01:36 Time:  0:01:36\n"
          ]
        },
        {
          "output_type": "stream",
          "name": "stdout",
          "text": [
            "(3328, 4096) 32.879000000000005 32.5967\n"
          ]
        }
      ],
      "source": [
        "#@title 楕円体高への変換\n",
        "print(len(geo_lats), len(geo_lons), np.shape(geo_data))\n",
        "\n",
        "# scipy.interpolate is temporaly unavailable here\n",
        "# Once it is comming back, comment out the alternative code\n",
        "# and bring back the original code.\n",
        "\n",
        "#from scipy.interpolate import RectBivariateSpline\n",
        "#geoInterp = interpolate.RectBivariateSpline(geo_lats[::-1], geo_lons, geo_data[::-1,::])\n",
        "#tmp = geoInterp(lats[::-1],lons)[::-1,:]\n",
        "\n",
        "# original code ends here\n",
        "\n",
        "# alternative code starts here\n",
        "# with linear interpolation\n",
        "tmp = np.zeros_like(demmap)\n",
        "for jj in progressbar(np.arange(len(lats))):\n",
        "  idyl = len(np.where(geo_lats>lats[jj])[0])-1\n",
        "  wyh = (lats[jj]-geo_lats[idyl])/(geo_lats[idyl+1]-geo_lats[idyl])\n",
        "  wyl = 1-wyh\n",
        "  idyh = idyl+2\n",
        "  wryl = 0\n",
        "  wryh = 2\n",
        "  if idyl < 0:\n",
        "    idyl = 0\n",
        "    idyh = idyl + 1\n",
        "    wyh = 1\n",
        "    wryl = 1\n",
        "  elif idyl >= len(geo_lats):\n",
        "    idyl = len(geo_lats)-1\n",
        "    idyh = idyl + 1\n",
        "    wyl = 1\n",
        "    wryh = 1\n",
        "  for ii in np.arange(len(lons)):\n",
        "    idxl = len(np.where(geo_lons<lons[ii])[0])-1\n",
        "    wxh = (lons[jj]-geo_lons[idxl])/(geo_lons[idxl+1]-geo_lons[idxl])\n",
        "    wxl = 1-wxh\n",
        "    idxh = idxl+2\n",
        "    wrxl = 0\n",
        "    wrxh = 2\n",
        "    if idxl < 0:\n",
        "      idxl = 0\n",
        "      idxh = idxl + 1\n",
        "      wxh = 1\n",
        "      wrxl = 1\n",
        "    elif idxl >= len(geo_lons)-1:\n",
        "      idxl = len(geo_lons)-1\n",
        "      idxh = idxl + 1\n",
        "      wxl = 1\n",
        "      wrxh = 1\n",
        "\n",
        "    #weight = np.array([[wyl*wxl, wyl*wxh],[wyl*wxh, wyh*wxh]])\n",
        "    #print((idyl, idxl))#, weight[wryl:wryh,wrxl:wrxh],geo_data[idyl:idyh,idxl:idxh] )\n",
        "    #tmp[jj,ii] = np.sum(weight[wryl:wryh,wrxl:wrxh] * geo_data[idyl:idyh,idxl:idxh])\n",
        "    tmp[jj,ii] = geo_data[idyl,idxl]\n",
        "# alternative code ends here\n",
        "\n",
        "print(np.shape(tmp), np.max(tmp), np.min(tmp))\n",
        "geomap = demmap + tmp\n",
        "#print(\"\\nUp to \", len(lons))\n",
        "#for ii, lon in progressbar(enumerate(lons)):\n",
        "#  for jj,lat in enumerate(lats):\n",
        "#    demmap[jj,ii] += ggh.calc_dem_interp(lon, lat)"
      ]
    },
    {
      "cell_type": "code",
      "execution_count": null,
      "metadata": {
        "id": "nwMEVTjidn_j"
      },
      "outputs": [],
      "source": [
        "#@title 浸水ジオイド高確認用\n",
        "if flg_checkDips:\n",
        "  print((len(lons), len(lats), np.shape(geomap)))\n",
        "  ax =plt.subplot(1,2,1)\n",
        "  img = ax.contourf(lons,lats, geomap)#,levels=np.arange(0,maxdepth+0.1,0.25))\n",
        "  ax.axis(\"equal\")\n",
        "  plt.colorbar(img)\n",
        "\n",
        "  ax =plt.subplot(1,2,2)\n",
        "  img = ax.contourf(lons,lats, tmp)#,levels=np.arange(0,maxdepth+0.1,0.25))\n",
        "  ax.axis(\"equal\")\n",
        "  plt.colorbar(img)"
      ]
    },
    {
      "cell_type": "code",
      "source": [
        "#@title 浸水深ラスターの読み込みと確認\n",
        "depth_map = np.load(file_flooddepth.format(int(maxdepth*100)))\n",
        "depthmap = depth_map[\"floodmap_depth\"]\n",
        "\n",
        "if flg_checkDips:\n",
        "  ax =plt.subplot(1,1,1)\n",
        "  img = ax.contourf(lons,lats, depthmap)#,levels=np.arange(0,maxdepth+0.1,0.25))\n",
        "  ax.axis(\"equal\")\n",
        "  plt.colorbar(img)"
      ],
      "metadata": {
        "id": "i23G-ezJ1yEP"
      },
      "execution_count": null,
      "outputs": []
    },
    {
      "cell_type": "code",
      "source": [
        "#@title 浸水カテゴリラスターの生成と確認\n",
        "classificationmap = np.zeros_like(depthmap, dtype=\"int32\")\n",
        "classification_levels = [0,0.5,5,10,20]\n",
        "#classificationmap[np.where(depthmap >= classification_levels[2])] = len(classification_levels)\n",
        "#classificationmap[np.where(depthmap < classification_levels[1])] = len(classification_levels)\n",
        "for ii, vv in enumerate(classification_levels[::-1][:-1]):\n",
        "  print(ii, vv)\n",
        "  classificationmap[np.where(depthmap < vv)] = len(classification_levels) - ii\n",
        "\n",
        "if flg_checkDips:\n",
        "  ax =plt.subplot(1,1,1)\n",
        "  img = ax.contourf(lons,lats, classificationmap,levels=np.arange(-1,len(classification_levels)+1))\n",
        "  ax.axis(\"equal\")\n",
        "  plt.xlim([130.50, 130.53])\n",
        "  plt.ylim([33.32, 33.34])\n",
        "  plt.colorbar(img)"
      ],
      "metadata": {
        "colab": {
          "base_uri": "https://localhost:8080/"
        },
        "id": "8M7RJNNp5NMM",
        "outputId": "7c665816-202c-4442-8346-39c299c56177"
      },
      "execution_count": null,
      "outputs": [
        {
          "output_type": "stream",
          "name": "stdout",
          "text": [
            "0 20\n",
            "1 10\n",
            "2 5\n",
            "3 0.5\n"
          ]
        }
      ]
    },
    {
      "cell_type": "markdown",
      "source": [
        "## アップロード用タイルの生成"
      ],
      "metadata": {
        "id": "ykIi36gk1yeu"
      }
    },
    {
      "cell_type": "code",
      "execution_count": null,
      "metadata": {
        "id": "DYwWN3-jXvCI",
        "cellView": "form"
      },
      "outputs": [],
      "source": [
        "#@title XYZタイル分けされた点郡NPZファイルの生成関数\n",
        "#print(len(lats)/256.0, len(lons)/256.0)\n",
        "\n",
        "def save_tile_npz(lats,lons,map, classificationmap, zoom=15, dst_dir =\"temp/\"):\n",
        "  dir_zoom = dst_dir + f\"{zoom}/\"\n",
        "  if not os.path.exists(dir_zoom):\n",
        "    os.makedirs(dir_zoom)\n",
        "  res_lons = np.array([])\n",
        "  res_lats = np.array([])\n",
        "  res_maps = np.array([])\n",
        "  res_class = np.array([])\n",
        "  print(f\" / total loop num: {len(lats)/256}\")\n",
        "  for jj, tmp_lat in progressbar(enumerate(lats[::256])):\n",
        "    idj = jj*256\n",
        "    sublats = lats[idj:idj+256]\n",
        "    for ii, tmp_lon in enumerate(lons[::256]):\n",
        "      idi = ii*256\n",
        "      sublons = lons[idi:idi+256]\n",
        "      xx,yy  = pfsl.calc_xyz_from_lonlat(tmp_lon, tmp_lat, zoom)\n",
        "      #print(ii,jj, xx, yy)\n",
        "      submap = map[idj:idj+256,idi:idi+256]\n",
        "      subclass = classificationmap[idj:idj+256,idi:idi+256]\n",
        "      grd_lons, grd_lats  = np.meshgrid(sublons,sublats)\n",
        "      flt_lons = grd_lons.ravel()\n",
        "      flt_lats = grd_lats.ravel()\n",
        "      flt_map = submap.ravel()\n",
        "      flt_class = subclass.ravel()\n",
        "      #selected = [[lon,lat,dem] for lon, lat, dem in zip(flt_lons, flt_lats,flt_map) if not np.isnan(dem)]\n",
        "      #print(flt_lons[0:5])\n",
        "      #print(flt_lats[0:5])\n",
        "      #print(flt_map[0:5])\n",
        "      #print(ii, jj, f\"{subzoom}-{xx}-{yy}\", f\"{subzoom}-{chk_tile[0]}-{chk_tile[1]}\")\n",
        "      if not os.path.exists(f\"{dir_zoom}{xx}\"):\n",
        "        os.mkdir(f\"{dir_zoom}{xx}\")\n",
        "      np.savez(f\"{dir_zoom}{xx}/{yy}.npz\", lons=flt_lons, lats=flt_lats, dem=flt_map, classification=flt_class)\n",
        "      res_lons = np.append(res_lons, flt_lons)\n",
        "      res_lats = np.append(res_lats, flt_lats)\n",
        "      res_maps = np.append(res_maps, flt_map)\n",
        "      res_class = np.append(res_class, flt_class)\n",
        "  return res_lons, res_lats, res_maps, res_class\n"
      ]
    },
    {
      "cell_type": "code",
      "execution_count": null,
      "metadata": {
        "id": "iOECbMtsbNCE"
      },
      "outputs": [],
      "source": [
        "tilecnv = FloodTo3dtiles()"
      ]
    },
    {
      "cell_type": "code",
      "execution_count": null,
      "metadata": {
        "id": "68Cz5So9Y5F1",
        "colab": {
          "base_uri": "https://localhost:8080/",
          "height": 87
        },
        "outputId": "2005eb82-7c50-4b2b-b71f-248f8724dd1f"
      },
      "outputs": [
        {
          "output_type": "stream",
          "name": "stderr",
          "text": [
            "\r/ |#                                                  | 0 Elapsed Time: 0:00:00"
          ]
        },
        {
          "output_type": "stream",
          "name": "stdout",
          "text": [
            " / total loop num: 13.0\n"
          ]
        },
        {
          "output_type": "stream",
          "name": "stderr",
          "text": [
            "| |       #                                          | 12 Elapsed Time: 0:00:29\n"
          ]
        },
        {
          "output_type": "stream",
          "name": "stdout",
          "text": [
            " 100.0 % in 6 sec [est. time left: 0 sec]      "
          ]
        },
        {
          "output_type": "execute_result",
          "data": {
            "text/plain": [
              "'/content/drive/MyDrive/plateau-2023-uc01-satellite-analytics/PLATEAU-FloodSAR/omuta-r2-giaj/ForUpload/xyztile.zip'"
            ],
            "application/vnd.google.colaboratory.intrinsic+json": {
              "type": "string"
            }
          },
          "metadata": {},
          "execution_count": 38
        }
      ],
      "source": [
        "if os.path.exists(\"/ellipsoid_tmp\"):\n",
        "  !rm -rf /ellipsoid_tmp\n",
        "test_lons, test_lats, test_maps, test_class = save_tile_npz(lats,lons,geomap, classificationmap,dst_dir=\"/ellipsoid_tmp/\")\n",
        "#shutil.make_archive(path_upload+\"flood_xyznpz\",\"zip\", root_dir = \"/ellipsoid\")\n",
        "if os.path.exists(\"/3dtile_tmp\"):\n",
        "  !rm -rf /3dtile_tmp\n",
        "tilecnv.convert(\"/ellipsoid_tmp/\", \"/3dtile_tmp/\")\n",
        "shutil.make_archive(file_flood3Dtile_zip[:-4], 'zip', \"/3dtile_tmp/\")\n",
        "\n",
        "if os.path.exists(\"/XYZtile_tmp\"):\n",
        "  !rm -rf /tile_tmp\n",
        "p = FloodToPng(\"/ellipsoid_tmp/\")\n",
        "p.parse(\"/XYZtile_tmp/\")\n",
        "shutil.make_archive(file_floodXYZtile_zip[:-4], 'zip', \"/XYZtile_tmp/\")"
      ]
    },
    {
      "cell_type": "code",
      "execution_count": null,
      "metadata": {
        "id": "mmZ9yOy50DQ3",
        "colab": {
          "base_uri": "https://localhost:8080/",
          "height": 430
        },
        "outputId": "d034627b-a5ef-4690-d67e-ecc597ca4662"
      },
      "outputs": [
        {
          "output_type": "display_data",
          "data": {
            "text/plain": [
              "<Figure size 640x480 with 1 Axes>"
            ],
            "image/png": "[encoded data removed]"
          },
          "metadata": {}
        }
      ],
      "source": [
        "#@title 点郡確認用（CSV出力コードあり）\n",
        "if  True: #flg_checkDips:\n",
        "  plt_lons = test_lons[np.where(~np.isnan(test_maps))]\n",
        "  plt_lats = test_lats[np.where(~np.isnan(test_maps))]\n",
        "  plt_dems = test_maps[np.where(~np.isnan(test_maps))]\n",
        "  plt_clss = test_class[np.where(~np.isnan(test_maps))]\n",
        "  plt.scatter(plt_lons,plt_lats, s=0.5)\n",
        "  plt.axis(\"equal\")\n",
        "  if True: # Set True to produce CSV of 3d Tile information\n",
        "    with open(path_upload+\"3dtiles.csv\", \"w\") as ofile:\n",
        "      ofile.write(\"lon,lat,dem,category\\n\")\n",
        "      for tmplon, tmplat, tmpdem, tmpclss in zip(plt_lons, plt_lats, plt_dems, plt_clss):\n",
        "        ofile.write(f\"{tmplon},{tmplat},{tmpdem},{tmpclss}\\n\")"
      ]
    },
    {
      "cell_type": "markdown",
      "source": [
        "## Re:EarthCMSへのアップロード"
      ],
      "metadata": {
        "id": "AaeMrN67ayq_"
      }
    },
    {
      "cell_type": "code",
      "source": [
        "#@title Re:Earth CMSへのアップロード\n",
        "if integrationKey is not None and projectId is not None:\n",
        "  configuration = reearthcmsapi.Configuration(\n",
        "      host = \"https://api.cms.test.reearth.dev/api\",\n",
        "      access_token = integrationKey\n",
        "  )\n",
        "\n",
        "  client = reearthcmsapi.ApiClient(configuration)\n",
        "\n",
        "  api_client = reearthcmsapi.ApiClient(configuration)\n",
        "  api_instance = assets_project_api.AssetsProjectApi(api_client)\n",
        "\n",
        "  # Create an instance of the API class\n",
        "  api_instance = assets_project_api.AssetsProjectApi(api_client)\n",
        "  path_params = {\n",
        "      'projectId': projectId,\n",
        "  }\n",
        "\n",
        "  uploadlist = [\n",
        "      [file_flood3Dtile_zip, \"浸水域・浸水深（3Dタイル）\\n{ff}/tileset.json\"],\n",
        "      [file_floodXYZtile_zip, \"浸水域・浸水深（画像タイル）\\n{ff}/{z}/{x}/{y}.png\"],\n",
        "      [file_building_csv, \"建物被災状況（CSVファイル）\\n{ff}.csv\"],\n",
        "      [file_floodHeattile_yukauemokuzou_zip,\"被災建物・ヒートマップ画像タイル：床上（木造）\\n{ff}/{z}/{x}/{y}.png\"],\n",
        "      [file_floodHeattile_yukashitamokuzou_zip,\"被災建物・ヒートマップ画像タイル：床下（木造）\\n{ff}/{z}/{x}/{y}.png\"],\n",
        "      [file_floodHeattile_allmokuzou_zip,\"被災建物・ヒートマップ画像タイル:木造家屋総数\\n{ff}/{z}/{x}/{y}.png\"]\n",
        "  ]\n",
        "  #uploadlist = [\n",
        "  #    [file_building_csv, \"建物被災状況（CSVファイル）\\n{ff}.csv\"]\n",
        "  #]\n",
        "  outtxt = \"\"\n",
        "  for ff, txt in uploadlist:\n",
        "    if not os.path.exists(ff):\n",
        "      continue\n",
        "    body = dict(\n",
        "        file=open(ff, 'rb'),\n",
        "        skip_decompression=False,\n",
        "    )\n",
        "    try:\n",
        "        # Create an new asset.\n",
        "        api_response = api_instance.asset_create(\n",
        "            path_params=path_params,\n",
        "            body=body,\n",
        "        )\n",
        "        #pprint(api_response)\n",
        "        outtxt += txt.format(ff=api_response.body[\"url\"][:-4],x=\"{x}\",y=\"{y}\",z=\"{z}\")+\"\\n\\n\"\n",
        "    except reearthcmsapi.ApiException as e:\n",
        "        print(\"Exception when calling AssetsProjectApi->asset_create: %s\\n\" % e)\n",
        "\n",
        "  print(\"以下の情報をRe:Earth編集画面に入力してください。\")\n",
        "  print(\"------------------------------------------------\")\n",
        "  print(f\"観測日: {obsdate}\")\n",
        "  print(f\"観測衛星: {satellite}\")\n",
        "  print()\n",
        "  print(outtxt)\n",
        "else:\n",
        "  print(\"Re:Earth CMSへのアップロードは行われませんでした。\")"
      ],
      "metadata": {
        "colab": {
          "base_uri": "https://localhost:8080/"
        },
        "id": "YDWw8pmWXy7A",
        "outputId": "5eaa2618-30dc-49ff-9efd-8a8628dcac2a"
      },
      "execution_count": null,
      "outputs": [
        {
          "output_type": "stream",
          "name": "stdout",
          "text": [
            "以下の情報をRe:Earth編集画面に入力してください。\n",
            "------------------------------------------------\n",
            "観測日: 2020-07-07\n",
            "観測衛星: 国土地理院\n",
            "\n",
            "浸水域・浸水深（3Dタイル）\n",
            "https://asset.cms.test.reearth.dev/assets/56/b6d8d5-792c-4ee5-b28f-9d05aef34704/3dtiles/tileset.json\n",
            "\n",
            "浸水域・浸水深（画像タイル）\n",
            "https://asset.cms.test.reearth.dev/assets/00/aca4f1-cd7c-4a28-9ad4-bd1f8c6f97c9/xyztile/{z}/{x}/{y}.png\n",
            "\n",
            "建物被災状況（CSVファイル）\n",
            "https://asset.cms.test.reearth.dev/assets/a6/7a399a-792d-4574-b1fb-461ee391159b/buildings.csv\n",
            "\n",
            "被災建物・ヒートマップ画像タイル：床上（木造）\n",
            "https://asset.cms.test.reearth.dev/assets/e8/fb9c02-0046-484c-957f-540b1bbf5214/heatmap_yukaue_mokuzou/{z}/{x}/{y}.png\n",
            "\n",
            "被災建物・ヒートマップ画像タイル：床下（木造）\n",
            "https://asset.cms.test.reearth.dev/assets/df/94abcd-5fe0-4539-a5b4-91f37390f639/heatmap_yukashita_mokuzou/{z}/{x}/{y}.png\n",
            "\n",
            "被災建物・ヒートマップ画像タイル:木造家屋総数\n",
            "https://asset.cms.test.reearth.dev/assets/7c/08b29b-f2d6-4592-8a29-8c9fb27d1048/heatmap_all_mokuzou/{z}/{x}/{y}.png\n",
            "\n",
            "\n"
          ]
        }
      ]
    }
  ],
  "metadata": {
    "colab": {
      "provenance": []
    },
    "kernelspec": {
      "display_name": "Python 3",
      "name": "python3"
    },
    "language_info": {
      "name": "python"
    }
  },
  "nbformat": 4,
  "nbformat_minor": 0
}
