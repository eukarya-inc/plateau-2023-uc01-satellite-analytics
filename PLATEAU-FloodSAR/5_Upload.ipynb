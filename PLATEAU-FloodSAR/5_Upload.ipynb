{
  "cells": [
    {
      "cell_type": "markdown",
      "metadata": {
        "id": "plexmctqq0xV"
      },
      "source": [
        "建物データと浸水面標高ラスターデータから建物の被災データを生成。（必要手続き：Driveの接続）"
      ]
    },
    {
      "cell_type": "code",
      "execution_count": null,
      "metadata": {
        "colab": {
          "base_uri": "https://localhost:8080/"
        },
        "id": "6miOua5u8sih",
        "outputId": "3a961ab2-d9ce-4b30-fb60-c28da4985f07"
      },
      "outputs": [
        {
          "name": "stdout",
          "output_type": "stream",
          "text": [
            "Mounted at /content/drive\n"
          ]
        }
      ],
      "source": [
        "# @title Googleドライブの準備\n",
        "from google.colab import drive\n",
        "drive.mount('/content/drive')"
      ]
    },
    {
      "cell_type": "code",
      "execution_count": null,
      "metadata": {
        "id": "TiWIAVi6pnpm"
      },
      "outputs": [],
      "source": [
        "# @title 設定するパラメータ\n",
        "\n",
        "# ケース名：解析を通して使います。\n",
        "casename = \"kurume-r2-rev2\"\n",
        "\n",
        "# 浸水範囲を求める際に設定した最大水深\n",
        "maxdepth = 4.27\n"
      ]
    },
    {
      "cell_type": "code",
      "execution_count": null,
      "metadata": {
        "id": "mhTnXSVS8nCs"
      },
      "outputs": [],
      "source": [
        "# buildings_json_path = \"/content/drive/MyDrive/PLATEAU-FloodSAR/kurume-r2-dev/buildings_parsed.json\""
      ]
    },
    {
      "cell_type": "code",
      "execution_count": null,
      "metadata": {
        "id": "GmDsB5-EpfHS"
      },
      "outputs": [],
      "source": [
        "# @title 詳細設定用パラメータ（基本的には操作不要）\n",
        "\n",
        "enable_savefig = False # 図をGoogleドライブに保存する？\n",
        "\n",
        "zoomlevel = 15 # DEM zoom level to fetch\n",
        "\n",
        "# デバッグ用出力\n",
        "global globalflag_debug\n",
        "\n",
        "# 保存先\n",
        "path_home = \"/content/drive/MyDrive/plateau-2023-uc01-satellite-analytics/PLATEAU-FloodSAR/\"\n",
        "path_cgml = path_home + \"/CityGML/\"\n",
        "path_dem = path_home + \"/DEM/\"\n",
        "path_case = path_home + casename + \"/\"\n",
        "path_upload = path_case + \"ForUpload/\"\n",
        "file_flbbox = path_case + \"floodprb_bbox.npy\"\n",
        "json_boundary = path_case +\"boundary.json\"\n",
        "file_bbox = path_case + \"boundbox.npy\"\n",
        "\n",
        "file_flooddem = path_case + \"flood_dem_{:04d}.npz\"\n",
        "file_flooddepth = path_case + \"flood_depth_{:04d}.npz\"\n",
        "file_building_csv = path_case + \"flood_buildings.csv\"\n",
        "\n",
        "zipfile_flooddem_tile = path_upload + \"tile_flood_dem.zip\"\n",
        "zipfile_floodgeoid_tile = path_upload + \"tile_flood_geoid.zip\""
      ]
    },
    {
      "cell_type": "code",
      "execution_count": null,
      "metadata": {
        "cellView": "form",
        "colab": {
          "base_uri": "https://localhost:8080/",
          "height": 1000
        },
        "id": "qMdvFcGnW7Do",
        "outputId": "9cc738e4-329f-4363-d6c5-ad0fb298cd6f"
      },
      "outputs": [
        {
          "name": "stdout",
          "output_type": "stream",
          "text": [
            "Collecting plateauutils\n",
            "  Downloading plateauutils-0.0.12-py3-none-any.whl (66 kB)\n",
            "\u001b[2K     \u001b[90m━━━━━━━━━━━━━━━━━━━━━━━━━━━━━━━━━━━━━━━━\u001b[0m \u001b[32m66.8/66.8 kB\u001b[0m \u001b[31m1.4 MB/s\u001b[0m eta \u001b[36m0:00:00\u001b[0m\n",
            "\u001b[?25hRequirement already satisfied: click in /usr/local/lib/python3.10/dist-packages (from plateauutils) (8.1.7)\n",
            "Requirement already satisfied: numpy in /usr/local/lib/python3.10/dist-packages (from plateauutils) (1.23.5)\n",
            "Requirement already satisfied: pandas in /usr/local/lib/python3.10/dist-packages (from plateauutils) (1.5.3)\n",
            "Requirement already satisfied: pillow in /usr/local/lib/python3.10/dist-packages (from plateauutils) (9.4.0)\n",
            "Collecting py3dtiles (from plateauutils)\n",
            "  Downloading py3dtiles-6.0.0-py3-none-any.whl (99 kB)\n",
            "\u001b[2K     \u001b[90m━━━━━━━━━━━━━━━━━━━━━━━━━━━━━━━━━━━━━━━━\u001b[0m \u001b[32m99.7/99.7 kB\u001b[0m \u001b[31m7.8 MB/s\u001b[0m eta \u001b[36m0:00:00\u001b[0m\n",
            "\u001b[?25hRequirement already satisfied: pyproj in /usr/local/lib/python3.10/dist-packages (from plateauutils) (3.6.1)\n",
            "Collecting reearthcmsapi (from plateauutils)\n",
            "  Downloading reearthcmsapi-0.0.3-py3-none-any.whl (151 kB)\n",
            "\u001b[2K     \u001b[90m━━━━━━━━━━━━━━━━━━━━━━━━━━━━━━━━━━━━━━━━\u001b[0m \u001b[32m151.6/151.6 kB\u001b[0m \u001b[31m16.5 MB/s\u001b[0m eta \u001b[36m0:00:00\u001b[0m\n",
            "\u001b[?25hRequirement already satisfied: requests in /usr/local/lib/python3.10/dist-packages (from plateauutils) (2.31.0)\n",
            "Requirement already satisfied: shapely in /usr/local/lib/python3.10/dist-packages (from plateauutils) (2.0.2)\n",
            "Requirement already satisfied: tqdm in /usr/local/lib/python3.10/dist-packages (from plateauutils) (4.66.1)\n",
            "Requirement already satisfied: python-dateutil>=2.8.1 in /usr/local/lib/python3.10/dist-packages (from pandas->plateauutils) (2.8.2)\n",
            "Requirement already satisfied: pytz>=2020.1 in /usr/local/lib/python3.10/dist-packages (from pandas->plateauutils) (2023.3.post1)\n",
            "Requirement already satisfied: cython in /usr/local/lib/python3.10/dist-packages (from py3dtiles->plateauutils) (3.0.5)\n",
            "Collecting earcut==1.1.5 (from py3dtiles->plateauutils)\n",
            "  Downloading earcut-1.1.5.tar.gz (9.1 kB)\n",
            "  Preparing metadata (setup.py) ... \u001b[?25l\u001b[?25hdone\n",
            "Collecting laspy<3.0,>=2.0 (from py3dtiles->plateauutils)\n",
            "  Downloading laspy-2.5.1.tar.gz (1.6 MB)\n",
            "\u001b[2K     \u001b[90m━━━━━━━━━━━━━━━━━━━━━━━━━━━━━━━━━━━━━━━━\u001b[0m \u001b[32m1.6/1.6 MB\u001b[0m \u001b[31m42.7 MB/s\u001b[0m eta \u001b[36m0:00:00\u001b[0m\n",
            "\u001b[?25h  Installing build dependencies ... \u001b[?25l\u001b[?25hdone\n",
            "  Getting requirements to build wheel ... \u001b[?25l\u001b[?25hdone\n",
            "  Preparing metadata (pyproject.toml) ... \u001b[?25l\u001b[?25hdone\n",
            "Collecting lz4 (from py3dtiles->plateauutils)\n",
            "  Downloading lz4-4.3.2-cp310-cp310-manylinux_2_17_x86_64.manylinux2014_x86_64.whl (1.3 MB)\n",
            "\u001b[2K     \u001b[90m━━━━━━━━━━━━━━━━━━━━━━━━━━━━━━━━━━━━━━━━\u001b[0m \u001b[32m1.3/1.3 MB\u001b[0m \u001b[31m82.0 MB/s\u001b[0m eta \u001b[36m0:00:00\u001b[0m\n",
            "\u001b[?25hRequirement already satisfied: numba in /usr/local/lib/python3.10/dist-packages (from py3dtiles->plateauutils) (0.58.1)\n",
            "Collecting numpy (from plateauutils)\n",
            "  Downloading numpy-1.22.4-cp310-cp310-manylinux_2_17_x86_64.manylinux2014_x86_64.whl (16.8 MB)\n",
            "\u001b[2K     \u001b[90m━━━━━━━━━━━━━━━━━━━━━━━━━━━━━━━━━━━━━━━━\u001b[0m \u001b[32m16.8/16.8 MB\u001b[0m \u001b[31m54.0 MB/s\u001b[0m eta \u001b[36m0:00:00\u001b[0m\n",
            "\u001b[?25hCollecting plyfile (from py3dtiles->plateauutils)\n",
            "  Downloading plyfile-1.0.2-py3-none-any.whl (23 kB)\n",
            "Requirement already satisfied: psutil in /usr/local/lib/python3.10/dist-packages (from py3dtiles->plateauutils) (5.9.5)\n",
            "Collecting psycopg2-binary (from py3dtiles->plateauutils)\n",
            "  Downloading psycopg2_binary-2.9.9-cp310-cp310-manylinux_2_17_x86_64.manylinux2014_x86_64.whl (3.0 MB)\n",
            "\u001b[2K     \u001b[90m━━━━━━━━━━━━━━━━━━━━━━━━━━━━━━━━━━━━━━━━\u001b[0m \u001b[32m3.0/3.0 MB\u001b[0m \u001b[31m73.0 MB/s\u001b[0m eta \u001b[36m0:00:00\u001b[0m\n",
            "\u001b[?25hRequirement already satisfied: pyzmq in /usr/local/lib/python3.10/dist-packages (from py3dtiles->plateauutils) (23.2.1)\n",
            "Requirement already satisfied: certifi in /usr/local/lib/python3.10/dist-packages (from pyproj->plateauutils) (2023.7.22)\n",
            "Requirement already satisfied: frozendict>=2.3.4 in /usr/local/lib/python3.10/dist-packages (from reearthcmsapi->plateauutils) (2.3.8)\n",
            "Requirement already satisfied: setuptools>=21.0.0 in /usr/local/lib/python3.10/dist-packages (from reearthcmsapi->plateauutils) (67.7.2)\n",
            "Requirement already satisfied: typing-extensions>=4.3.0 in /usr/local/lib/python3.10/dist-packages (from reearthcmsapi->plateauutils) (4.5.0)\n",
            "Requirement already satisfied: urllib3<2.1.0,>=1.26.7 in /usr/local/lib/python3.10/dist-packages (from reearthcmsapi->plateauutils) (2.0.7)\n",
            "Requirement already satisfied: charset-normalizer<4,>=2 in /usr/local/lib/python3.10/dist-packages (from requests->plateauutils) (3.3.2)\n",
            "Requirement already satisfied: idna<4,>=2.5 in /usr/local/lib/python3.10/dist-packages (from requests->plateauutils) (3.4)\n",
            "Requirement already satisfied: six>=1.5 in /usr/local/lib/python3.10/dist-packages (from python-dateutil>=2.8.1->pandas->plateauutils) (1.16.0)\n",
            "Requirement already satisfied: llvmlite<0.42,>=0.41.0dev0 in /usr/local/lib/python3.10/dist-packages (from numba->py3dtiles->plateauutils) (0.41.1)\n",
            "Building wheels for collected packages: earcut, laspy\n",
            "  Building wheel for earcut (setup.py) ... \u001b[?25l\u001b[?25hdone\n",
            "  Created wheel for earcut: filename=earcut-1.1.5-py3-none-any.whl size=8734 sha256=689b65c5fa90db16311c8b0f9f6b8386db667b97238f9f90fcc3891b7e9b54f5\n",
            "  Stored in directory: /root/.cache/pip/wheels/1d/44/c4/ae3b04eee88104a19850c1cbc658fa398560c35ba5956faa79\n",
            "  Building wheel for laspy (pyproject.toml) ... \u001b[?25l\u001b[?25hdone\n",
            "  Created wheel for laspy: filename=laspy-2.5.1-py3-none-any.whl size=74908 sha256=b48e02d080d992641f758a9618e9932fc60855a89f106f109b40b2cd9ad8fd80\n",
            "  Stored in directory: /root/.cache/pip/wheels/04/ac/59/c76552f21ad08a44341a9cf0f7d0a7b1f5cebcfb0bb8d32265\n",
            "Successfully built earcut laspy\n",
            "Installing collected packages: psycopg2-binary, numpy, lz4, reearthcmsapi, plyfile, laspy, earcut, py3dtiles, plateauutils\n",
            "  Attempting uninstall: numpy\n",
            "    Found existing installation: numpy 1.23.5\n",
            "    Uninstalling numpy-1.23.5:\n",
            "      Successfully uninstalled numpy-1.23.5\n",
            "\u001b[31mERROR: pip's dependency resolver does not currently take into account all the packages that are installed. This behaviour is the source of the following dependency conflicts.\n",
            "lida 0.0.10 requires fastapi, which is not installed.\n",
            "lida 0.0.10 requires kaleido, which is not installed.\n",
            "lida 0.0.10 requires python-multipart, which is not installed.\n",
            "lida 0.0.10 requires uvicorn, which is not installed.\n",
            "plotnine 0.12.4 requires numpy>=1.23.0, but you have numpy 1.22.4 which is incompatible.\n",
            "tensorflow 2.14.0 requires numpy>=1.23.5, but you have numpy 1.22.4 which is incompatible.\u001b[0m\u001b[31m\n",
            "\u001b[0mSuccessfully installed earcut-1.1.5 laspy-2.5.1 lz4-4.3.2 numpy-1.22.4 plateauutils-0.0.12 plyfile-1.0.2 psycopg2-binary-2.9.9 py3dtiles-6.0.0 reearthcmsapi-0.0.3\n"
          ]
        },
        {
          "data": {
            "application/vnd.colab-display-data+json": {
              "pip_warning": {
                "packages": [
                  "numpy"
                ]
              }
            }
          },
          "metadata": {},
          "output_type": "display_data"
        }
      ],
      "source": [
        "#@title ライブラリインポート\n",
        "!pip install plateauutils\n",
        "import matplotlib.pyplot as plt\n",
        "import numpy as np\n",
        "from shapely import box\n",
        "from scipy import interpolate\n",
        "from progressbar import progressbar\n",
        "import os\n",
        "import sys\n",
        "import shutil\n",
        "import plateauutils\n",
        "sys.path.append(path_home)\n",
        "import plateau_floodsar_lib as pfsl"
      ]
    },
    {
      "cell_type": "code",
      "execution_count": null,
      "metadata": {
        "id": "Ax-KhC5CvDsf"
      },
      "outputs": [],
      "source": [
        "if not os.path.exists(path_upload):\n",
        "  os.mkdir(path_upload)"
      ]
    },
    {
      "cell_type": "code",
      "execution_count": null,
      "metadata": {
        "colab": {
          "base_uri": "https://localhost:8080/"
        },
        "id": "2o2kk4vXww7X",
        "outputId": "8ec3e171-1e8e-4c18-ce8f-1148174a6c20"
      },
      "outputs": [
        {
          "name": "stdout",
          "output_type": "stream",
          "text": [
            "[130.40008279  33.22512157 130.6999996   33.36663976]\n"
          ]
        }
      ],
      "source": [
        "# @title 領域の読み込み\n",
        "boundbox = np.load(file_flbbox)\n",
        "print(boundbox)"
      ]
    },
    {
      "cell_type": "code",
      "execution_count": null,
      "metadata": {
        "colab": {
          "base_uri": "https://localhost:8080/"
        },
        "id": "Lq26Dl63xOnZ",
        "outputId": "b2c90a24-f76e-4d14-e071-9d11eb040261"
      },
      "outputs": [
        {
          "name": "stdout",
          "output_type": "stream",
          "text": [
            "POLYGON ((130.69999959514536 33.225121566010124, 130.69999959514536 33.366639756095395, 130.40008279106954 33.366639756095395, 130.40008279106954 33.225121566010124, 130.69999959514536 33.225121566010124))\n"
          ]
        },
        {
          "name": "stderr",
          "output_type": "stream",
          "text": [
            "100% (1 of 1) |##########################| Elapsed Time: 0:00:00 Time:  0:00:00\n"
          ]
        }
      ],
      "source": [
        "# @title ジオイド高マップ取得\n",
        "bbox = box(*boundbox)\n",
        "print(bbox)\n",
        "ggh = pfsl.GiajGeoidHandler(path_home)\n",
        "ggh.load_dem_tiles(bbox)"
      ]
    },
    {
      "cell_type": "code",
      "execution_count": null,
      "metadata": {
        "id": "fKG_l-0N3ctN"
      },
      "outputs": [],
      "source": [
        "tile = ggh.produce_tile_stiched()\n",
        "geo_data = tile[\"geoid\"]\n",
        "geo_lons = tile[\"lons\"]\n",
        "geo_lats = tile[\"lats\"]\n",
        "idx_l = np.where(boundbox[0] <= geo_lons)[0][0]-1\n",
        "idx_h = np.where(boundbox[2] < geo_lons)[0][0]+1\n",
        "#print(idx_l, idx_h)\n",
        "idy_l = np.where(boundbox[3] >= geo_lats)[0][0]-1\n",
        "idy_h = np.where(boundbox[1] > geo_lats)[0][0]+1\n",
        "#print(idy_l, idy_h)\n",
        "geo_data = geo_data[idy_l:idy_h+1,idx_l:idx_h+1]\n",
        "geo_lons = geo_lons[idx_l:idx_h+1]\n",
        "geo_lats = geo_lats[idy_l:idy_h+1]"
      ]
    },
    {
      "cell_type": "code",
      "execution_count": null,
      "metadata": {
        "colab": {
          "base_uri": "https://localhost:8080/",
          "height": 470
        },
        "id": "mLNUCz483qf-",
        "outputId": "bca8f298-5647-47be-cb15-285bf3b85875"
      },
      "outputs": [
        {
          "name": "stdout",
          "output_type": "stream",
          "text": [
            "[130.40008279  33.22512157 130.6999996   33.36663976]\n"
          ]
        },
        {
          "data": {
            "text/plain": [
              "<matplotlib.colorbar.Colorbar at 0x7906f282b970>"
            ]
          },
          "execution_count": 10,
          "metadata": {},
          "output_type": "execute_result"
        },
        {
          "data": {
            "image/png": "[encoded data removed]",
            "text/plain": [
              "<Figure size 640x480 with 2 Axes>"
            ]
          },
          "metadata": {},
          "output_type": "display_data"
        }
      ],
      "source": [
        "#@title ジオイド高の確認\n",
        "print(boundbox)\n",
        "boxline_x = [boundbox[0],boundbox[2],boundbox[2],boundbox[0],boundbox[0]]\n",
        "boxline_y = [boundbox[1],boundbox[1],boundbox[3],boundbox[3],boundbox[1]]\n",
        "ax =plt.subplot(1,1,1)\n",
        "#img = ax.contourf(geo_data)#,levels=np.arange(1,cnt+10,10))\n",
        "img = ax.contourf(geo_lons, geo_lats, geo_data)#,levels=np.arange(1,cnt+10,10))\n",
        "plt.plot(boxline_x,boxline_y, \"r-\")\n",
        "ax.axis(\"equal\")\n",
        "plt.colorbar(img)"
      ]
    },
    {
      "cell_type": "code",
      "execution_count": null,
      "metadata": {
        "colab": {
          "base_uri": "https://localhost:8080/",
          "height": 452
        },
        "id": "NXhffCvCYHPT",
        "outputId": "9ac8963c-975b-4fa5-f2c2-81e78c159573"
      },
      "outputs": [
        {
          "data": {
            "text/plain": [
              "<matplotlib.colorbar.Colorbar at 0x7906e45cfe20>"
            ]
          },
          "execution_count": 11,
          "metadata": {},
          "output_type": "execute_result"
        },
        {
          "data": {
            "image/png": "[encoded data removed]",
            "text/plain": [
              "<Figure size 640x480 with 2 Axes>"
            ]
          },
          "metadata": {},
          "output_type": "display_data"
        }
      ],
      "source": [
        "#@title 浸水DEMラスターの読み込みと確認\n",
        "dem_map = np.load(file_flooddem.format(int(maxdepth*100)))\n",
        "lons = dem_map[\"lons\"]\n",
        "lats = dem_map[\"lats\"]\n",
        "demmap = dem_map[\"floodmap_dem\"]\n",
        "\n",
        "ax =plt.subplot(1,1,1)\n",
        "img = ax.contourf(lons,lats, demmap)#,levels=np.arange(0,maxdepth+0.1,0.25))\n",
        "ax.axis(\"equal\")\n",
        "plt.colorbar(img)"
      ]
    },
    {
      "cell_type": "code",
      "execution_count": null,
      "metadata": {
        "colab": {
          "base_uri": "https://localhost:8080/"
        },
        "id": "3AocEvd9cqec",
        "outputId": "a5597405-2384-4e1f-aea7-0a8cfe8ba757"
      },
      "outputs": [
        {
          "name": "stdout",
          "output_type": "stream",
          "text": [
            "34 58 (34, 58)\n",
            "(4096, 7168) 33.05213467648333 32.44529952016204\n"
          ]
        }
      ],
      "source": [
        "#@title 楕円体高への変換\n",
        "print(len(geo_lats), len(geo_lons), np.shape(geo_data))\n",
        "geoInterp = interpolate.RectBivariateSpline(geo_lats[::-1], geo_lons, geo_data[::-1,::])\n",
        "tmp = geoInterp(lats[::-1],lons)[::-1,:]\n",
        "print(np.shape(tmp), np.max(tmp), np.min(tmp))\n",
        "geomap = demmap + tmp\n",
        "#print(\"\\nUp to \", len(lons))\n",
        "#for ii, lon in progressbar(enumerate(lons)):\n",
        "#  for jj,lat in enumerate(lats):\n",
        "#    demmap[jj,ii] += ggh.calc_dem_interp(lon, lat)"
      ]
    },
    {
      "cell_type": "code",
      "execution_count": null,
      "metadata": {
        "colab": {
          "base_uri": "https://localhost:8080/",
          "height": 470
        },
        "id": "nwMEVTjidn_j",
        "outputId": "e76e03bd-f9c7-4ef7-a438-777ac1e75f81"
      },
      "outputs": [
        {
          "name": "stdout",
          "output_type": "stream",
          "text": [
            "(7168, 4096, (4096, 7168))\n"
          ]
        },
        {
          "data": {
            "text/plain": [
              "<matplotlib.colorbar.Colorbar at 0x7906c83665c0>"
            ]
          },
          "execution_count": 13,
          "metadata": {},
          "output_type": "execute_result"
        },
        {
          "data": {
            "image/png": "[encoded data removed]",
            "text/plain": [
              "<Figure size 640x480 with 2 Axes>"
            ]
          },
          "metadata": {},
          "output_type": "display_data"
        }
      ],
      "source": [
        "print((len(lons), len(lats), np.shape(geomap)))\n",
        "ax =plt.subplot(1,1,1)\n",
        "img = ax.contourf(lons,lats, geomap)#,levels=np.arange(0,maxdepth+0.1,0.25))\n",
        "ax.axis(\"equal\")\n",
        "plt.colorbar(img)"
      ]
    },
    {
      "cell_type": "code",
      "execution_count": null,
      "metadata": {
        "id": "DYwWN3-jXvCI"
      },
      "outputs": [],
      "source": [
        "#print(len(lats)/256.0, len(lons)/256.0)\n",
        "import zipfile\n",
        "import os\n",
        "\n",
        "def save_tile_npz(lats,lons,map,zoom=15, dst_dir =\"temp/\"):\n",
        "  dir_zoom = dst_dir + f\"{zoom}/\"\n",
        "  if not os.path.exists(dir_zoom):\n",
        "    os.makedirs(dir_zoom)\n",
        "  res_lons = np.array([])\n",
        "  res_lats = np.array([])\n",
        "  res_maps = np.array([])\n",
        "  for jj, tmp_lat in enumerate(lats[::256]):\n",
        "    idj = jj*256\n",
        "    sublats = lats[idj:idj+256]\n",
        "    for ii, tmp_lon in enumerate(lons[::256]):\n",
        "      idi = ii*256\n",
        "      sublons = lons[idi:idi+256]\n",
        "      xx,yy  = pfsl.calc_xyz_from_lonlat(tmp_lon, tmp_lat, zoom)\n",
        "      #print(ii,jj, xx, yy)\n",
        "      submap = map[idj:idj+256,idi:idi+256]\n",
        "      grd_lons, grd_lats  = np.meshgrid(sublons,sublats)\n",
        "      flt_lons = grd_lons.ravel()\n",
        "      flt_lats = grd_lats.ravel()\n",
        "      flt_map = submap.ravel()\n",
        "      #selected = [[lon,lat,dem] for lon, lat, dem in zip(flt_lons, flt_lats,flt_map) if not np.isnan(dem)]\n",
        "      #print(flt_lons[0:5])\n",
        "      #print(flt_lats[0:5])\n",
        "      #print(flt_map[0:5])\n",
        "      #print(ii, jj, f\"{subzoom}-{xx}-{yy}\", f\"{subzoom}-{chk_tile[0]}-{chk_tile[1]}\")\n",
        "      if not os.path.exists(f\"{dir_zoom}{xx}\"):\n",
        "        os.mkdir(f\"{dir_zoom}{xx}\")\n",
        "      np.savez(f\"{dir_zoom}{xx}/{yy}.npz\", lons=flt_lons, lats=flt_lats, map=flt_map)\n",
        "      res_lons = np.append(res_lons, flt_lons)\n",
        "      res_lats = np.append(res_lats, flt_lats)\n",
        "      res_maps = np.append(res_maps, flt_map)\n",
        "  return res_lons, res_lats, res_maps\n"
      ]
    },
    {
      "cell_type": "code",
      "execution_count": null,
      "metadata": {
        "id": "68Cz5So9Y5F1"
      },
      "outputs": [],
      "source": [
        "#save_tile_npz(lats,lons,demmap,dst_dir=\"flooddem/\")\n",
        "test_lons, test_lats, test_maps = save_tile_npz(lats,lons,geomap,dst_dir=\"ellipsoid/\")"
      ]
    },
    {
      "cell_type": "code",
      "execution_count": null,
      "metadata": {
        "id": "sjDAZ5Qj2LJM"
      },
      "outputs": [],
      "source": [
        "plt_lons = test_lons[np.where(~np.isnan(test_maps))]\n",
        "plt_lats = test_lats[np.where(~np.isnan(test_maps))]"
      ]
    },
    {
      "cell_type": "code",
      "execution_count": null,
      "metadata": {
        "colab": {
          "base_uri": "https://localhost:8080/",
          "height": 499
        },
        "id": "mmZ9yOy50DQ3",
        "outputId": "727363ed-2b5a-48ef-9748-168376708b02"
      },
      "outputs": [
        {
          "data": {
            "text/plain": [
              "(130.38335824012756,\n",
              " 130.67750430107117,\n",
              " 33.233095108745474,\n",
              " 33.373567742169115)"
            ]
          },
          "execution_count": 17,
          "metadata": {},
          "output_type": "execute_result"
        },
        {
          "data": {
            "image/png": "[encoded data removed]",
            "text/plain": [
              "<Figure size 640x480 with 1 Axes>"
            ]
          },
          "metadata": {},
          "output_type": "display_data"
        }
      ],
      "source": [
        "plt.scatter(plt_lons,plt_lats, s=0.5)\n",
        "plt.axis(\"equal\")"
      ]
    },
    {
      "cell_type": "code",
      "execution_count": null,
      "metadata": {
        "colab": {
          "base_uri": "https://localhost:8080/"
        },
        "id": "G2uG6mStap__",
        "outputId": "709d3433-ee01-44f4-f070-dba1d740b83c"
      },
      "outputs": [
        {
          "name": "stderr",
          "output_type": "stream",
          "text": [
            "/usr/local/lib/python3.10/dist-packages/py3dtiles/tilers/node/distance.py:22: NumbaDeprecationWarning: The 'nopython' keyword argument was not supplied to the 'numba.jit' decorator. The implicit default value for this argument is currently False, but it will be changed to True in Numba 0.59.0. See https://numba.readthedocs.io/en/stable/reference/deprecation.html#deprecation-of-object-mode-fall-back-behaviour-when-using-jit for details.\n",
            "  @jit(cache=True, nogil=True)\n"
          ]
        }
      ],
      "source": [
        "from plateauutils.flood_converter.flood_to_3dtiles import FloodTo3dtiles"
      ]
    },
    {
      "cell_type": "code",
      "execution_count": null,
      "metadata": {
        "id": "iOECbMtsbNCE"
      },
      "outputs": [],
      "source": [
        "tilecnv = FloodTo3dtiles()"
      ]
    },
    {
      "cell_type": "code",
      "execution_count": null,
      "metadata": {
        "id": "-bXc1gOqbm_n"
      },
      "outputs": [],
      "source": [
        "#tilecnv.convert(\"flooddem/\", path_upload+\"flood3dtile_dem/\")"
      ]
    },
    {
      "cell_type": "code",
      "execution_count": null,
      "metadata": {
        "id": "CyvzS0tGezK5"
      },
      "outputs": [],
      "source": [
        "#shutil.make_archive(path_upload+'flood3dtile_dem_zip', 'zip',  path_upload+\"flood3dtile_dem/\")"
      ]
    },
    {
      "cell_type": "code",
      "execution_count": null,
      "metadata": {
        "id": "Udr_3oo6PkwX"
      },
      "outputs": [],
      "source": [
        "# 出力先のディレクトリが存在していたら消すこと"
      ]
    },
    {
      "cell_type": "code",
      "execution_count": null,
      "metadata": {
        "id": "2P5GsE4cTebF"
      },
      "outputs": [],
      "source": [
        "path_flood3Dnpz = path_upload+\"flood3dtile_ellipsoid-flip/\""
      ]
    },
    {
      "cell_type": "code",
      "execution_count": null,
      "metadata": {
        "colab": {
          "base_uri": "https://localhost:8080/"
        },
        "id": "ZioHBQSUffVV",
        "outputId": "360bcdea-79c9-4763-b857-85823c0d19c0"
      },
      "outputs": [
        {
          "name": "stdout",
          "output_type": "stream",
          "text": [
            " 100.0 % in 354 sec [est. time left: 0 sec]      "
          ]
        }
      ],
      "source": [
        "tilecnv.convert(\"ellipsoid/\", path_flood3Dnpz)"
      ]
    },
    {
      "cell_type": "code",
      "execution_count": null,
      "metadata": {
        "colab": {
          "base_uri": "https://localhost:8080/",
          "height": 53
        },
        "id": "rVglTJHphX_E",
        "outputId": "421e26c1-af89-429c-d831-5d810cf7bf01"
      },
      "outputs": [
        {
          "data": {
            "application/vnd.google.colaboratory.intrinsic+json": {
              "type": "string"
            },
            "text/plain": [
              "'/content/drive/MyDrive/PLATEAU-FloodSAR/kurume-r2-rev2-check/ForUpload/flood3dtile_ellipsoid-flip_zip.zip'"
            ]
          },
          "execution_count": 25,
          "metadata": {},
          "output_type": "execute_result"
        }
      ],
      "source": [
        "shutil.make_archive(path_upload+'flood3dtile_ellipsoid-flip_zip', 'zip', path_flood3Dnpz)"
      ]
    },
    {
      "cell_type": "code",
      "execution_count": null,
      "metadata": {
        "id": "rdnaOc3MvvSO"
      },
      "outputs": [],
      "source": [
        "from plateauutils.flood_converter.flood_to_png import FloodToPng\n",
        "p = FloodToPng(\"ellipsoid/\")\n",
        "p.parse(path_upload+'ellipsoid_png')"
      ]
    },
    {
      "cell_type": "code",
      "execution_count": null,
      "metadata": {
        "colab": {
          "base_uri": "https://localhost:8080/"
        },
        "id": "x4FiO9ktJneX",
        "outputId": "d138e5e9-bf11-432e-84f3-8bb47adea273"
      },
      "outputs": [
        {
          "name": "stdout",
          "output_type": "stream",
          "text": [
            "Python 3.10.12\n"
          ]
        }
      ],
      "source": [
        "!python --version"
      ]
    }
  ],
  "metadata": {
    "colab": {
      "provenance": []
    },
    "kernelspec": {
      "display_name": "Python 3",
      "name": "python3"
    },
    "language_info": {
      "name": "python"
    }
  },
  "nbformat": 4,
  "nbformat_minor": 0
}
