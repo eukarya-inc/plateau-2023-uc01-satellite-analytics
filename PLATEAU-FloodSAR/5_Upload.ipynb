{
  "cells": [
    {
      "cell_type": "markdown",
      "metadata": {
        "id": "plexmctqq0xV"
      },
      "source": [
        "建物データと浸水面標高ラスターデータから建物の被災データを生成。（必要手続き：Driveの接続）\n",
        "\n",
        "integratinonKeyとprojectIDが共に設定されている場合、Re:EarthCMSへのアップロードを行います。最後に出力される各種URLを、Re:Earthの編集画面に入力してください。"
      ]
    },
    {
      "cell_type": "code",
      "execution_count": 1,
      "metadata": {
        "colab": {
          "base_uri": "https://localhost:8080/"
        },
        "id": "6miOua5u8sih",
        "outputId": "ae4d208c-a613-4683-baf9-64a047006f00"
      },
      "outputs": [
        {
          "output_type": "stream",
          "name": "stdout",
          "text": [
            "Mounted at /content/drive\n"
          ]
        }
      ],
      "source": [
        "# @title Googleドライブの準備\n",
        "from google.colab import drive\n",
        "drive.mount('/content/drive')"
      ]
    },
    {
      "cell_type": "code",
      "execution_count": 2,
      "metadata": {
        "id": "TiWIAVi6pnpm"
      },
      "outputs": [],
      "source": [
        "# @title 設定するパラメータ\n",
        "\n",
        "# ケース名：解析を通して使います。\n",
        "casename = \"kurume-r2\"\n",
        "\n",
        "obsdate = \"2020-07-10\"\n",
        "satellite = \"Sentinel-1\"\n",
        "\n",
        "# 浸水範囲を求める際に設定した最大水深\n",
        "maxdepth = 4.27\n",
        "\n",
        "# Re:Earthへのアップロード用\n",
        "# 片方でも None の場合はアップロードされません。\n",
        "integrationKey = None # インテグレーションキー（文字列）\n",
        "projectId = None # プロジェクトページのURLより（文字列）\n",
        "\n",
        "# 確認用画像出力用フラグ\n",
        "flg_checkDips = False"
      ]
    },
    {
      "cell_type": "code",
      "execution_count": 3,
      "metadata": {
        "id": "GmDsB5-EpfHS"
      },
      "outputs": [],
      "source": [
        "# @title 詳細設定用パラメータ（基本的には操作不要）\n",
        "\n",
        "enable_savefig = False # 図をGoogleドライブに保存する？\n",
        "\n",
        "zoomlevel = 15 # DEM zoom level to fetch\n",
        "\n",
        "# デバッグ用出力\n",
        "global globalflag_debug\n",
        "\n",
        "# 保存先\n",
        "path_home = \"/content/drive/MyDrive/plateau-2023-uc01-satellite-analytics/PLATEAU-FloodSAR/\"\n",
        "#path_cgml = path_home + \"/CityGML/\"\n",
        "path_dem = path_home + \"/DEM/\"\n",
        "path_case = path_home + casename + \"/\"\n",
        "path_upload = path_case + \"ForUpload/\"\n",
        "file_flbbox = path_case + \"floodprb_bbox.npy\"\n",
        "json_boundary = path_case +\"boundary.json\"\n",
        "file_bbox = path_case + \"boundbox.npy\"\n",
        "\n",
        "file_flooddem = path_case + \"flood_dem_{:04d}.npz\"\n",
        "file_flooddepth = path_case + \"flood_depth_{:04d}.npz\"\n",
        "file_building_csv = path_upload + \"buildings.csv\"\n",
        "\n",
        "path_flood3Dtile_tmp =  \"flood3dtile_depth/\"\n",
        "path_deltphtile_tmp = \"ellipsoid_xyztiles/\"\n",
        "file_flood3Dtile_zip = path_upload+\"3dtiles.zip\"\n",
        "file_floodXYZtile_zip = path_upload+\"xyztile.zip\"\n",
        "file_floodHeattile_yukauemokuzou_zip = path_upload+\"heatmap_yukaue_mokuzou.zip\"\n",
        "file_floodHeattile_yukashitamokuzou_zip = path_upload+\"heatmap_yukashita_mokuzou.zip\"\n",
        "file_floodHeattile_allmokuzou_zip = path_upload+\"heatmap_all_mokuzou.zip\""
      ]
    },
    {
      "cell_type": "code",
      "execution_count": 4,
      "metadata": {
        "colab": {
          "base_uri": "https://localhost:8080/",
          "height": 1000
        },
        "id": "qMdvFcGnW7Do",
        "outputId": "07e88a17-8279-49af-88f8-8fd118014f43",
        "cellView": "form"
      },
      "outputs": [
        {
          "output_type": "stream",
          "name": "stdout",
          "text": [
            "Collecting plateauutils\n",
            "  Cloning https://github.com/eukarya-inc/plateauutils.git (to revision main) to /tmp/pip-install-j2oz6q6t/plateauutils_2ae413365e704c298c3ca7f0b19bd53d\n",
            "  Running command git clone --filter=blob:none --quiet https://github.com/eukarya-inc/plateauutils.git /tmp/pip-install-j2oz6q6t/plateauutils_2ae413365e704c298c3ca7f0b19bd53d\n",
            "  Resolved https://github.com/eukarya-inc/plateauutils.git to commit 988d053eae5ff3b0bd9e23445fdb6171796a418f\n",
            "  Installing build dependencies ... \u001b[?25l\u001b[?25hdone\n",
            "  Getting requirements to build wheel ... \u001b[?25l\u001b[?25hdone\n",
            "  Preparing metadata (pyproject.toml) ... \u001b[?25l\u001b[?25hdone\n",
            "Collecting py3dtiles@ git+https://gitlab.com/Oslandia/py3dtiles.git@489289d2f7310fbcb8e95710e250d893999adf5d (from plateauutils)\n",
            "  Cloning https://gitlab.com/Oslandia/py3dtiles.git (to revision 489289d2f7310fbcb8e95710e250d893999adf5d) to /tmp/pip-install-j2oz6q6t/py3dtiles_d83431a2e12b41998020106445fa5ff5\n",
            "  Running command git clone --filter=blob:none --quiet https://gitlab.com/Oslandia/py3dtiles.git /tmp/pip-install-j2oz6q6t/py3dtiles_d83431a2e12b41998020106445fa5ff5\n",
            "  Running command git rev-parse -q --verify 'sha^489289d2f7310fbcb8e95710e250d893999adf5d'\n",
            "  Running command git fetch -q https://gitlab.com/Oslandia/py3dtiles.git 489289d2f7310fbcb8e95710e250d893999adf5d\n",
            "  Running command git checkout -q 489289d2f7310fbcb8e95710e250d893999adf5d\n",
            "  Resolved https://gitlab.com/Oslandia/py3dtiles.git to commit 489289d2f7310fbcb8e95710e250d893999adf5d\n",
            "  Preparing metadata (setup.py) ... \u001b[?25l\u001b[?25hdone\n",
            "Requirement already satisfied: click in /usr/local/lib/python3.10/dist-packages (from plateauutils) (8.1.7)\n",
            "Requirement already satisfied: numpy in /usr/local/lib/python3.10/dist-packages (from plateauutils) (1.23.5)\n",
            "Requirement already satisfied: pandas in /usr/local/lib/python3.10/dist-packages (from plateauutils) (1.5.3)\n",
            "Requirement already satisfied: pillow in /usr/local/lib/python3.10/dist-packages (from plateauutils) (9.4.0)\n",
            "Requirement already satisfied: pyproj in /usr/local/lib/python3.10/dist-packages (from plateauutils) (3.6.1)\n",
            "Collecting reearthcmsapi (from plateauutils)\n",
            "  Downloading reearthcmsapi-0.0.3-py3-none-any.whl (151 kB)\n",
            "\u001b[2K     \u001b[90m━━━━━━━━━━━━━━━━━━━━━━━━━━━━━━━━━━━━━━━━\u001b[0m \u001b[32m151.6/151.6 kB\u001b[0m \u001b[31m3.9 MB/s\u001b[0m eta \u001b[36m0:00:00\u001b[0m\n",
            "\u001b[?25hRequirement already satisfied: requests in /usr/local/lib/python3.10/dist-packages (from plateauutils) (2.31.0)\n",
            "Requirement already satisfied: shapely in /usr/local/lib/python3.10/dist-packages (from plateauutils) (2.0.2)\n",
            "Requirement already satisfied: tqdm in /usr/local/lib/python3.10/dist-packages (from plateauutils) (4.66.1)\n",
            "Requirement already satisfied: python-dateutil>=2.8.1 in /usr/local/lib/python3.10/dist-packages (from pandas->plateauutils) (2.8.2)\n",
            "Requirement already satisfied: pytz>=2020.1 in /usr/local/lib/python3.10/dist-packages (from pandas->plateauutils) (2023.3.post1)\n",
            "Requirement already satisfied: cython in /usr/local/lib/python3.10/dist-packages (from py3dtiles@ git+https://gitlab.com/Oslandia/py3dtiles.git@489289d2f7310fbcb8e95710e250d893999adf5d->plateauutils) (3.0.6)\n",
            "Collecting earcut==1.1.5 (from py3dtiles@ git+https://gitlab.com/Oslandia/py3dtiles.git@489289d2f7310fbcb8e95710e250d893999adf5d->plateauutils)\n",
            "  Downloading earcut-1.1.5.tar.gz (9.1 kB)\n",
            "  Preparing metadata (setup.py) ... \u001b[?25l\u001b[?25hdone\n",
            "Collecting lz4 (from py3dtiles@ git+https://gitlab.com/Oslandia/py3dtiles.git@489289d2f7310fbcb8e95710e250d893999adf5d->plateauutils)\n",
            "  Downloading lz4-4.3.2-cp310-cp310-manylinux_2_17_x86_64.manylinux2014_x86_64.whl (1.3 MB)\n",
            "\u001b[2K     \u001b[90m━━━━━━━━━━━━━━━━━━━━━━━━━━━━━━━━━━━━━━━━\u001b[0m \u001b[32m1.3/1.3 MB\u001b[0m \u001b[31m16.2 MB/s\u001b[0m eta \u001b[36m0:00:00\u001b[0m\n",
            "\u001b[?25hRequirement already satisfied: numba in /usr/local/lib/python3.10/dist-packages (from py3dtiles@ git+https://gitlab.com/Oslandia/py3dtiles.git@489289d2f7310fbcb8e95710e250d893999adf5d->plateauutils) (0.58.1)\n",
            "Collecting numpy (from plateauutils)\n",
            "  Downloading numpy-1.22.4-cp310-cp310-manylinux_2_17_x86_64.manylinux2014_x86_64.whl (16.8 MB)\n",
            "\u001b[2K     \u001b[90m━━━━━━━━━━━━━━━━━━━━━━━━━━━━━━━━━━━━━━━━\u001b[0m \u001b[32m16.8/16.8 MB\u001b[0m \u001b[31m60.6 MB/s\u001b[0m eta \u001b[36m0:00:00\u001b[0m\n",
            "\u001b[?25hRequirement already satisfied: psutil in /usr/local/lib/python3.10/dist-packages (from py3dtiles@ git+https://gitlab.com/Oslandia/py3dtiles.git@489289d2f7310fbcb8e95710e250d893999adf5d->plateauutils) (5.9.5)\n",
            "Requirement already satisfied: pyzmq in /usr/local/lib/python3.10/dist-packages (from py3dtiles@ git+https://gitlab.com/Oslandia/py3dtiles.git@489289d2f7310fbcb8e95710e250d893999adf5d->plateauutils) (23.2.1)\n",
            "Requirement already satisfied: certifi in /usr/local/lib/python3.10/dist-packages (from pyproj->plateauutils) (2023.11.17)\n",
            "Requirement already satisfied: frozendict>=2.3.4 in /usr/local/lib/python3.10/dist-packages (from reearthcmsapi->plateauutils) (2.3.10)\n",
            "Requirement already satisfied: setuptools>=21.0.0 in /usr/local/lib/python3.10/dist-packages (from reearthcmsapi->plateauutils) (67.7.2)\n",
            "Requirement already satisfied: typing-extensions>=4.3.0 in /usr/local/lib/python3.10/dist-packages (from reearthcmsapi->plateauutils) (4.5.0)\n",
            "Requirement already satisfied: urllib3<2.1.0,>=1.26.7 in /usr/local/lib/python3.10/dist-packages (from reearthcmsapi->plateauutils) (2.0.7)\n",
            "Requirement already satisfied: charset-normalizer<4,>=2 in /usr/local/lib/python3.10/dist-packages (from requests->plateauutils) (3.3.2)\n",
            "Requirement already satisfied: idna<4,>=2.5 in /usr/local/lib/python3.10/dist-packages (from requests->plateauutils) (3.6)\n",
            "Requirement already satisfied: six>=1.5 in /usr/local/lib/python3.10/dist-packages (from python-dateutil>=2.8.1->pandas->plateauutils) (1.16.0)\n",
            "Requirement already satisfied: llvmlite<0.42,>=0.41.0dev0 in /usr/local/lib/python3.10/dist-packages (from numba->py3dtiles@ git+https://gitlab.com/Oslandia/py3dtiles.git@489289d2f7310fbcb8e95710e250d893999adf5d->plateauutils) (0.41.1)\n",
            "Building wheels for collected packages: plateauutils, py3dtiles, earcut\n",
            "  Building wheel for plateauutils (pyproject.toml) ... \u001b[?25l\u001b[?25hdone\n",
            "  Created wheel for plateauutils: filename=plateauutils-0.0.13-py3-none-any.whl size=414429 sha256=691148830ee7b46b5c9eab50c8011fe360871d3ec173581635248ee9363500b2\n",
            "  Stored in directory: /tmp/pip-ephem-wheel-cache-mfjccc8w/wheels/cd/7e/1a/7abef4942e7fa9e69ea17cd37bdc193a7c502f36600fd3a008\n",
            "  Building wheel for py3dtiles (setup.py) ... \u001b[?25l\u001b[?25hdone\n",
            "  Created wheel for py3dtiles: filename=py3dtiles-6.0.0-py3-none-any.whl size=101648 sha256=b45620283522a41fc03c777fab52028d20b40245caaaa7ea945feb8a619d132e\n",
            "  Stored in directory: /root/.cache/pip/wheels/35/1a/85/a82737c34ffa0e2e408aa039e66acfd41030b36c36a1153742\n",
            "  Building wheel for earcut (setup.py) ... \u001b[?25l\u001b[?25hdone\n",
            "  Created wheel for earcut: filename=earcut-1.1.5-py3-none-any.whl size=8738 sha256=74cf41548ecb62a5691fc7246736e989a5f841b6cac2cf86b0d2eccec43036fd\n",
            "  Stored in directory: /root/.cache/pip/wheels/1d/44/c4/ae3b04eee88104a19850c1cbc658fa398560c35ba5956faa79\n",
            "Successfully built plateauutils py3dtiles earcut\n",
            "Installing collected packages: numpy, lz4, reearthcmsapi, earcut, py3dtiles, plateauutils\n",
            "  Attempting uninstall: numpy\n",
            "    Found existing installation: numpy 1.23.5\n",
            "    Uninstalling numpy-1.23.5:\n",
            "      Successfully uninstalled numpy-1.23.5\n",
            "\u001b[31mERROR: pip's dependency resolver does not currently take into account all the packages that are installed. This behaviour is the source of the following dependency conflicts.\n",
            "lida 0.0.10 requires fastapi, which is not installed.\n",
            "lida 0.0.10 requires kaleido, which is not installed.\n",
            "lida 0.0.10 requires python-multipart, which is not installed.\n",
            "lida 0.0.10 requires uvicorn, which is not installed.\n",
            "plotnine 0.12.4 requires numpy>=1.23.0, but you have numpy 1.22.4 which is incompatible.\n",
            "tensorflow 2.14.0 requires numpy>=1.23.5, but you have numpy 1.22.4 which is incompatible.\u001b[0m\u001b[31m\n",
            "\u001b[0mSuccessfully installed earcut-1.1.5 lz4-4.3.2 numpy-1.22.4 plateauutils-0.0.13 py3dtiles-6.0.0 reearthcmsapi-0.0.3\n"
          ]
        },
        {
          "output_type": "display_data",
          "data": {
            "application/vnd.colab-display-data+json": {
              "pip_warning": {
                "packages": [
                  "numpy"
                ]
              }
            }
          },
          "metadata": {}
        },
        {
          "output_type": "stream",
          "name": "stdout",
          "text": [
            "Requirement already satisfied: reearthcmsapi in /usr/local/lib/python3.10/dist-packages (0.0.3)\n",
            "Requirement already satisfied: certifi>=14.5.14 in /usr/local/lib/python3.10/dist-packages (from reearthcmsapi) (2023.11.17)\n",
            "Requirement already satisfied: frozendict>=2.3.4 in /usr/local/lib/python3.10/dist-packages (from reearthcmsapi) (2.3.10)\n",
            "Requirement already satisfied: python-dateutil>=2.7.0 in /usr/local/lib/python3.10/dist-packages (from reearthcmsapi) (2.8.2)\n",
            "Requirement already satisfied: setuptools>=21.0.0 in /usr/local/lib/python3.10/dist-packages (from reearthcmsapi) (67.7.2)\n",
            "Requirement already satisfied: typing-extensions>=4.3.0 in /usr/local/lib/python3.10/dist-packages (from reearthcmsapi) (4.5.0)\n",
            "Requirement already satisfied: urllib3<2.1.0,>=1.26.7 in /usr/local/lib/python3.10/dist-packages (from reearthcmsapi) (2.0.7)\n",
            "Requirement already satisfied: six>=1.5 in /usr/local/lib/python3.10/dist-packages (from python-dateutil>=2.7.0->reearthcmsapi) (1.16.0)\n"
          ]
        },
        {
          "output_type": "stream",
          "name": "stderr",
          "text": [
            "/usr/local/lib/python3.10/dist-packages/py3dtiles/tilers/node/distance.py:22: NumbaDeprecationWarning: The 'nopython' keyword argument was not supplied to the 'numba.jit' decorator. The implicit default value for this argument is currently False, but it will be changed to True in Numba 0.59.0. See https://numba.readthedocs.io/en/stable/reference/deprecation.html#deprecation-of-object-mode-fall-back-behaviour-when-using-jit for details.\n",
            "  @jit(cache=True, nogil=True)\n"
          ]
        }
      ],
      "source": [
        "#@title ライブラリインポート\n",
        "#!pip install plateauutils\n",
        "!pip install git+https://github.com/eukarya-inc/plateauutils.git@main#egg=plateauutils\n",
        "!pip install reearthcmsapi\n",
        "import matplotlib.pyplot as plt\n",
        "import numpy as np\n",
        "from shapely import box\n",
        "from scipy import interpolate\n",
        "from progressbar import progressbar\n",
        "import zipfile\n",
        "import os\n",
        "import sys\n",
        "import shutil\n",
        "import plateauutils\n",
        "import reearthcmsapi\n",
        "from plateauutils.flood_converter.flood_to_3dtiles import FloodTo3dtiles\n",
        "from plateauutils.flood_converter.flood_to_png import FloodToPng\n",
        "from reearthcmsapi.apis.tags import items_api\n",
        "from reearthcmsapi.model.versioned_item import VersionedItem\n",
        "from reearthcmsapi.model.asset_embedding import AssetEmbedding\n",
        "from reearthcmsapi.apis.tags import assets_project_api\n",
        "from reearthcmsapi.model.asset import Asset\n",
        "from pprint import pprint\n",
        "sys.path.append(path_home)\n",
        "import plateau_floodsar_lib as pfsl"
      ]
    },
    {
      "cell_type": "code",
      "execution_count": 5,
      "metadata": {
        "id": "Ax-KhC5CvDsf"
      },
      "outputs": [],
      "source": [
        "if not os.path.exists(path_upload):\n",
        "  os.mkdir(path_upload)"
      ]
    },
    {
      "cell_type": "markdown",
      "source": [
        "## 浸水データ読み込みと楕円体高への変換、浸水カテゴリラスターの生成"
      ],
      "metadata": {
        "id": "iJ_df-c3ciIo"
      }
    },
    {
      "cell_type": "code",
      "execution_count": 6,
      "metadata": {
        "colab": {
          "base_uri": "https://localhost:8080/"
        },
        "id": "2o2kk4vXww7X",
        "outputId": "537c8a46-ea0d-4042-f2fc-3327cbf69321",
        "cellView": "form"
      },
      "outputs": [
        {
          "output_type": "stream",
          "name": "stdout",
          "text": [
            "[130.378532  33.214563 130.763741  33.406511]\n"
          ]
        }
      ],
      "source": [
        "# @title 領域の読み込み\n",
        "boundbox = np.load(file_flbbox)\n",
        "print(boundbox)"
      ]
    },
    {
      "cell_type": "code",
      "execution_count": 7,
      "metadata": {
        "colab": {
          "base_uri": "https://localhost:8080/"
        },
        "id": "Lq26Dl63xOnZ",
        "outputId": "f3ca8c49-6faa-437b-8958-3a470c5ffc5f",
        "cellView": "form"
      },
      "outputs": [
        {
          "output_type": "stream",
          "name": "stdout",
          "text": [
            "POLYGON ((130.763741 33.214563, 130.763741 33.406511, 130.378532 33.406511, 130.378532 33.214563, 130.763741 33.214563))\n"
          ]
        },
        {
          "output_type": "stream",
          "name": "stderr",
          "text": [
            "100% (1 of 1) |##########################| Elapsed Time: 0:00:01 Time:  0:00:01\n"
          ]
        }
      ],
      "source": [
        "# @title ジオイド高マップ取得\n",
        "bbox = box(*boundbox)\n",
        "print(bbox)\n",
        "ggh = pfsl.GiajGeoidHandler(path_home)\n",
        "ggh.load_dem_tiles(bbox)\n",
        "tile = ggh.produce_tile_stiched()\n",
        "geo_data = tile[\"geoid\"]\n",
        "geo_lons = tile[\"lons\"]\n",
        "geo_lats = tile[\"lats\"]\n",
        "idx_l = np.where(boundbox[0] <= geo_lons)[0][0]-1\n",
        "idx_h = np.where(boundbox[2] < geo_lons)[0][0]+1\n",
        "#print(idx_l, idx_h)\n",
        "idy_l = np.where(boundbox[3] >= geo_lats)[0][0]-1\n",
        "idy_h = np.where(boundbox[1] > geo_lats)[0][0]+1\n",
        "#print(idy_l, idy_h)\n",
        "geo_data = geo_data[idy_l:idy_h+1,idx_l:idx_h+1]\n",
        "geo_lons = geo_lons[idx_l:idx_h+1]\n",
        "geo_lats = geo_lats[idy_l:idy_h+1]"
      ]
    },
    {
      "cell_type": "code",
      "execution_count": 8,
      "metadata": {
        "id": "mLNUCz483qf-",
        "cellView": "form"
      },
      "outputs": [],
      "source": [
        "#@title ジオイド高の確認\n",
        "if flg_checkDips:\n",
        "  print(boundbox)\n",
        "  boxline_x = [boundbox[0],boundbox[2],boundbox[2],boundbox[0],boundbox[0]]\n",
        "  boxline_y = [boundbox[1],boundbox[1],boundbox[3],boundbox[3],boundbox[1]]\n",
        "  ax =plt.subplot(1,1,1)\n",
        "  #img = ax.contourf(geo_data)#,levels=np.arange(1,cnt+10,10))\n",
        "  img = ax.contourf(geo_lons, geo_lats, geo_data)#,levels=np.arange(1,cnt+10,10))\n",
        "  plt.plot(boxline_x,boxline_y, \"r-\")\n",
        "  ax.axis(\"equal\")\n",
        "  plt.colorbar(img)"
      ]
    },
    {
      "cell_type": "code",
      "execution_count": 9,
      "metadata": {
        "id": "NXhffCvCYHPT",
        "cellView": "form"
      },
      "outputs": [],
      "source": [
        "#@title 浸水DEMラスターの読み込みと確認\n",
        "dem_map = np.load(file_flooddem.format(int(maxdepth*100)))\n",
        "lons = dem_map[\"lons\"]\n",
        "lats = dem_map[\"lats\"]\n",
        "demmap = dem_map[\"floodmap_dem\"]\n",
        "\n",
        "if flg_checkDips:\n",
        "  ax =plt.subplot(1,1,1)\n",
        "  img = ax.contourf(lons,lats, demmap)#,levels=np.arange(0,maxdepth+0.1,0.25))\n",
        "  ax.axis(\"equal\")\n",
        "  plt.colorbar(img)"
      ]
    },
    {
      "cell_type": "code",
      "execution_count": 10,
      "metadata": {
        "colab": {
          "base_uri": "https://localhost:8080/"
        },
        "id": "3AocEvd9cqec",
        "outputId": "c31db3a1-b216-4354-a2ae-c31fa2f46b4d",
        "cellView": "form"
      },
      "outputs": [
        {
          "output_type": "stream",
          "name": "stdout",
          "text": [
            "45 73 (45, 73)\n",
            "(5632, 9216) 33.16514990335487 32.4280693156253\n"
          ]
        }
      ],
      "source": [
        "#@title 楕円体高への変換\n",
        "print(len(geo_lats), len(geo_lons), np.shape(geo_data))\n",
        "geoInterp = interpolate.RectBivariateSpline(geo_lats[::-1], geo_lons, geo_data[::-1,::])\n",
        "tmp = geoInterp(lats[::-1],lons)[::-1,:]\n",
        "print(np.shape(tmp), np.max(tmp), np.min(tmp))\n",
        "geomap = demmap + tmp\n",
        "#print(\"\\nUp to \", len(lons))\n",
        "#for ii, lon in progressbar(enumerate(lons)):\n",
        "#  for jj,lat in enumerate(lats):\n",
        "#    demmap[jj,ii] += ggh.calc_dem_interp(lon, lat)"
      ]
    },
    {
      "cell_type": "code",
      "execution_count": 11,
      "metadata": {
        "id": "nwMEVTjidn_j",
        "cellView": "form"
      },
      "outputs": [],
      "source": [
        "#@title 浸水ジオイド高確認用\n",
        "if flg_checkDips:\n",
        "  print((len(lons), len(lats), np.shape(geomap)))\n",
        "  ax =plt.subplot(1,1,1)\n",
        "  img = ax.contourf(lons,lats, geomap)#,levels=np.arange(0,maxdepth+0.1,0.25))\n",
        "  ax.axis(\"equal\")\n",
        "  plt.colorbar(img)"
      ]
    },
    {
      "cell_type": "code",
      "source": [
        "#@title 浸水深ラスターの読み込みと確認\n",
        "depth_map = np.load(file_flooddepth.format(int(maxdepth*100)))\n",
        "depthmap = depth_map[\"floodmap_depth\"]\n",
        "\n",
        "if flg_checkDips:\n",
        "  ax =plt.subplot(1,1,1)\n",
        "  img = ax.contourf(lons,lats, depthmap)#,levels=np.arange(0,maxdepth+0.1,0.25))\n",
        "  ax.axis(\"equal\")\n",
        "  plt.colorbar(img)"
      ],
      "metadata": {
        "id": "i23G-ezJ1yEP",
        "cellView": "form"
      },
      "execution_count": 12,
      "outputs": []
    },
    {
      "cell_type": "code",
      "source": [
        "#@title 浸水カテゴリラスターの生成と確認\n",
        "classificationmap = np.zeros_like(depthmap, dtype=\"int32\")\n",
        "classification_levels = [0,0.5,5,10,20]\n",
        "#classificationmap[np.where(depthmap >= classification_levels[2])] = len(classification_levels)\n",
        "#classificationmap[np.where(depthmap < classification_levels[1])] = len(classification_levels)\n",
        "for ii, vv in enumerate(classification_levels[::-1][:-1]):\n",
        "  print(ii, vv)\n",
        "  classificationmap[np.where(depthmap < vv)] = len(classification_levels) - ii\n",
        "\n",
        "if flg_checkDips:\n",
        "  ax =plt.subplot(1,1,1)\n",
        "  img = ax.contourf(lons,lats, classificationmap,levels=np.arange(-1,len(classification_levels)+1))\n",
        "  ax.axis(\"equal\")\n",
        "  plt.xlim([130.50, 130.53])\n",
        "  plt.ylim([33.32, 33.34])\n",
        "  plt.colorbar(img)"
      ],
      "metadata": {
        "colab": {
          "base_uri": "https://localhost:8080/"
        },
        "id": "8M7RJNNp5NMM",
        "outputId": "be5b276c-ccde-48ae-d8e0-e956a40ac46a"
      },
      "execution_count": 13,
      "outputs": [
        {
          "output_type": "stream",
          "name": "stdout",
          "text": [
            "0 20\n",
            "1 10\n",
            "2 5\n",
            "3 0.5\n"
          ]
        }
      ]
    },
    {
      "cell_type": "markdown",
      "source": [
        "## アップロード用タイルの生成"
      ],
      "metadata": {
        "id": "ykIi36gk1yeu"
      }
    },
    {
      "cell_type": "code",
      "execution_count": 14,
      "metadata": {
        "id": "DYwWN3-jXvCI",
        "cellView": "form"
      },
      "outputs": [],
      "source": [
        "#@title XYZタイル分けされた点郡NPZファイルの生成関数\n",
        "#print(len(lats)/256.0, len(lons)/256.0)\n",
        "\n",
        "def save_tile_npz(lats,lons,map, classificationmap, zoom=15, dst_dir =\"temp/\"):\n",
        "  dir_zoom = dst_dir + f\"{zoom}/\"\n",
        "  if not os.path.exists(dir_zoom):\n",
        "    os.makedirs(dir_zoom)\n",
        "  res_lons = np.array([])\n",
        "  res_lats = np.array([])\n",
        "  res_maps = np.array([])\n",
        "  res_class = np.array([])\n",
        "  print(f\" / total loop num: {len(lats)/256}\")\n",
        "  for jj, tmp_lat in progressbar(enumerate(lats[::256])):\n",
        "    idj = jj*256\n",
        "    sublats = lats[idj:idj+256]\n",
        "    for ii, tmp_lon in enumerate(lons[::256]):\n",
        "      idi = ii*256\n",
        "      sublons = lons[idi:idi+256]\n",
        "      xx,yy  = pfsl.calc_xyz_from_lonlat(tmp_lon, tmp_lat, zoom)\n",
        "      #print(ii,jj, xx, yy)\n",
        "      submap = map[idj:idj+256,idi:idi+256]\n",
        "      subclass = classificationmap[idj:idj+256,idi:idi+256]\n",
        "      grd_lons, grd_lats  = np.meshgrid(sublons,sublats)\n",
        "      flt_lons = grd_lons.ravel()\n",
        "      flt_lats = grd_lats.ravel()\n",
        "      flt_map = submap.ravel()\n",
        "      flt_class = subclass.ravel()\n",
        "      #selected = [[lon,lat,dem] for lon, lat, dem in zip(flt_lons, flt_lats,flt_map) if not np.isnan(dem)]\n",
        "      #print(flt_lons[0:5])\n",
        "      #print(flt_lats[0:5])\n",
        "      #print(flt_map[0:5])\n",
        "      #print(ii, jj, f\"{subzoom}-{xx}-{yy}\", f\"{subzoom}-{chk_tile[0]}-{chk_tile[1]}\")\n",
        "      if not os.path.exists(f\"{dir_zoom}{xx}\"):\n",
        "        os.mkdir(f\"{dir_zoom}{xx}\")\n",
        "      np.savez(f\"{dir_zoom}{xx}/{yy}.npz\", lons=flt_lons, lats=flt_lats, dem=flt_map, classification=flt_class)\n",
        "      res_lons = np.append(res_lons, flt_lons)\n",
        "      res_lats = np.append(res_lats, flt_lats)\n",
        "      res_maps = np.append(res_maps, flt_map)\n",
        "      res_class = np.append(res_class, flt_class)\n",
        "  return res_lons, res_lats, res_maps, res_class\n"
      ]
    },
    {
      "cell_type": "code",
      "execution_count": 15,
      "metadata": {
        "id": "iOECbMtsbNCE"
      },
      "outputs": [],
      "source": [
        "tilecnv = FloodTo3dtiles()"
      ]
    },
    {
      "cell_type": "code",
      "execution_count": 16,
      "metadata": {
        "id": "68Cz5So9Y5F1",
        "colab": {
          "base_uri": "https://localhost:8080/",
          "height": 87
        },
        "outputId": "3f93885c-b9d0-411d-9b2c-3561f4de3eee"
      },
      "outputs": [
        {
          "output_type": "stream",
          "name": "stderr",
          "text": [
            "\r/ |#                                                  | 0 Elapsed Time: 0:00:00"
          ]
        },
        {
          "output_type": "stream",
          "name": "stdout",
          "text": [
            " / total loop num: 22.0\n"
          ]
        },
        {
          "output_type": "stream",
          "name": "stderr",
          "text": [
            "| |                         #                        | 21 Elapsed Time: 0:07:02\n"
          ]
        },
        {
          "output_type": "stream",
          "name": "stdout",
          "text": [
            " 100.0 % in 66 sec [est. time left: 0 sec]      "
          ]
        },
        {
          "output_type": "execute_result",
          "data": {
            "text/plain": [
              "'/content/drive/MyDrive/plateau-2023-uc01-satellite-analytics/PLATEAU-FloodSAR/kurume-r2/ForUpload/xyztile.zip'"
            ],
            "application/vnd.google.colaboratory.intrinsic+json": {
              "type": "string"
            }
          },
          "metadata": {},
          "execution_count": 16
        }
      ],
      "source": [
        "if os.path.exists(\"/ellipsoid_tmp\"):\n",
        "  !rm -rf /ellipsoid_tmp\n",
        "test_lons, test_lats, test_maps, test_class = save_tile_npz(lats,lons,geomap, classificationmap,dst_dir=\"/ellipsoid_tmp/\")\n",
        "#shutil.make_archive(path_upload+\"flood_xyznpz\",\"zip\", root_dir = \"/ellipsoid\")\n",
        "if os.path.exists(\"/3dtile_tmp\"):\n",
        "  !rm -rf /tile_tmp\n",
        "tilecnv.convert(\"/ellipsoid_tmp/\", \"/3dtile_tmp/\")\n",
        "shutil.make_archive(file_flood3Dtile_zip[:-4], 'zip', \"/3dtile_tmp/\")\n",
        "\n",
        "if os.path.exists(\"/XYZtile_tmp\"):\n",
        "  !rm -rf /tile_tmp\n",
        "p = FloodToPng(\"/ellipsoid_tmp/\")\n",
        "p.parse(\"/XYZtile_tmp/\")\n",
        "shutil.make_archive(file_floodXYZtile_zip[:-4], 'zip', \"/XYZtile_tmp/\")"
      ]
    },
    {
      "cell_type": "code",
      "execution_count": 17,
      "metadata": {
        "id": "mmZ9yOy50DQ3",
        "cellView": "form"
      },
      "outputs": [],
      "source": [
        "#@title 点郡確認用\n",
        "if flg_checkDips:\n",
        "  plt_lons = test_lons[np.where(~np.isnan(test_maps))]\n",
        "  plt_lats = test_lats[np.where(~np.isnan(test_maps))]\n",
        "  plt_dems = test_maps[np.where(~np.isnan(test_maps))]\n",
        "  plt_clss = test_class[np.where(~np.isnan(test_maps))]\n",
        "  plt.scatter(plt_lons,plt_lats, s=0.5)\n",
        "  plt.axis(\"equal\")\n",
        "  if True: # Set True to produce CSV\n",
        "    with open(path_upload+\"3dtiles.csv\", \"w\") as ofile:\n",
        "      ofile.write(\"lon,lat,dem,category\\n\")\n",
        "      for tmplon, tmplat, tmpdem, tmpclss in zip(plt_lons, plt_lats, plt_dems, plt_clss):\n",
        "        ofile.write(f\"{tmplon},{tmplat},{tmpdem},{tmpclss}\\n\")"
      ]
    },
    {
      "cell_type": "markdown",
      "source": [
        "## Re:EarthCMSへのアップロード"
      ],
      "metadata": {
        "id": "AaeMrN67ayq_"
      }
    },
    {
      "cell_type": "code",
      "source": [
        "#@title Re:Earth CMSへのアップロード\n",
        "if integrationKey is not None and projectId is not None:\n",
        "  configuration = reearthcmsapi.Configuration(\n",
        "      host = \"https://api.cms.test.reearth.dev/api\",\n",
        "      access_token = integrationKey\n",
        "  )\n",
        "\n",
        "  client = reearthcmsapi.ApiClient(configuration)\n",
        "\n",
        "  api_client = reearthcmsapi.ApiClient(configuration)\n",
        "  api_instance = assets_project_api.AssetsProjectApi(api_client)\n",
        "\n",
        "  # Create an instance of the API class\n",
        "  api_instance = assets_project_api.AssetsProjectApi(api_client)\n",
        "  path_params = {\n",
        "      'projectId': projectId,\n",
        "  }\n",
        "\n",
        "  uploadlist = [\n",
        "      [file_flood3Dtile_zip, \"浸水域・浸水深（3Dタイル）\\n{ff}/tileset.json\"],\n",
        "      [file_floodXYZtile_zip, \"浸水域・浸水深（画像タイル）\\n{ff}/{z}/{x}/{y}.png\"],\n",
        "      [file_building_csv, \"建物被災状況（CSVファイル）\\n{ff}.csv\"],\n",
        "      [file_floodHeattile_yukauemokuzou_zip,\"被災建物・ヒートマップ画像タイル：床上（木造）\\n{ff}/{z}/{x}/{y}.png\"],\n",
        "      [file_floodHeattile_yukashitamokuzou_zip,\"被災建物・ヒートマップ画像タイル：床下（木造）\\n{ff}/{z}/{x}/{y}.png\"],\n",
        "      [file_floodHeattile_allmokuzou_zip,\"被災建物・ヒートマップ画像タイル:木造家屋総数\\n{ff}/{z}/{x}/{y}.png\"]\n",
        "  ]\n",
        "  outtxt = \"\"\n",
        "  for ff, txt in uploadlist:\n",
        "    body = dict(\n",
        "        file=open(ff, 'rb'),\n",
        "        skip_decompression=False,\n",
        "    )\n",
        "    try:\n",
        "        # Create an new asset.\n",
        "        api_response = api_instance.asset_create(\n",
        "            path_params=path_params,\n",
        "            body=body,\n",
        "        )\n",
        "        #pprint(api_response)\n",
        "        outtxt += txt.format(ff=api_response.body[\"url\"][:-4],x=\"{x}\",y=\"{y}\",z=\"{z}\")+\"\\n\\n\"\n",
        "    except reearthcmsapi.ApiException as e:\n",
        "        print(\"Exception when calling AssetsProjectApi->asset_create: %s\\n\" % e)\n",
        "\n",
        "  print(\"以下の情報をRe:Earth編集画面に入力してください。\")\n",
        "  print(\"------------------------------------------------\")\n",
        "  print(f\"観測日: {obsdate}\")\n",
        "  print(f\"観測衛星: {satellite}\")\n",
        "  print()\n",
        "  print(outtxt)\n",
        "else:\n",
        "  print(\"Re:Earth CMSへのアップロードは行われませんでした。\")"
      ],
      "metadata": {
        "colab": {
          "base_uri": "https://localhost:8080/"
        },
        "id": "YDWw8pmWXy7A",
        "outputId": "208c07fe-4d1a-4fd0-c652-8cc0ba7f0cef"
      },
      "execution_count": 18,
      "outputs": [
        {
          "output_type": "stream",
          "name": "stdout",
          "text": [
            "Re:Earth CMSへのアップロードは行われませんでした。\n"
          ]
        }
      ]
    }
  ],
  "metadata": {
    "colab": {
      "provenance": []
    },
    "kernelspec": {
      "display_name": "Python 3",
      "name": "python3"
    },
    "language_info": {
      "name": "python"
    }
  },
  "nbformat": 4,
  "nbformat_minor": 0
}
