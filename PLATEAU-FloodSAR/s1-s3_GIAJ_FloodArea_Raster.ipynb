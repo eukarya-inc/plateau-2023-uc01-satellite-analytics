{
  "nbformat": 4,
  "nbformat_minor": 0,
  "metadata": {
    "colab": {
      "provenance": []
    },
    "kernelspec": {
      "name": "python3",
      "display_name": "Python 3"
    },
    "language_info": {
      "name": "python"
    }
  },
  "cells": [
    {
      "cell_type": "markdown",
      "source": [
        "国土地理院の浸水域JSONから標高ラスターを生成。パラメータ調整可能。（必要手続き：Driveの接続）\n",
        "\n",
        "JSONはダウンロードしてケース名のディレクトリに保存\n",
        "./PLATEAU-FloodSAR/ケース名/\n",
        "\n",
        "ケース名は衛星解析のものとは別にすること。（コンタミ防止）\n"
      ],
      "metadata": {
        "id": "5ho3GEmrq9tD"
      }
    },
    {
      "cell_type": "code",
      "execution_count": null,
      "metadata": {
        "id": "tx2r20KHqoE-",
        "colab": {
          "base_uri": "https://localhost:8080/"
        },
        "outputId": "cbb31550-36a9-46bf-b147-4dcf9248ef58"
      },
      "outputs": [
        {
          "output_type": "stream",
          "name": "stdout",
          "text": [
            "Mounted at /content/drive\n"
          ]
        }
      ],
      "source": [
        "# @title Googleドライブの準備\n",
        "from google.colab import drive\n",
        "drive.mount('/content/drive')"
      ]
    },
    {
      "cell_type": "code",
      "source": [
        "# @title パラメータの設定\n",
        "casename = \"kurume-r2-GIAJ\"\n",
        "\n",
        "mindepth = 0.05 # assume minimal depth of water to be detected\n",
        "maxdem = 300 # maximum dem assumed for water surface. set something unrealy high.\n",
        "\n",
        "flag_renew = False # Set True if flood_pts.pkl has been updated.\n",
        "\n",
        "flood_json = \"chikugo_20200709.geojson\" # ファイル名のみ。次のブロックにてフルパスに変換されます。"
      ],
      "metadata": {
        "id": "nssMTKoo8CyR"
      },
      "execution_count": null,
      "outputs": []
    },
    {
      "cell_type": "code",
      "source": [
        "# @title 詳細設定用パラメータ（基本的には操作不要）\n",
        "\n",
        "enable_savefig = False # 図をGoogleドライブに保存する？\n",
        "\n",
        "zoomlevel = 15 # DEM zoom level to fetch\n",
        "wall_height = 1000\n",
        "\n",
        "analysis_tilesize = 4\n",
        "\n",
        "errordem = -1000\n",
        "\n",
        "# デバッグ用出力\n",
        "global globalflag_debug\n",
        "\n",
        "# 保存先\n",
        "path_home = \"/content/drive/MyDrive/plateau-2023-uc01-satellite-analytics/PLATEAU-FloodSAR/\"\n",
        "path_dem = path_home + \"/DEM/\"\n",
        "path_case = path_home + casename + \"/\"\n",
        "file_bbox = path_case + \"boundbox.npy\"\n",
        "file_fldbbox = path_case + \"floodprb_bbox.npy\"\n",
        "\n",
        "file_flooddem = path_case + \"flood_dem_{0:04d}.npz\"\n",
        "file_flooddepth = path_case + \"flood_depth_{0:04d}.npz\"\n",
        "\n",
        "# 標高データの基本パラメータ\n",
        "demtile_len = 256\n",
        "\n",
        "flood_json = path_case + flood_json"
      ],
      "metadata": {
        "id": "fFUGr-dd8Ea9"
      },
      "execution_count": null,
      "outputs": []
    },
    {
      "cell_type": "code",
      "source": [
        "# @title 主要ライブラリインポート\n",
        "import numpy as np\n",
        "import math\n",
        "import matplotlib.pyplot as plt\n",
        "import pickle\n",
        "import requests\n",
        "import os\n",
        "import cv2\n",
        "from scipy import ndimage as ndi\n",
        "from progressbar import progressbar\n",
        "from sklearn.ensemble import IsolationForest\n",
        "from shapely import box\n",
        "import sys\n",
        "sys.path.append(path_home)\n",
        "import plateau_floodsar_lib as pfsl"
      ],
      "metadata": {
        "id": "SF71COdY8ejI"
      },
      "execution_count": null,
      "outputs": []
    },
    {
      "cell_type": "code",
      "source": [
        "# @title 領域の読み込み\n",
        "boundbox = np.load(file_bbox)\n",
        "print(boundbox)"
      ],
      "metadata": {
        "id": "NZQlJ4Pl8ISe",
        "colab": {
          "base_uri": "https://localhost:8080/"
        },
        "outputId": "828abed7-a7b2-42d4-b22d-2465ca967c8f"
      },
      "execution_count": null,
      "outputs": [
        {
          "output_type": "stream",
          "name": "stdout",
          "text": [
            "[130.378532  33.214563 130.763741  33.406511]\n"
          ]
        }
      ]
    },
    {
      "cell_type": "markdown",
      "source": [
        "## 国土地理院の標高データの取得"
      ],
      "metadata": {
        "id": "neuIq2ekAmAu"
      }
    },
    {
      "cell_type": "code",
      "source": [
        "# @title DEMマップ取得\n",
        "print(boundbox)\n",
        "bbox = box(*boundbox)\n",
        "print(bbox)\n",
        "gdm = pfsl.GiajDemManager(path_home,dem_types = [{\"type\":\"dem5a\",\"z\":15},{\"type\":\"dem5b\",\"z\":15}])\n",
        "gdm.load_dem_tiles(bbox)\n",
        "tile = gdm.produce_tile_stiched()\n",
        "lons = tile[\"lons\"]\n",
        "lats = tile[\"lats\"]\n",
        "demmap = tile[\"dem\"]"
      ],
      "metadata": {
        "id": "TXsieWsuB76n",
        "colab": {
          "base_uri": "https://localhost:8080/"
        },
        "outputId": "567a0234-612b-464f-c788-55382362c683"
      },
      "execution_count": null,
      "outputs": [
        {
          "output_type": "stream",
          "name": "stdout",
          "text": [
            "[130.378532  33.214563 130.763741  33.406511]\n",
            "POLYGON ((130.763741 33.214563, 130.763741 33.406511, 130.378532 33.406511, 130.378532 33.214563, 130.763741 33.214563))\n"
          ]
        },
        {
          "output_type": "stream",
          "name": "stderr",
          "text": [
            "100% (36 of 36) |########################| Elapsed Time: 0:03:03 Time:  0:03:03\n"
          ]
        }
      ]
    },
    {
      "cell_type": "code",
      "source": [
        "np.save(file_fldbbox , boundbox)"
      ],
      "metadata": {
        "id": "wNhh47M_mi7I"
      },
      "execution_count": null,
      "outputs": []
    },
    {
      "cell_type": "code",
      "source": [
        "!pip install rasterio"
      ],
      "metadata": {
        "colab": {
          "base_uri": "https://localhost:8080/"
        },
        "id": "fQrwTyOqO1-_",
        "outputId": "19d31854-38a9-45a8-df10-a2d07b666b80"
      },
      "execution_count": null,
      "outputs": [
        {
          "output_type": "stream",
          "name": "stdout",
          "text": [
            "Collecting rasterio\n",
            "  Downloading rasterio-1.3.9-cp310-cp310-manylinux2014_x86_64.whl (20.6 MB)\n",
            "\u001b[2K     \u001b[90m━━━━━━━━━━━━━━━━━━━━━━━━━━━━━━━━━━━━━━━━\u001b[0m \u001b[32m20.6/20.6 MB\u001b[0m \u001b[31m32.0 MB/s\u001b[0m eta \u001b[36m0:00:00\u001b[0m\n",
            "\u001b[?25hCollecting affine (from rasterio)\n",
            "  Downloading affine-2.4.0-py3-none-any.whl (15 kB)\n",
            "Requirement already satisfied: attrs in /usr/local/lib/python3.10/dist-packages (from rasterio) (23.1.0)\n",
            "Requirement already satisfied: certifi in /usr/local/lib/python3.10/dist-packages (from rasterio) (2023.11.17)\n",
            "Requirement already satisfied: click>=4.0 in /usr/local/lib/python3.10/dist-packages (from rasterio) (8.1.7)\n",
            "Requirement already satisfied: cligj>=0.5 in /usr/local/lib/python3.10/dist-packages (from rasterio) (0.7.2)\n",
            "Requirement already satisfied: numpy in /usr/local/lib/python3.10/dist-packages (from rasterio) (1.23.5)\n",
            "Collecting snuggs>=1.4.1 (from rasterio)\n",
            "  Downloading snuggs-1.4.7-py3-none-any.whl (5.4 kB)\n",
            "Requirement already satisfied: click-plugins in /usr/local/lib/python3.10/dist-packages (from rasterio) (1.1.1)\n",
            "Requirement already satisfied: setuptools in /usr/local/lib/python3.10/dist-packages (from rasterio) (67.7.2)\n",
            "Requirement already satisfied: pyparsing>=2.1.6 in /usr/local/lib/python3.10/dist-packages (from snuggs>=1.4.1->rasterio) (3.1.1)\n",
            "Installing collected packages: snuggs, affine, rasterio\n",
            "Successfully installed affine-2.4.0 rasterio-1.3.9 snuggs-1.4.7\n"
          ]
        }
      ]
    },
    {
      "cell_type": "code",
      "source": [
        "import matplotlib.pyplot as plt\n",
        "import matplotlib.patches as patches\n",
        "import numpy as np\n",
        "from shapely.geometry import shape, mapping\n",
        "import rasterio\n",
        "from rasterio.features import geometry_mask\n",
        "\n",
        "import json\n",
        "\n",
        "with open(flood_json, \"r\") as f:\n",
        "  geojson = json.load(f)\n",
        "\n",
        "\n",
        "# 各ポリゴンを処理してマルチポリゴンジオメトリを作成します。\n",
        "polygons = [shape(feature[\"geometry\"]) for feature in geojson[\"features\"]]\n",
        "\n",
        "# マルチポリゴンのバウンディングボックスを取得します。\n",
        "minx, miny, maxx, maxy = lons.min(), lats.min(), lons.max(), lats.max()\n",
        "# ラスタライズのパラメータを設定します。\n",
        "\n",
        "raster_height, raster_width = demmap.shape\n",
        "\n",
        "transform = rasterio.transform.from_origin(minx, maxy, (maxx-minx)/raster_width, (maxy-miny)/raster_height)\n",
        "\n",
        "# ラスタライズ\n",
        "with rasterio.MemoryFile() as memfile:\n",
        "    with memfile.open(driver='GTiff',\n",
        "                      height=raster_height,\n",
        "                      width=raster_width,\n",
        "                      count=1,\n",
        "                      dtype='uint8',\n",
        "                      crs=geojson[\"crs\"][\"properties\"][\"name\"],\n",
        "                      transform=transform) as dataset:\n",
        "\n",
        "        # 穴があるポリゴンを正しく処理するために、各ポリゴンを個別にマスクに変換し、\n",
        "        # 結果を論理和で結合します。\n",
        "        masks = []\n",
        "        combined_mask = np.empty((raster_height, raster_width))\n",
        "        combined_mask[:] = np.nan\n",
        "        for poly in polygons:\n",
        "            mask = geometry_mask([mapping(poly)],\n",
        "                                 transform=dataset.transform,\n",
        "                                 invert=True,\n",
        "                                 out_shape=(dataset.height, dataset.width))\n",
        "            if mask.max():\n",
        "              combined_mask[mask] = np.nanmax(demmap[mask])\n",
        "            del mask"
      ],
      "metadata": {
        "id": "Zq5tZnc-s5wa",
        "colab": {
          "base_uri": "https://localhost:8080/"
        },
        "outputId": "e68e4153-0e12-4163-d748-15a867ca6f6f"
      },
      "execution_count": null,
      "outputs": [
        {
          "output_type": "stream",
          "name": "stderr",
          "text": [
            "<ipython-input-8-bbf12ae2d4e3>:46: RuntimeWarning: All-NaN slice encountered\n",
            "  combined_mask[mask] = np.nanmax(demmap[mask])\n"
          ]
        }
      ]
    },
    {
      "cell_type": "code",
      "source": [
        "ax = plt.subplot()\n",
        "plt.imshow(combined_mask, cmap=\"jet\", extent=[minx, maxx, miny, maxy])\n",
        "\n",
        "ax.set_xlim(boundbox[0], boundbox[2])\n",
        "ax.set_ylim(boundbox[1], boundbox[3])\n",
        "plt.colorbar()\n",
        "\n",
        "plt.title(\"Nominal flood water's surface elevation\")\n",
        "ax.axis('equal')"
      ],
      "metadata": {
        "colab": {
          "base_uri": "https://localhost:8080/",
          "height": 469
        },
        "id": "TwAgGdIQOsFi",
        "outputId": "bd456000-3217-4173-b519-428f68fac107"
      },
      "execution_count": null,
      "outputs": [
        {
          "output_type": "execute_result",
          "data": {
            "text/plain": [
              "(130.374755859375, 130.77022075653076, 33.211097684352545, 33.413047314283666)"
            ]
          },
          "metadata": {},
          "execution_count": 9
        },
        {
          "output_type": "display_data",
          "data": {
            "text/plain": [
              "<Figure size 640x480 with 2 Axes>"
            ],
            "image/png": "[encoded data removed]"
          },
          "metadata": {}
        }
      ]
    },
    {
      "cell_type": "code",
      "source": [
        "ax = plt.subplot()\n",
        "\n",
        "plt.imshow(combined_mask - demmap, cmap=\"jet\", extent=[minx, maxx, miny, maxy])\n",
        "\n",
        "ax.set_xlim(boundbox[0], boundbox[2])\n",
        "ax.set_ylim(boundbox[1], boundbox[3])\n",
        "plt.colorbar()\n",
        "\n",
        "plt.title(\"Flood Depth from Nominal Flood Area\")\n",
        "ax.axis('equal')"
      ],
      "metadata": {
        "colab": {
          "base_uri": "https://localhost:8080/",
          "height": 469
        },
        "id": "QnCa7cjxPR1S",
        "outputId": "54b32773-6404-4ed4-a04e-133ca1327365"
      },
      "execution_count": null,
      "outputs": [
        {
          "output_type": "execute_result",
          "data": {
            "text/plain": [
              "(130.374755859375, 130.77022075653076, 33.211097684352545, 33.413047314283666)"
            ]
          },
          "metadata": {},
          "execution_count": 10
        },
        {
          "output_type": "display_data",
          "data": {
            "text/plain": [
              "<Figure size 640x480 with 2 Axes>"
            ],
            "image/png": "[encoded data removed]"
          },
          "metadata": {}
        }
      ]
    },
    {
      "cell_type": "code",
      "source": [
        "maxdepth = 0 # np.nanmax(combined_mask-demmap)"
      ],
      "metadata": {
        "id": "iIqs8z9Y_rJm"
      },
      "execution_count": null,
      "outputs": []
    },
    {
      "cell_type": "code",
      "source": [
        "np.savez(file_flooddem.format(int(maxdepth*100)), lons=lons, lats=lats, floodmap_dem=combined_mask)\n",
        "np.savez(file_flooddepth.format(int(maxdepth*100)), lons=lons, lats=lats, floodmap_depth=combined_mask-demmap)"
      ],
      "metadata": {
        "id": "MYTAYRPtoaIo"
      },
      "execution_count": null,
      "outputs": []
    }
  ]
}