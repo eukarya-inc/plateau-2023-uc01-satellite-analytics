{
  "cells": [
    {
      "cell_type": "markdown",
      "metadata": {
        "id": "8FY7mPr9LMer"
      },
      "source": [
        "国土地理院の浸水域JSONから点郡（点の数はユーザー設定,\n",
        "久留米全域なら100万点ぐらい）を生成する。\n",
        "\n",
        "JSONはダウンロードしてケース名のディレクトリに保存\n",
        "./PLATEAU-FloodSAR/ケース名/\n",
        "\n",
        "ケース名は衛星解析のものとは別にすること。（コンタミ防止）\n",
        "\n",
        "点郡は file_pts に保存"
      ]
    },
    {
      "cell_type": "code",
      "execution_count": null,
      "metadata": {
        "id": "dDWOSih4MluZ"
      },
      "outputs": [],
      "source": [
        "# @title Googleドライブの準備\n",
        "from google.colab import drive\n",
        "drive.mount('/content/drive')"
      ]
    },
    {
      "cell_type": "code",
      "execution_count": null,
      "metadata": {
        "id": "sB6p2bZPMn2Z"
      },
      "outputs": [],
      "source": [
        "# @title パラメータの設定\n",
        "casename = \"kurume-r2-giaj\"\n",
        "\n",
        "num_pt = 1e8 # number of points for entire region\n",
        "\n",
        "flood_json = \"giaj-flood.json\" # ファイル名のみ。次のブロックにてフルパスに変換されます。"
      ]
    },
    {
      "cell_type": "code",
      "execution_count": null,
      "metadata": {
        "id": "21gh-ReEM_qg"
      },
      "outputs": [],
      "source": [
        "# @title 詳細設定用パラメータ（基本的には操作不要）\n",
        "\n",
        "enable_savefig = False # 図をGoogleドライブに保存する？\n",
        "\n",
        "# デバッグ用出力\n",
        "global globalflag_debug\n",
        "\n",
        "# 保存先\n",
        "path_home = \"/content/drive/MyDrive/plateau-2023-uc01-satellite-analytics/PLATEAU-FloodSAR/\"\n",
        "path_case = path_home + casename + \"/\"\n",
        "#file_prb = path_case + \"floodprb.pt\"\n",
        "#file_flbbox = path_case + \"floodprb_bbox.npy\"\n",
        "file_pts = path_case + \"flood_points.pkl\"\n",
        "\n",
        "flood_json = path_case + flood_json"
      ]
    },
    {
      "cell_type": "code",
      "execution_count": null,
      "metadata": {
        "id": "0uqqETLDLGKp"
      },
      "outputs": [],
      "source": [
        "# pts = [{'lon': 130.400244024231, 'lat': 33.30722209485701},...]"
      ]
    },
    {
      "cell_type": "markdown",
      "metadata": {
        "id": "JqPnzFFQPuOp"
      },
      "source": [
        "点郡通さずにラスター化した浸水域の"
      ]
    },
    {
      "cell_type": "code",
      "execution_count": null,
      "metadata": {
        "id": "--9ku2IvNw44"
      },
      "outputs": [],
      "source": [
        "# @title 主要ライブラリインポート\n",
        "import numpy as np\n",
        "import matplotlib.pyplot as plt\n",
        "import pickle"
      ]
    },
    {
      "cell_type": "code",
      "execution_count": null,
      "metadata": {
        "id": "SfpfOL4yNrxD"
      },
      "outputs": [],
      "source": [
        "# 保存\n",
        "with open(file_pts, \"wb\") as ofile:\n",
        "  pickle.dump(flood_pts, ofile)"
      ]
    }
  ],
  "metadata": {
    "colab": {
      "provenance": []
    },
    "kernelspec": {
      "display_name": "Python 3",
      "name": "python3"
    },
    "language_info": {
      "name": "python"
    }
  },
  "nbformat": 4,
  "nbformat_minor": 0
}
