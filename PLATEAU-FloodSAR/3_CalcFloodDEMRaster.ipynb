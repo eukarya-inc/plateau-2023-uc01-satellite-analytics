{
  "cells": [
    {
      "cell_type": "markdown",
      "metadata": {
        "id": "5ho3GEmrq9tD"
      },
      "source": [
        "点郡データから標高ラスターを生成。パラメータ調整可能。（必要手続き：Driveの接続）\n",
        "\n",
        "広域の初動の場合、初めて設定したmindepthを実行すると３０分ほどかかります。\n",
        "\n",
        "ステップ２の再実行後はflag_renewをTrueにしてください。\n",
        "\n",
        "全て実行した後、maxdepthを変更して外れ値処理以下を１度再実行できるぐらいのリソース有余です。２度目の再実行あたりでRAM不足でクラッシュしますので、RAMが少なそうならば再起動で実行してください。"
      ]
    },
    {
      "cell_type": "code",
      "execution_count": null,
      "metadata": {
        "colab": {
          "base_uri": "https://localhost:8080/"
        },
        "id": "tx2r20KHqoE-",
        "outputId": "83636ba6-56aa-4ebf-dad4-e36b6e99e3c5"
      },
      "outputs": [
        {
          "output_type": "stream",
          "name": "stdout",
          "text": [
            "Drive already mounted at /content/drive; to attempt to forcibly remount, call drive.mount(\"/content/drive\", force_remount=True).\n"
          ]
        }
      ],
      "source": [
        "# @title Googleドライブの準備\n",
        "from google.colab import drive\n",
        "drive.mount('/content/drive')"
      ]
    },
    {
      "cell_type": "code",
      "execution_count": null,
      "metadata": {
        "id": "nssMTKoo8CyR"
      },
      "outputs": [],
      "source": [
        "# @title パラメータの設定\n",
        "casename = \"omuta-r2\" #\"kurume-r2\"\n",
        "\n",
        "mindepth = 0.05 # assume minimal depth of water to be detected\n",
        "maxdem = 300 # maximum dem assumed for water surface. set something unrealy high.\n",
        "\n",
        "maxdepth = 7# 4.27 #4 # m\n",
        "maxarea = 600000 # in the unit of pixels or 25 m^2\n",
        "\n",
        "flag_cache = False #True # Set False if you do not want a cache file from the previous time.\n",
        "flg_display = False"
      ]
    },
    {
      "cell_type": "code",
      "execution_count": null,
      "metadata": {
        "id": "fFUGr-dd8Ea9"
      },
      "outputs": [],
      "source": [
        "# @title 詳細設定用パラメータ（基本的には操作不要）\n",
        "\n",
        "enable_savefig = False # 図をGoogleドライブに保存する？\n",
        "\n",
        "zoomlevel = 15 # DEM zoom level to fetch\n",
        "wall_height = 1000\n",
        "\n",
        "analysis_tilesize = 4\n",
        "\n",
        "errordem = -1000\n",
        "\n",
        "# デバッグ用出力\n",
        "global globalflag_debug\n",
        "\n",
        "# 保存先\n",
        "path_home = \"/content/drive/MyDrive/plateau-2023-uc01-satellite-analytics/PLATEAU-FloodSAR/\"\n",
        "path_dem = path_home + \"/DEM/\"\n",
        "path_case = path_home + casename + \"/\"\n",
        "file_flbbox = path_case + \"floodprb_bbox.npy\"\n",
        "file_pts = path_case + \"flood_points.pkl\"\n",
        "file_dem_fmt = path_case + \"dem_{}_{}-{}_{}-{}.npz\"\n",
        "file_savepts = path_case + \"save_pts.npy\"\n",
        "\n",
        "file_pts_mindepth = path_case + \"flood_points_min{0:04d}.pkl\"\n",
        "\n",
        "file_flooddem = path_case + \"flood_dem_{0:04d}.npz\"\n",
        "file_flooddepth = path_case + \"flood_depth_{0:04d}.npz\"\n",
        "\n",
        "# 標高データの基本パラメータ\n",
        "demtile_len = 256"
      ]
    },
    {
      "cell_type": "code",
      "execution_count": null,
      "metadata": {
        "id": "SF71COdY8ejI"
      },
      "outputs": [],
      "source": [
        "# @title 主要ライブラリインポート\n",
        "!pip install --upgrade numpy\n",
        "!pip install --upgrade scikit-image\n",
        "import numpy as np\n",
        "import math\n",
        "import matplotlib.pyplot as plt\n",
        "import pickle\n",
        "import requests\n",
        "import os\n",
        "#import cv2\n",
        "from scipy import ndimage as ndi\n",
        "from progressbar import progressbar\n",
        "from sklearn.ensemble import IsolationForest\n",
        "from shapely import box\n",
        "import sys\n",
        "sys.path.append(path_home)\n",
        "import plateau_floodsar_lib as pfsl"
      ]
    },
    {
      "cell_type": "code",
      "execution_count": null,
      "metadata": {
        "colab": {
          "base_uri": "https://localhost:8080/"
        },
        "id": "NZQlJ4Pl8ISe",
        "outputId": "038d2e71-f500-4356-ca0d-b03eb777ba64"
      },
      "outputs": [
        {
          "output_type": "stream",
          "name": "stdout",
          "text": [
            "[130.36314377  32.99282306 130.50902244  33.11636148]\n"
          ]
        }
      ],
      "source": [
        "# @title 領域の読み込み\n",
        "boundbox = np.load(file_flbbox)\n",
        "print(boundbox)"
      ]
    },
    {
      "cell_type": "markdown",
      "metadata": {
        "id": "neuIq2ekAmAu"
      },
      "source": [
        "## 国土地理院の標高データの取得"
      ]
    },
    {
      "cell_type": "code",
      "execution_count": null,
      "metadata": {
        "colab": {
          "base_uri": "https://localhost:8080/"
        },
        "id": "TXsieWsuB76n",
        "outputId": "1f77b37d-340a-433e-f95d-f78435711fda"
      },
      "outputs": [
        {
          "output_type": "stream",
          "name": "stdout",
          "text": [
            "[130.36314377  32.99282306 130.50902244  33.11636148]\n",
            "POLYGON ((130.50902243702782 32.992823060359456, 130.50902243702782 33.116361482386736, 130.36314376664728 33.116361482386736, 130.36314376664728 32.992823060359456, 130.50902243702782 32.992823060359456))\n"
          ]
        },
        {
          "output_type": "stream",
          "name": "stderr",
          "text": [
            "100% (15 of 15) |########################| Elapsed Time: 0:00:02 Time:  0:00:02\n"
          ]
        }
      ],
      "source": [
        "# @title DEMマップ取得\n",
        "print(boundbox)\n",
        "bbox = box(*boundbox)\n",
        "print(bbox)\n",
        "gdm = pfsl.GiajDemManager(path_home,dem_types = [{\"type\":\"dem5a\",\"z\":15},{\"type\":\"dem5b\",\"z\":15}])\n",
        "gdm.load_dem_tiles(bbox)\n",
        "tile = gdm.produce_tile_stiched()\n",
        "lons = tile[\"lons\"]\n",
        "lats = tile[\"lats\"]\n",
        "demmap = tile[\"dem\"]"
      ]
    },
    {
      "cell_type": "code",
      "execution_count": null,
      "metadata": {
        "colab": {
          "base_uri": "https://localhost:8080/"
        },
        "id": "zTHrb2dYvzFY",
        "outputId": "5eeae7b6-04a0-47c2-c0f9-bbd2279f4e4f"
      },
      "outputs": [
        {
          "output_type": "stream",
          "name": "stdout",
          "text": [
            "dem range =  -3.41 387.51999999999384\n"
          ]
        }
      ],
      "source": [
        "print(\"dem range = \", np.nanmin(demmap), np.nanmax(demmap))"
      ]
    },
    {
      "cell_type": "markdown",
      "metadata": {
        "id": "Ycp3uBKudepL"
      },
      "source": [
        "## 標高に基づいた浸水域の拡大"
      ]
    },
    {
      "cell_type": "code",
      "execution_count": null,
      "metadata": {
        "colab": {
          "base_uri": "https://localhost:8080/"
        },
        "id": "y22OHtnQv00N",
        "outputId": "1632ff9b-124f-49b7-a575-b5044615dfa4"
      },
      "outputs": [
        {
          "output_type": "stream",
          "name": "stdout",
          "text": [
            "[  3   4   5   6   7   8   9  10  40  70 100 130 160 190 220 250 280 310]\n"
          ]
        }
      ],
      "source": [
        "scale = np.concatenate([np.arange(3,10,1),np.arange(10,maxdem+30,30)])\n",
        "print(scale)"
      ]
    },
    {
      "cell_type": "code",
      "execution_count": null,
      "metadata": {
        "colab": {
          "base_uri": "https://localhost:8080/"
        },
        "id": "sYMrqHrO0bEL",
        "outputId": "787b408e-165a-4201-dc50-aef9eb75d48a"
      },
      "outputs": [
        {
          "output_type": "stream",
          "name": "stderr",
          "text": [
            "\r  0% (0 of 18) |                         | Elapsed Time: 0:00:00 ETA:  --:--:--"
          ]
        },
        {
          "output_type": "stream",
          "name": "stdout",
          "text": [
            "Preparing all contours\n"
          ]
        },
        {
          "output_type": "stream",
          "name": "stderr",
          "text": [
            "100% (18 of 18) |########################| Elapsed Time: 0:00:06 Time:  0:00:06\n"
          ]
        }
      ],
      "source": [
        "vbi = pfsl.ValueBoundInspector(gdm, scale=scale)#, method=lambda data,x:data>=x)\n",
        "vbi.set_cntrs_all()\n"
      ]
    },
    {
      "cell_type": "code",
      "execution_count": null,
      "metadata": {
        "colab": {
          "base_uri": "https://localhost:8080/"
        },
        "id": "d0RQ9xRK6C4N",
        "outputId": "fcd11239-35b1-4d47-b8d4-8fbac36828e3"
      },
      "outputs": [
        {
          "output_type": "stream",
          "name": "stderr",
          "text": [
            "100% (32601 of 32601) |##################| Elapsed Time: 0:00:00 Time:  0:00:00\n",
            "100% (27827 of 27827) |##################| Elapsed Time: 0:00:07 Time:  0:00:07\n"
          ]
        },
        {
          "output_type": "stream",
          "name": "stdout",
          "text": [
            "The points are saved to /content/drive/MyDrive/plateau-2023-uc01-satellite-analytics/PLATEAU-FloodSAR/omuta-r2/flood_points_min0005.pkl for future runs.\n",
            "27827\n",
            "[{'lon': 130.41168366495958, 'lat': 33.106114500114224, 'dem': 0.8634816650121295, 'area': 558222, 'mindem': -2.05, 'maxdepth': 2.9134816650121294}, {'lon': 130.42667028191366, 'lat': 33.10811430255962, 'dem': 0.8250004846918582, 'area': 558222, 'mindem': -2.05, 'maxdepth': 2.875000484691858}, {'lon': 130.43088369912869, 'lat': 33.10867412235255, 'dem': 2.35936865997967, 'area': 1001232, 'mindem': -2.19, 'maxdepth': 4.54936865997967}]\n",
            "(3584, 3840)\n",
            "(3584,)\n",
            "(3840,)\n"
          ]
        }
      ],
      "source": [
        "#@title 点郡の読み込み＆DEM情報付与\n",
        "pts_filepath = file_pts_mindepth.format(int(mindepth*100))\n",
        "if flag_cache and os.path.isfile(pts_filepath):\n",
        "  print(f\"Loading the previous result from {pts_filepath}\")\n",
        "  with open(file_pts, \"rb\") as ifile:\n",
        "    flood_pts = pickle.load(ifile)\n",
        "else:\n",
        "  with open(file_pts, \"rb\") as ifile:\n",
        "    flood_pts = pickle.load(ifile)\n",
        "  for pt in progressbar(flood_pts):\n",
        "    try:\n",
        "      pt[\"dem\"] = gdm.calc_dem_interp(pt[\"lon\"],pt[\"lat\"])+mindepth\n",
        "    except IndexError:\n",
        "      pt[\"dem\"] = np.nan\n",
        "  flood_pts = [pt for pt in flood_pts if pt[\"dem\"] <= maxdem]\n",
        "  for pt in progressbar(flood_pts):\n",
        "      pt[\"area\"] = vbi.calc_area_bound(pt[\"lon\"],pt[\"lat\"],pt[\"dem\"])\n",
        "      pt[\"mindem\"] = vbi.get_mindem_bound(pt[\"lon\"],pt[\"lat\"],pt[\"dem\"])\n",
        "      pt[\"maxdepth\"] = pt[\"dem\"] - pt[\"mindem\"]\n",
        "  with open(pts_filepath, \"wb\") as ofile:\n",
        "    pickle.dump(flood_pts, ofile)\n",
        "  print(f\"The points are saved to {pts_filepath} for future runs.\")\n",
        "print(len(flood_pts))\n",
        "print(flood_pts[0:3])\n",
        "print(demmap.shape)\n",
        "print(lats.shape)\n",
        "print(lons.shape)"
      ]
    },
    {
      "cell_type": "code",
      "execution_count": null,
      "metadata": {
        "id": "FHRFTBzwDKNZ"
      },
      "outputs": [],
      "source": [
        "del gdm"
      ]
    },
    {
      "cell_type": "code",
      "execution_count": null,
      "metadata": {
        "id": "Zkqu7gwi2Pkf"
      },
      "outputs": [],
      "source": [
        "vbi.release_cntrs_all()  # 事前計算領域の削除、メモリー領域の開放"
      ]
    },
    {
      "cell_type": "code",
      "execution_count": null,
      "metadata": {
        "id": "2q9o6XH20InO"
      },
      "outputs": [],
      "source": [
        "#xx = [pt[\"lon\"] for pt in selected_pts]\n",
        "#yy = [pt[\"lat\"] for pt in selected_pts]\n",
        "#ax =plt.subplot(1,1,1)\n",
        "#img = ax.contourf(lons,lats,demmap)\n",
        "#ax.scatter(xx,yy,c=\"y\",s=1)\n",
        "#plt.colorbar(img)\n",
        "#ax.axis(\"equal\")"
      ]
    },
    {
      "cell_type": "markdown",
      "metadata": {
        "id": "KwKaWRTaKQnc"
      },
      "source": [
        "### 外れ値処理"
      ]
    },
    {
      "cell_type": "code",
      "execution_count": null,
      "metadata": {
        "id": "xmIKohKClqdb"
      },
      "outputs": [],
      "source": [
        "def sort_floodpts_without_outliers(flood_pts):\n",
        "  #fd = [[pt[\"lon\"],pt[\"lat\"],pt[\"area\"]] for pt in flood_pts]\n",
        "  fd = [[pt[\"dem\"], pt[\"area\"]] for pt in flood_pts]\n",
        "  isolation_forest = IsolationForest()\n",
        "  isolation_forest.fit(fd)\n",
        "  # Predicting the anomalies (1 if anomaly, -1 if normal)\n",
        "  predictions = isolation_forest.predict(fd)\n",
        "  tmplst = []\n",
        "  for pt, prd in zip(flood_pts, predictions):\n",
        "    if prd == 1:\n",
        "      tmplst.append(pt)\n",
        "  return sorted(tmplst, key=lambda pt:pt[\"dem\"], reverse=True)"
      ]
    },
    {
      "cell_type": "code",
      "execution_count": null,
      "metadata": {
        "colab": {
          "base_uri": "https://localhost:8080/",
          "height": 448
        },
        "id": "nC3GKvEjtA7b",
        "outputId": "0be34cea-086e-48da-8b67-18546b369104"
      },
      "outputs": [
        {
          "output_type": "execute_result",
          "data": {
            "text/plain": [
              "(0.0, 10.0)"
            ]
          },
          "metadata": {},
          "execution_count": 33
        },
        {
          "output_type": "display_data",
          "data": {
            "text/plain": [
              "<Figure size 640x480 with 1 Axes>"
            ],
            "image/png": "[encoded data removed]"
          },
          "metadata": {}
        }
      ],
      "source": [
        "xx = [ee[\"maxdepth\"] for ee in flood_pts]\n",
        "yy = [ee[\"area\"] for ee in flood_pts]\n",
        "ax =plt.subplot(1,1,1)\n",
        "ax.scatter(xx,yy, s=3, alpha=0.01)\n",
        "plt.yscale('log')\n",
        "ax.set_xlim(0, 10)\n",
        "#ax.set_ylim(0,2e4)"
      ]
    },
    {
      "cell_type": "code",
      "execution_count": null,
      "metadata": {
        "colab": {
          "base_uri": "https://localhost:8080/"
        },
        "id": "Uv2siJRVHqa2",
        "outputId": "4f63c343-a245-46ca-c465-f35bf4764ba9"
      },
      "outputs": [
        {
          "output_type": "stream",
          "name": "stdout",
          "text": [
            "53 / 27827\n"
          ]
        }
      ],
      "source": [
        "selected_pts = [pt for pt in flood_pts if pt[\"maxdepth\"] < maxdepth and pt[\"area\"]<=maxarea]\n",
        "print(f\"{len(selected_pts)} / {len(flood_pts)}\")"
      ]
    },
    {
      "cell_type": "code",
      "source": [
        "if True: # flg_display:\n",
        "  xx = [pt[\"lon\"] for pt in selected_pts]\n",
        "  yy = [pt[\"lat\"] for pt in selected_pts]\n",
        "  ax = plt.subplot(111)\n",
        "  ax.scatter(xx,yy,s=1,c=\"r\")\n",
        "  ax.axis(\"equal\")"
      ],
      "metadata": {
        "colab": {
          "base_uri": "https://localhost:8080/",
          "height": 430
        },
        "id": "F3nDFemcpjcO",
        "outputId": "c147f576-aa50-4775-b6fa-4f438e624f7e"
      },
      "execution_count": null,
      "outputs": [
        {
          "output_type": "display_data",
          "data": {
            "text/plain": [
              "<Figure size 640x480 with 1 Axes>"
            ],
            "image/png": "[encoded data removed]"
          },
          "metadata": {}
        }
      ]
    },
    {
      "cell_type": "code",
      "execution_count": null,
      "metadata": {
        "id": "ToQpxo20dbT0"
      },
      "outputs": [],
      "source": [
        "sorted_pts = sorted(selected_pts, key=lambda x:x[\"dem\"], reverse=True)"
      ]
    },
    {
      "cell_type": "code",
      "execution_count": null,
      "metadata": {
        "colab": {
          "base_uri": "https://localhost:8080/"
        },
        "id": "1uIUCO-Mnj2Y",
        "outputId": "a39d5fc5-e1cd-41cb-ee53-47b2b086ab11"
      },
      "outputs": [
        {
          "output_type": "stream",
          "name": "stderr",
          "text": [
            "100% (53 of 53) |########################| Elapsed Time: 0:00:00 Time:  0:00:00\n"
          ]
        }
      ],
      "source": [
        "\n",
        "floodmap_msk = np.zeros_like(vbi.data, dtype=float)\n",
        "floodmap_dem = np.ones_like(vbi.data) * errordem\n",
        "save_pts = []\n",
        "cnt0 = 10000\n",
        "cnt = cnt0\n",
        "for pt in progressbar(sorted_pts):\n",
        "  cx, cy = vbi.calc_floatIdxs(pt[\"lon\"],pt[\"lat\"])\n",
        "  cx = int(cx)\n",
        "  cy = int(cy)\n",
        "  if pt[\"area\"] > 0 and floodmap_msk[cy,cx] == 0: #and floodmap_dem[cy,cx] < pt[\"dem\"]:\n",
        "    #print(cx, cy, floodmap[cx,cy], ee[\"dem\"])\n",
        "    tmp_msk = vbi.generate_boundmap_exact(pt[\"lon\"],pt[\"lat\"], pt[\"dem\"])\n",
        "    tmp_dem = tmp_msk * pt[\"dem\"] + (1-tmp_msk) * errordem\n",
        "    #tmp_dem[np.where(tmp_msk == 0)] = errordem\n",
        "    #tmp_depth = np.nanmax(tmp_dem - vbi.data)\n",
        "    #if tmp_depth <= maxdepth:\n",
        "    cnt = cnt  - 1\n",
        "    tmp_id = tmp_msk * cnt\n",
        "    #floodmap_msk[np.where(floodmap_msk)==0] = tmp_msk[np.where(floodmap_msk)==0] * cnt\n",
        "    floodmap_msk = np.maximum(floodmap_msk, tmp_id)\n",
        "    floodmap_dem = np.maximum(floodmap_dem, tmp_dem)\n",
        "    save_pts.append(pt)\n",
        "floodmap_dem = floodmap_dem[1:-1,1:-1]\n",
        "floodmap_dem[np.where(floodmap_dem == errordem)] = np.nan\n",
        "floodmap_msk = floodmap_msk[1:-1,1:-1]\n",
        "floodmap_msk[np.where(floodmap_msk)==0] = np.nan\n",
        "floodmap_msk = cnt0 - floodmap_msk\n",
        "cnt = cnt0-cnt"
      ]
    },
    {
      "cell_type": "code",
      "execution_count": null,
      "metadata": {
        "id": "KO9iy04SRBaN",
        "colab": {
          "base_uri": "https://localhost:8080/"
        },
        "outputId": "7bff0bea-b9e1-4fdf-a731-2fef5cb87202"
      },
      "outputs": [
        {
          "output_type": "stream",
          "name": "stdout",
          "text": [
            "1\n",
            "1.0 10000.0\n",
            "[[10000. 10000. 10000. ... 10000. 10000. 10000.]\n",
            " [10000. 10000. 10000. ... 10000. 10000. 10000.]\n",
            " [10000. 10000. 10000. ... 10000. 10000. 10000.]\n",
            " ...\n",
            " [10000. 10000. 10000. ... 10000. 10000. 10000.]\n",
            " [10000. 10000. 10000. ... 10000. 10000. 10000.]\n",
            " [10000. 10000. 10000. ... 10000. 10000. 10000.]]\n",
            "[[nan nan nan ... nan nan nan]\n",
            " [nan nan nan ... nan nan nan]\n",
            " [nan nan nan ... nan nan nan]\n",
            " ...\n",
            " [nan nan nan ... nan nan nan]\n",
            " [nan nan nan ... nan nan nan]\n",
            " [nan nan nan ... nan nan nan]]\n"
          ]
        }
      ],
      "source": [
        "print(cnt)\n",
        "print(np.nanmin(floodmap_msk),np.nanmax(floodmap_msk))\n",
        "print(floodmap_msk)\n",
        "print(floodmap_dem)"
      ]
    },
    {
      "cell_type": "code",
      "execution_count": null,
      "metadata": {
        "id": "vBd9dRBvm6nz"
      },
      "outputs": [],
      "source": [
        "demmap = vbi.data[1:-1,1:-1]\n",
        "depthmap = floodmap_dem - demmap\n",
        "depthmap[np.where(depthmap < 0)] = np.nan\n",
        "floodmap_dem[np.where(np.isnan(depthmap))] = np.nan\n",
        "floodmap_msk[np.where(np.isnan(depthmap))] = np.nan"
      ]
    },
    {
      "cell_type": "code",
      "execution_count": null,
      "metadata": {
        "id": "6y6hQ_Vbsc-u",
        "colab": {
          "base_uri": "https://localhost:8080/"
        },
        "outputId": "ee38a861-6b1f-4c48-fe32-0f69d79a8c2c"
      },
      "outputs": [
        {
          "output_type": "stream",
          "name": "stdout",
          "text": [
            "[[nan nan nan ... nan nan nan]\n",
            " [nan nan nan ... nan nan nan]\n",
            " [nan nan nan ... nan nan nan]\n",
            " ...\n",
            " [nan nan nan ... nan nan nan]\n",
            " [nan nan nan ... nan nan nan]\n",
            " [nan nan nan ... nan nan nan]]\n"
          ]
        }
      ],
      "source": [
        "print(depthmap)"
      ]
    },
    {
      "cell_type": "code",
      "execution_count": null,
      "metadata": {
        "id": "PpOQP2JHsgjb",
        "colab": {
          "base_uri": "https://localhost:8080/"
        },
        "outputId": "cc9c8973-c3cc-430c-8b65-5b12d2742dce"
      },
      "outputs": [
        {
          "output_type": "stream",
          "name": "stdout",
          "text": [
            "[[nan nan nan ... nan nan nan]\n",
            " [nan nan nan ... nan nan nan]\n",
            " [nan nan nan ... nan nan nan]\n",
            " ...\n",
            " [nan nan nan ... nan nan nan]\n",
            " [nan nan nan ... nan nan nan]\n",
            " [nan nan nan ... nan nan nan]]\n"
          ]
        }
      ],
      "source": [
        "print(floodmap_msk)"
      ]
    },
    {
      "cell_type": "code",
      "execution_count": null,
      "metadata": {
        "colab": {
          "base_uri": "https://localhost:8080/",
          "height": 445
        },
        "id": "IrkRQBdvQDxs",
        "outputId": "d5edd9f8-6343-4fe7-a325-98a473b462e8"
      },
      "outputs": [
        {
          "output_type": "display_data",
          "data": {
            "text/plain": [
              "<Figure size 640x480 with 2 Axes>"
            ],
            "image/png": "[encoded data removed]"
          },
          "metadata": {}
        }
      ],
      "source": [
        "if True: #flg_display:\n",
        "  ax =plt.subplot(1,1,1)\n",
        "  img = ax.contourf(lons,lats, np.sin(floodmap_msk*0.1))#,levels=np.arange(1,cnt+10,10))\n",
        "  ax.axis(\"equal\")\n",
        "  #plt.xlim([130.54, 130.59])\n",
        "  #plt.ylim([33.31, 33.36])\n",
        "  plt.colorbar(img)"
      ]
    },
    {
      "cell_type": "code",
      "execution_count": null,
      "metadata": {
        "colab": {
          "base_uri": "https://localhost:8080/",
          "height": 430
        },
        "id": "ERbOePMYOUg3",
        "outputId": "ed24b8bd-5cee-4acb-a6d5-97187475b40d"
      },
      "outputs": [
        {
          "output_type": "display_data",
          "data": {
            "text/plain": [
              "<Figure size 640x480 with 2 Axes>"
            ],
            "image/png": "[encoded data removed]"
          },
          "metadata": {}
        }
      ],
      "source": [
        "if True: #flg_display:\n",
        "  ax =plt.subplot(1,1,1)\n",
        "  img = ax.contourf(lons,lats, depthmap,levels=np.arange(0,maxdepth+0.1,0.25))\n",
        "  ax.axis(\"equal\")\n",
        "  plt.colorbar(img)\n",
        "  #ax.set_xlim(130.4,130.5)\n",
        "  #ax.set_ylim(33.22,33.32)"
      ]
    },
    {
      "cell_type": "code",
      "execution_count": null,
      "metadata": {
        "id": "boMapSFWknCN"
      },
      "outputs": [],
      "source": [
        "if flg_display:\n",
        "  xx = [pt[\"lon\"] for pt in sorted_pts]\n",
        "  yy = [pt[\"lat\"] for pt in sorted_pts]\n",
        "  ax =plt.subplot(1,1,1)\n",
        "  img = ax.contourf(lons,lats, depthmap,levels=np.arange(0,maxdepth+0.1,0.25))\n",
        "  plt.colorbar(img)\n",
        "  ax.scatter(xx,yy, c=\"c\", s=0.1)\n",
        "  ax.axis(\"equal\")\n",
        "  ax.set_xlim(130.4,130.5)\n",
        "  ax.set_ylim(33.22,33.32)"
      ]
    },
    {
      "cell_type": "code",
      "execution_count": null,
      "metadata": {
        "id": "vb4iGn2K_8-5"
      },
      "outputs": [],
      "source": [
        "del img"
      ]
    },
    {
      "cell_type": "code",
      "execution_count": null,
      "metadata": {
        "colab": {
          "base_uri": "https://localhost:8080/"
        },
        "id": "SPHaikfT4Vbk",
        "outputId": "1e68f053-53c7-4438-8919-96fbeea4a0c3"
      },
      "outputs": [
        {
          "output_type": "stream",
          "name": "stdout",
          "text": [
            "[[nan nan nan ... nan nan nan]\n",
            " [nan nan nan ... nan nan nan]\n",
            " [nan nan nan ... nan nan nan]\n",
            " ...\n",
            " [nan nan nan ... nan nan nan]\n",
            " [nan nan nan ... nan nan nan]\n",
            " [nan nan nan ... nan nan nan]]\n"
          ]
        }
      ],
      "source": [
        "print(floodmap_dem)"
      ]
    },
    {
      "cell_type": "code",
      "execution_count": null,
      "metadata": {
        "colab": {
          "base_uri": "https://localhost:8080/"
        },
        "id": "LZDaNOATIbQb",
        "outputId": "f5514a88-74f1-4e09-cab0-7d57855fceea"
      },
      "outputs": [
        {
          "output_type": "stream",
          "name": "stdout",
          "text": [
            "1\n"
          ]
        }
      ],
      "source": [
        "print(len(save_pts))"
      ]
    },
    {
      "cell_type": "code",
      "execution_count": null,
      "metadata": {
        "id": "MYTAYRPtoaIo"
      },
      "outputs": [],
      "source": [
        "np.savez(file_flooddem.format(int(maxdepth*100)), lons=lons, lats=lats, floodmap_dem=floodmap_dem)\n",
        "np.savez(file_flooddepth.format(int(maxdepth*100)), lons=lons, lats=lats, floodmap_depth=depthmap)"
      ]
    }
  ],
  "metadata": {
    "colab": {
      "provenance": []
    },
    "kernelspec": {
      "display_name": "Python 3",
      "name": "python3"
    },
    "language_info": {
      "name": "python"
    }
  },
  "nbformat": 4,
  "nbformat_minor": 0
}