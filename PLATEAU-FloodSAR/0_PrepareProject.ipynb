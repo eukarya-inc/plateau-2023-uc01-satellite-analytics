{
  "cells": [
    {
      "cell_type": "markdown",
      "metadata": {
        "id": "ZrS6-BSScUYV"
      },
      "source": [
        "# PLATEAU-FloodSAR: 0 準備\n",
        "ケース名と解析の領域を設定し、対応する建物データと標高データを準備します。\n",
        "\n",
        "ケース名のサブディレクトリが作成され、結果はそこに保存されます。\n",
        "\n",
        "解析の領域の緯度経度は世界測地系（[EPSG:6668](https://epsg.io/6668), [JGD2011](https://maps.gsi.go.jp/help/howtouse.html#h2-3)）です。[国土地理院地図](https://maps.gsi.go.jp/)から取得してください。\n",
        "\n",
        "解析の領域を含むzoomレベル15の標高データの準備をします。\n",
        "\n",
        "解析の領域内の建物データを抽出します。\n",
        "\n",
        "パラメータを設定した上でメニューバーのランタイム＞全てのセルを実行してください。\n",
        "\n",
        "\n",
        "広域だと全ての処理が終わるのに小一時間ほどかかることもあります。\n",
        "\n",
        "以前と同じ地域について解析する場合は、ケース名のサブディレクトリを作成し、そこに以前のboundary.jsonとbuildings_prsed.jsonをコピーすることで、この手順を省略することができます。\n"
      ]
    },
    {
      "cell_type": "code",
      "execution_count": null,
      "metadata": {
        "colab": {
          "base_uri": "https://localhost:8080/"
        },
        "id": "O1L43eU3eRCG",
        "outputId": "706747c3-e37b-4112-abf7-60ca9f0e7ae2"
      },
      "outputs": [
        {
          "output_type": "stream",
          "name": "stdout",
          "text": [
            "Drive already mounted at /content/drive; to attempt to forcibly remount, call drive.mount(\"/content/drive\", force_remount=True).\n"
          ]
        }
      ],
      "source": [
        "# @title Googleドライブの準備\n",
        "from google.colab import drive\n",
        "import warnings\n",
        "\n",
        "drive.mount('/content/drive')"
      ]
    },
    {
      "cell_type": "code",
      "execution_count": null,
      "metadata": {
        "id": "YkxS9uOlcKsf"
      },
      "outputs": [],
      "source": [
        "# @title 設定するパラメータ\n",
        "\n",
        "# ケース名：解析を通して使います。\n",
        "casename = \"kurume-r2\"\n",
        "\n",
        "# 分析する領域のGeoJSON（ファイルが存在しない場合は次の「分析する領域」が有効）\n",
        "boundaryfile = \"\"# \"kurume.geojson\"\n",
        "\n",
        "# 分析する領域：複数の領域の配列。ひとつの領域は[経度,緯度] の配列。\n",
        "# （先の「分析する領域のGeoJSON」のファイルが存在する場合は上書きされます。）\n",
        "# 最初と最後の [経度,緯度] が異なる場合、自動的に領域を閉じます。\n",
        "\n",
        "#init_boundaries = [\n",
        "#    [\n",
        "#      [130.41249721501615, 33.224722548534864],\n",
        "#      [130.41249721501615, 33.348],\n",
        "#      [130.59, 33.348],\n",
        "#      [130.59, 33.224722548534864],\n",
        "#      [130.41249721501615, 33.224722548534864]\n",
        "#    ]\n",
        "#]\n",
        "\n",
        "init_boundaries = [\n",
        "    [\n",
        "      [130.378532,33.214563],\n",
        "      [130.763741,33.214563],\n",
        "      [130.763741,33.406511],\n",
        "      [130.378532,33.406511],\n",
        "      [130.378532,33.214563]\n",
        "    ]\n",
        "]\n",
        "# CityGMLのダウンロード元のURL\n",
        "url_CityGML = \"https://assets.cms.plateau.reearth.io/assets/d6/70821e-7f58-4f69-bc34-341875704e78/40203_kurume-shi_2020_citygml_3_op.zip\" # URL of the cityGML zip file\n"
      ]
    },
    {
      "cell_type": "code",
      "execution_count": null,
      "metadata": {
        "id": "LplE2sUzVrfP"
      },
      "outputs": [],
      "source": [
        "# @title 詳細設定用パラメータ（基本的には操作不要）\n",
        "\n",
        "enable_savefig = False # 図をGoogleドライブに保存する？\n",
        "\n",
        "zoomlevel = 15 # DEM zoom level to fetch\n",
        "\n",
        "# デバッグ用出力\n",
        "global globalflag_debug\n",
        "\n",
        "# 保存先\n",
        "path_home = \"/content/drive/MyDrive/plateau-2023-uc01-satellite-analytics/PLATEAU-FloodSAR/\"\n",
        "path_cgml = \"/tmp/\" # path_home + \"/CityGML/\"\n",
        "path_dem = path_home + \"/DEM/\"\n",
        "path_case = path_home + casename + \"/\"\n",
        "json_buildings = path_case+\"buildings_parsed.json\"\n",
        "json_boundary = path_case +\"boundary.json\"\n",
        "file_bbox = path_case + \"boundbox.npy\"\n",
        "file_dem_fmt = path_case + \"dem_{}_{}-{}_{}-{}.npz\""
      ]
    },
    {
      "cell_type": "markdown",
      "metadata": {
        "id": "nV0d4iAuXvWw"
      },
      "source": [
        "## 各種読み込み"
      ]
    },
    {
      "cell_type": "code",
      "execution_count": null,
      "metadata": {
        "colab": {
          "base_uri": "https://localhost:8080/"
        },
        "id": "MbXXfTQdiFDH",
        "outputId": "518c75ff-c1d7-4ca4-fcf0-7e3488519b74"
      },
      "outputs": [
        {
          "output_type": "stream",
          "name": "stdout",
          "text": [
            "Requirement already satisfied: geojson in /usr/local/lib/python3.10/dist-packages (3.1.0)\n",
            "Collecting plateauutils\n",
            "  Cloning https://github.com/eukarya-inc/plateauutils.git (to revision main) to /tmp/pip-install-03wj11mu/plateauutils_70bb73502ec74c51b193261206dc4507\n",
            "  Running command git clone --filter=blob:none --quiet https://github.com/eukarya-inc/plateauutils.git /tmp/pip-install-03wj11mu/plateauutils_70bb73502ec74c51b193261206dc4507\n",
            "  Resolved https://github.com/eukarya-inc/plateauutils.git to commit 988d053eae5ff3b0bd9e23445fdb6171796a418f\n",
            "  Installing build dependencies ... \u001b[?25l\u001b[?25hdone\n",
            "  Getting requirements to build wheel ... \u001b[?25l\u001b[?25hdone\n",
            "  Preparing metadata (pyproject.toml) ... \u001b[?25l\u001b[?25hdone\n",
            "Collecting py3dtiles@ git+https://gitlab.com/Oslandia/py3dtiles.git@489289d2f7310fbcb8e95710e250d893999adf5d (from plateauutils)\n",
            "  Using cached py3dtiles-6.0.0-py3-none-any.whl\n",
            "Requirement already satisfied: click in /usr/local/lib/python3.10/dist-packages (from plateauutils) (8.1.7)\n",
            "Requirement already satisfied: numpy in /usr/local/lib/python3.10/dist-packages (from plateauutils) (1.22.4)\n",
            "Requirement already satisfied: pandas in /usr/local/lib/python3.10/dist-packages (from plateauutils) (1.5.3)\n",
            "Requirement already satisfied: pillow in /usr/local/lib/python3.10/dist-packages (from plateauutils) (9.4.0)\n",
            "Requirement already satisfied: pyproj in /usr/local/lib/python3.10/dist-packages (from plateauutils) (3.6.1)\n",
            "Requirement already satisfied: reearthcmsapi in /usr/local/lib/python3.10/dist-packages (from plateauutils) (0.0.3)\n",
            "Requirement already satisfied: requests in /usr/local/lib/python3.10/dist-packages (from plateauutils) (2.31.0)\n",
            "Requirement already satisfied: shapely in /usr/local/lib/python3.10/dist-packages (from plateauutils) (2.0.2)\n",
            "Requirement already satisfied: tqdm in /usr/local/lib/python3.10/dist-packages (from plateauutils) (4.66.1)\n",
            "Requirement already satisfied: python-dateutil>=2.8.1 in /usr/local/lib/python3.10/dist-packages (from pandas->plateauutils) (2.8.2)\n",
            "Requirement already satisfied: pytz>=2020.1 in /usr/local/lib/python3.10/dist-packages (from pandas->plateauutils) (2023.3.post1)\n",
            "Requirement already satisfied: cython in /usr/local/lib/python3.10/dist-packages (from py3dtiles@ git+https://gitlab.com/Oslandia/py3dtiles.git@489289d2f7310fbcb8e95710e250d893999adf5d->plateauutils) (3.0.6)\n",
            "Requirement already satisfied: earcut==1.1.5 in /usr/local/lib/python3.10/dist-packages (from py3dtiles@ git+https://gitlab.com/Oslandia/py3dtiles.git@489289d2f7310fbcb8e95710e250d893999adf5d->plateauutils) (1.1.5)\n",
            "Requirement already satisfied: lz4 in /usr/local/lib/python3.10/dist-packages (from py3dtiles@ git+https://gitlab.com/Oslandia/py3dtiles.git@489289d2f7310fbcb8e95710e250d893999adf5d->plateauutils) (4.3.2)\n",
            "Requirement already satisfied: numba in /usr/local/lib/python3.10/dist-packages (from py3dtiles@ git+https://gitlab.com/Oslandia/py3dtiles.git@489289d2f7310fbcb8e95710e250d893999adf5d->plateauutils) (0.58.1)\n",
            "Requirement already satisfied: psutil in /usr/local/lib/python3.10/dist-packages (from py3dtiles@ git+https://gitlab.com/Oslandia/py3dtiles.git@489289d2f7310fbcb8e95710e250d893999adf5d->plateauutils) (5.9.5)\n",
            "Requirement already satisfied: pyzmq in /usr/local/lib/python3.10/dist-packages (from py3dtiles@ git+https://gitlab.com/Oslandia/py3dtiles.git@489289d2f7310fbcb8e95710e250d893999adf5d->plateauutils) (23.2.1)\n",
            "Requirement already satisfied: certifi in /usr/local/lib/python3.10/dist-packages (from pyproj->plateauutils) (2023.11.17)\n",
            "Requirement already satisfied: frozendict>=2.3.4 in /usr/local/lib/python3.10/dist-packages (from reearthcmsapi->plateauutils) (2.3.10)\n",
            "Requirement already satisfied: setuptools>=21.0.0 in /usr/local/lib/python3.10/dist-packages (from reearthcmsapi->plateauutils) (67.7.2)\n",
            "Requirement already satisfied: typing-extensions>=4.3.0 in /usr/local/lib/python3.10/dist-packages (from reearthcmsapi->plateauutils) (4.5.0)\n",
            "Requirement already satisfied: urllib3<2.1.0,>=1.26.7 in /usr/local/lib/python3.10/dist-packages (from reearthcmsapi->plateauutils) (2.0.7)\n",
            "Requirement already satisfied: charset-normalizer<4,>=2 in /usr/local/lib/python3.10/dist-packages (from requests->plateauutils) (3.3.2)\n",
            "Requirement already satisfied: idna<4,>=2.5 in /usr/local/lib/python3.10/dist-packages (from requests->plateauutils) (3.6)\n",
            "Requirement already satisfied: six>=1.5 in /usr/local/lib/python3.10/dist-packages (from python-dateutil>=2.8.1->pandas->plateauutils) (1.16.0)\n",
            "Requirement already satisfied: llvmlite<0.42,>=0.41.0dev0 in /usr/local/lib/python3.10/dist-packages (from numba->py3dtiles@ git+https://gitlab.com/Oslandia/py3dtiles.git@489289d2f7310fbcb8e95710e250d893999adf5d->plateauutils) (0.41.1)\n"
          ]
        }
      ],
      "source": [
        "!pip install geojson\n",
        "!pip install git+https://github.com/eukarya-inc/plateauutils.git@main#egg=plateauutils"
      ]
    },
    {
      "cell_type": "code",
      "execution_count": null,
      "metadata": {
        "id": "6lb2ZYTiX7wv"
      },
      "outputs": [],
      "source": [
        "# @title 主要ライブラリインポート\n",
        "import numpy as np\n",
        "import math\n",
        "import requests\n",
        "import os\n",
        "import geojson\n",
        "from progressbar import progressbar\n",
        "from shapely import box\n",
        "import matplotlib.pyplot as plt\n",
        "import sys\n",
        "sys.path.append(path_home)\n",
        "import plateau_floodsar_lib as pfsl"
      ]
    },
    {
      "cell_type": "code",
      "execution_count": null,
      "metadata": {
        "id": "BAqQ3CNCZDsF"
      },
      "outputs": [],
      "source": [
        "# @title 基本的な関数\n",
        "\n",
        "def coordinates_to_rect(coordinates):\n",
        "  #coordinates = coordinates[0]\n",
        "\n",
        "  lon_min = min(coordinates, key=lambda x: x[0])[0]\n",
        "  lon_max = max(coordinates, key=lambda x: x[0])[0]\n",
        "  lat_min = min(coordinates, key=lambda x: x[1])[1]\n",
        "  lat_max = max(coordinates, key=lambda x: x[1])[1]\n",
        "  # rasterio bounds tuple (left, bottom, right, top)\n",
        "  # https://rasterio.readthedocs.io/en/stable/api/rasterio.coords.html\n",
        "  return (lon_min, lat_min, lon_max, lat_max)"
      ]
    },
    {
      "cell_type": "markdown",
      "metadata": {
        "id": "wOxVDGMoX44I"
      },
      "source": [
        "## 実行"
      ]
    },
    {
      "cell_type": "code",
      "execution_count": null,
      "metadata": {
        "cellView": "form",
        "colab": {
          "base_uri": "https://localhost:8080/"
        },
        "id": "ISBbSZvpWy8X",
        "outputId": "8102be62-61d3-48d6-f2ae-f60144e28f13"
      },
      "outputs": [
        {
          "output_type": "stream",
          "name": "stdout",
          "text": [
            "kurume-r2のディレクトリを作成しました。全ての結果はこの中に保存されます。\n"
          ]
        }
      ],
      "source": [
        "# @title ディレクトリ準備\n",
        "\n",
        "if os.path.exists(path_case):\n",
        "  print(f\"{casename}のディレクトリは既に存在しています。内容が上書きされます。\")\n",
        "  #warnings.warn(\"The destination exists already. It will be overwritten.\")\n",
        "else:\n",
        "  print(f\"{casename}のディレクトリを作成しました。全ての結果はこの中に保存されます。\")\n",
        "  os.mkdir(path_case)\n",
        "\n",
        "if not os.path.exists(path_cgml):\n",
        "  os.mkdir(path_cgml)"
      ]
    },
    {
      "cell_type": "code",
      "execution_count": null,
      "metadata": {
        "cellView": "form",
        "colab": {
          "base_uri": "https://localhost:8080/"
        },
        "id": "XWtFEY2_lzRQ",
        "outputId": "96d3e0e5-d19b-44f5-cd64-1f2677d8d4a5"
      },
      "outputs": [
        {
          "output_type": "stream",
          "name": "stdout",
          "text": [
            "/content/drive/MyDrive/plateau-2023-uc01-satellite-analytics/PLATEAU-FloodSAR/kurume-r2/boundary.json に領域が保存されました。\n"
          ]
        }
      ],
      "source": [
        "#@title 領域の初期設定と保存\n",
        "boundaries_json = []\n",
        "\n",
        "#print(path_home+boundaryfile)\n",
        "if os.path.isfile(path_home+boundaryfile):\n",
        "  print(\"loading: \", boundaryfile)\n",
        "  with open(path_home+boundaryfile,\"r\") as ifile:\n",
        "    tmp = geojson.load(ifile)\n",
        "    print(tmp)\n",
        "    try:\n",
        "      if tmp[\"type\"] == 'FeatureCollection':\n",
        "        tmp = tmp['features']\n",
        "    except:\n",
        "      pass\n",
        "    print(tmp)\n",
        "    try:\n",
        "      for ii,vv in enumerate(tmp):\n",
        "        if vv[\"type\"] == 'Feature':\n",
        "          tmp[ii] = vv['geometry']\n",
        "    except:\n",
        "      pass\n",
        "    print(tmp)\n",
        "    for vv in tmp:\n",
        "      boundaries_json.append(geojson.Polygon(vv[\"coordinates\"]))\n",
        "\n",
        "else:\n",
        "  for ii, boundary in enumerate(init_boundaries):\n",
        "    if boundary[0] != boundary[-1]:\n",
        "      boundary.append(boundary[0])\n",
        "    boundaries_json.append(geojson.Polygon([boundary]))\n",
        "\n",
        "#[{\"type\": \"Polygon\", \"coordinates\": [[[\n",
        "\n",
        "#boundary_polygon = geojson.Polygon(boundaries)\n",
        "#print(geojson.dumps(boundaries_json))\n",
        "#print(geojson.loads(geojson.dumps(boundaries_json)))\n",
        "with open(json_boundary, \"w\") as ofile:\n",
        "  ofile.write(geojson.dumps(boundaries_json))\n",
        "print(f\"{json_boundary} に領域が保存されました。\")"
      ]
    },
    {
      "cell_type": "code",
      "execution_count": null,
      "metadata": {
        "cellView": "form",
        "colab": {
          "base_uri": "https://localhost:8080/"
        },
        "id": "gml-unQWHXPc",
        "outputId": "1ddebe95-9882-4a8b-df8b-ebbbe56c033c"
      },
      "outputs": [
        {
          "output_type": "stream",
          "name": "stdout",
          "text": [
            "[{\"type\": \"Polygon\", \"coordinates\": [[[130.378532, 33.214563], [130.763741, 33.214563], [130.763741, 33.406511], [130.378532, 33.406511], [130.378532, 33.214563]]]}]\n",
            "[[130.378532, 33.214563], [130.763741, 33.214563], [130.763741, 33.406511], [130.378532, 33.406511], [130.378532, 33.214563]]\n",
            "(130.378532, 33.214563, 130.763741, 33.406511)\n"
          ]
        }
      ],
      "source": [
        "#@title 最外領域の初期\n",
        "boundary_pts = []\n",
        "with open(json_boundary) as ifile:\n",
        "  txt = ifile.read()\n",
        "  print(txt)\n",
        "  tmp = geojson.loads(txt)\n",
        "  for vv in tmp:\n",
        "    for pp in vv[\"coordinates\"]:\n",
        "      boundary_pts.extend(pp)\n",
        "print(boundary_pts)\n",
        "boundbox = coordinates_to_rect(boundary_pts)\n",
        "del boundary_pts\n",
        "print(boundbox)"
      ]
    },
    {
      "cell_type": "code",
      "execution_count": null,
      "metadata": {
        "colab": {
          "base_uri": "https://localhost:8080/"
        },
        "id": "FsCax0FVdX_v",
        "outputId": "7aafca13-c502-479b-a1e2-1f748678888c"
      },
      "outputs": [
        {
          "output_type": "stream",
          "name": "stdout",
          "text": [
            "{\"type\": \"Polygon\", \"coordinates\": [[[130.378532, 33.214563], [130.763741, 33.214563], [130.763741, 33.406511], [130.378532, 33.406511], [130.378532, 33.214563]]]}\n",
            "POLYGON ((130.378532 33.214563, 130.763741 33.214563, 130.763741 33.406511, 130.378532 33.406511, 130.378532 33.214563))\n"
          ]
        },
        {
          "output_type": "stream",
          "name": "stderr",
          "text": [
            "100%|██████████| 2.63G/2.63G [00:52<00:00, 49.7MiB/s]\n"
          ]
        },
        {
          "output_type": "stream",
          "name": "stdout",
          "text": [
            "uro:buildingStructureType is NoneType in bldg_5dd76af7-4bbb-433f-bd71-b7451226799f in 40203_kurume-shi_2020_citygml_3_op/udx/bldg/49307461_bldg_6697_op.gml\n"
          ]
        }
      ],
      "source": [
        "# @title 建物データのパース　：  *久留米のほぼ全域だと24分かかります。*\n",
        "\n",
        "from shapely import from_geojson\n",
        "from plateauutils.parser.city_gml_parser import CityGMLParser\n",
        "import shutil\n",
        "import json\n",
        "\n",
        "\n",
        "buildings = []\n",
        "\n",
        "for boundary in boundaries_json:\n",
        "  boundary_str = geojson.dumps(boundary)\n",
        "  print(boundary_str)\n",
        "  print(from_geojson(boundary_str))\n",
        "\n",
        "  parser = CityGMLParser(from_geojson(boundary_str))\n",
        "  #try:\n",
        "  tmp = parser.download_and_parse(url_CityGML, path_cgml)\n",
        "  #print(tmp)\n",
        "  buildings.extend(tmp)\n",
        "  #except ValueError:\n",
        "  #  print(\"No data found\")\n"
      ]
    },
    {
      "cell_type": "code",
      "execution_count": null,
      "metadata": {
        "cellView": "form",
        "id": "UjvdvWlG3_re"
      },
      "outputs": [],
      "source": [
        "#@title 最外領域の再設定\n",
        "# boundbox (130.411835, 33.230934, 130.695763, 33.36523)\n",
        "boundbox = list(boundbox)\n",
        "for bb in buildings:\n",
        "  lon, lat = bb[\"center\"]\n",
        "  if lon < boundbox[0]:\n",
        "    boundbox[0] = lon\n",
        "  if lat < boundbox[1]:\n",
        "    boundbox[1] = lat\n",
        "  if boundbox[2] < lon:\n",
        "    boundbox[2] = lon\n",
        "  if boundbox[3] < lat:\n",
        "    boundbox[3] = lat\n",
        "boundbox = tuple(boundbox)\n",
        "np.save(file_bbox, boundbox)"
      ]
    },
    {
      "cell_type": "code",
      "execution_count": null,
      "metadata": {
        "colab": {
          "base_uri": "https://localhost:8080/"
        },
        "id": "yi7EY_djFaXG",
        "outputId": "42dc2844-cb01-426c-b5f1-ab49f0f02dc9"
      },
      "outputs": [
        {
          "output_type": "stream",
          "name": "stdout",
          "text": [
            "(130.378532, 33.214563, 130.763741, 33.406511)\n",
            "POLYGON ((130.763741 33.214563, 130.763741 33.406511, 130.378532 33.406511, 130.378532 33.214563, 130.763741 33.214563))\n"
          ]
        },
        {
          "output_type": "stream",
          "name": "stderr",
          "text": [
            "100% (36 of 36) |########################| Elapsed Time: 0:10:20 Time:  0:10:20\n"
          ]
        }
      ],
      "source": [
        "# @title DEMマップ取得\n",
        "print(boundbox)\n",
        "bbox = box(*boundbox)\n",
        "print(bbox)\n",
        "gdm = pfsl.GiajDemManager(path_home,dem_types = [{\"type\":\"dem5a\",\"z\":15},{\"type\":\"dem5b\",\"z\":15}])\n",
        "gdm.load_dem_tiles(bbox)\n",
        "tile = gdm.produce_tile_stiched()"
      ]
    },
    {
      "cell_type": "code",
      "execution_count": null,
      "metadata": {
        "cellView": "form",
        "colab": {
          "base_uri": "https://localhost:8080/"
        },
        "id": "_tsP-dJOnS1g",
        "outputId": "35d5b0f6-ea14-4e2f-c2cc-29a0b9da1c88"
      },
      "outputs": [
        {
          "output_type": "stream",
          "name": "stdout",
          "text": [
            "{'gid': 'bldg_383f1804-aa34-4634-949f-f769e09fa92d', 'center': [130.41263587199947, 33.22489181671553], 'min_height': 3.805999994277954, 'measured_height': 9.3, 'building_structure_type': '非木造', 'dem': 4.211194651213488}\n",
            "102376件の建物データ\n",
            "/content/drive/MyDrive/plateau-2023-uc01-satellite-analytics/PLATEAU-FloodSAR/kurume-r2/buildings_parsed.json に建物データが保存されました。\n"
          ]
        }
      ],
      "source": [
        "#@title 建物への標高付与と建物データの保存\n",
        "for building in buildings:\n",
        "  lon, lat = building[\"center\"]\n",
        "  building[\"dem\"] = gdm.calc_dem_interp(lon,lat)\n",
        "print(buildings[0])\n",
        "print(f\"{len(buildings)}件の建物データ\")\n",
        "\n",
        "with open(json_buildings, \"w\") as ofile:\n",
        "  ofile.write(json.dumps(buildings, ensure_ascii=False))\n",
        "print(f\"{json_buildings} に建物データが保存されました。\")"
      ]
    },
    {
      "cell_type": "code",
      "execution_count": null,
      "metadata": {
        "colab": {
          "base_uri": "https://localhost:8080/",
          "height": 466
        },
        "id": "AkeyBX7zu_Ax",
        "outputId": "de062a6c-0ba8-4884-aac5-780502c8c175"
      },
      "outputs": [
        {
          "output_type": "execute_result",
          "data": {
            "text/plain": [
              "Text(0, 0.5, 'min_height')"
            ]
          },
          "metadata": {},
          "execution_count": 27
        },
        {
          "output_type": "display_data",
          "data": {
            "text/plain": [
              "<Figure size 640x480 with 1 Axes>"
            ],
            "image/png": "[encoded data removed]"
          },
          "metadata": {}
        }
      ],
      "source": [
        "minhs = np.array([bb[\"min_height\"] for bb in buildings])\n",
        "dems = np.array([bb[\"dem\"] for bb in buildings])\n",
        "plt.scatter(dems, minhs, s=0.5)#, alpha=0.10)\n",
        "plt.plot([0,80],[0,80], \"--\", c=\"y\")\n",
        "plt.xlabel(\"dem\")\n",
        "plt.ylabel(\"min_height\")"
      ]
    },
    {
      "cell_type": "code",
      "execution_count": null,
      "metadata": {
        "colab": {
          "base_uri": "https://localhost:8080/",
          "height": 472
        },
        "id": "CayTluHDw2h3",
        "outputId": "3f9033b5-b1d0-40cd-e194-6981cbc16347"
      },
      "outputs": [
        {
          "output_type": "execute_result",
          "data": {
            "text/plain": [
              "Text(0.5, 0, 'min_height - dem')"
            ]
          },
          "metadata": {},
          "execution_count": 28
        },
        {
          "output_type": "display_data",
          "data": {
            "text/plain": [
              "<Figure size 640x480 with 1 Axes>"
            ],
            "image/png": "[encoded data removed]"
          },
          "metadata": {}
        }
      ],
      "source": [
        "plt.hist(minhs-dems, bins=np.arange(-30,31,1))\n",
        "plt.ylim([0,10])\n",
        "plt.ylabel(\"count\")\n",
        "plt.xlabel(\"min_height - dem\")"
      ]
    },
    {
      "cell_type": "code",
      "execution_count": null,
      "metadata": {
        "cellView": "form",
        "colab": {
          "base_uri": "https://localhost:8080/",
          "height": 452
        },
        "id": "b3tDn9aTFjhI",
        "outputId": "74f7caad-13f1-447b-f358-b9035109d6ae"
      },
      "outputs": [
        {
          "output_type": "execute_result",
          "data": {
            "text/plain": [
              "(130.374755859375, 130.77022075653076, 33.211097684352545, 33.413047314283666)"
            ]
          },
          "metadata": {},
          "execution_count": 29
        },
        {
          "output_type": "display_data",
          "data": {
            "text/plain": [
              "<Figure size 640x480 with 2 Axes>"
            ],
            "image/png": "[encoded data removed]"
          },
          "metadata": {}
        }
      ],
      "source": [
        "# @title 建物と標高のチェック\n",
        "xx = [bld[\"center\"][0] for bld in buildings]\n",
        "yy = [bld[\"center\"][1] for bld in buildings]\n",
        "ax =plt.subplot(1,1,1)\n",
        "img = ax.contourf(tile[\"lons\"],tile[\"lats\"],tile[\"dem\"])\n",
        "#img = ax.imshow(demmap)\n",
        "ax.scatter(xx,yy,c=\"c\", s=1, alpha=0.5)\n",
        "plt.colorbar(img)\n",
        "ax.axis(\"equal\")"
      ]
    }
  ],
  "metadata": {
    "colab": {
      "collapsed_sections": [
        "nV0d4iAuXvWw",
        "v16x3oVwpxd0"
      ],
      "provenance": []
    },
    "kernelspec": {
      "display_name": "Python 3",
      "name": "python3"
    },
    "language_info": {
      "name": "python"
    }
  },
  "nbformat": 4,
  "nbformat_minor": 0
}