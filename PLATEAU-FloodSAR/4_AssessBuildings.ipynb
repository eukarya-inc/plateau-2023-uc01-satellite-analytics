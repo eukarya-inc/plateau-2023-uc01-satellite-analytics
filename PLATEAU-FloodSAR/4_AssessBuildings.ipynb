{
  "cells": [
    {
      "cell_type": "markdown",
      "metadata": {
        "id": "plexmctqq0xV"
      },
      "source": [
        "建物データと浸水面標高ラスターデータから建物の被災データを生成。（必要手続き：Driveの接続）\n",
        "\n",
        "3_CalcFloodDEMRaster.ipynbの実行後は再起動させる必要があります。"
      ]
    },
    {
      "cell_type": "code",
      "execution_count": null,
      "metadata": {
        "colab": {
          "base_uri": "https://localhost:8080/"
        },
        "id": "6miOua5u8sih",
        "outputId": "8d1f6d84-e2ed-4ded-efc9-f211aebcf0c5"
      },
      "outputs": [
        {
          "output_type": "stream",
          "name": "stdout",
          "text": [
            "Drive already mounted at /content/drive; to attempt to forcibly remount, call drive.mount(\"/content/drive\", force_remount=True).\n"
          ]
        }
      ],
      "source": [
        "# @title Googleドライブの準備\n",
        "from google.colab import drive\n",
        "drive.mount('/content/drive')"
      ]
    },
    {
      "cell_type": "code",
      "execution_count": null,
      "metadata": {
        "id": "ThhMHeyt3lCC"
      },
      "outputs": [],
      "source": [
        "#@title 日本の調査IDと自治体コードから住所情報を得る\n",
        "#詳しくは https://www.e-stat.go.jp/gis/statmap-search?page=1&type=2&aggregateUnitForBoundary=A&toukeiCode=00200521&toukeiYear=2020&serveyId=A002005212020&coordsys=1&format=shape&datum=2000\n",
        "\n",
        "survey_id = \"A002005212020\" #@param {type: \"string\"}\n",
        "pref_code = \"40\" #@param\n",
        "city_code = \"202\"  #@param\n",
        "# \"202\" # 大牟田市\n",
        "# \"203\" # 久留米市\n"
      ]
    },
    {
      "cell_type": "code",
      "execution_count": null,
      "metadata": {
        "id": "TiWIAVi6pnpm"
      },
      "outputs": [],
      "source": [
        "# @title 設定するパラメータ\n",
        "\n",
        "# ケース名：解析を通して使います。\n",
        "casename = \"omuta-r2\" # -giaj\" #\"kurume-r2\" # \"kurume-r2-GIAJ\"\n",
        "\n",
        "maxdepth = 7 #0 # Set 0 for GIAJ flood data\n",
        "\n",
        "local_government_code = f\"{pref_code}{city_code}\"\n",
        "\n",
        "# 確認用画像出力用フラグ\n",
        "flg_checkDisp = False\n"
      ]
    },
    {
      "cell_type": "code",
      "execution_count": null,
      "metadata": {
        "id": "GmDsB5-EpfHS"
      },
      "outputs": [],
      "source": [
        "# @title 詳細設定用パラメータ（基本的には操作不要）\n",
        "\n",
        "enable_savefig = False # 図をGoogleドライブに保存する？\n",
        "\n",
        "zoomlevel = 15 # DEM zoom level to fetch\n",
        "\n",
        "# デバッグ用出力\n",
        "global globalflag_debug\n",
        "\n",
        "# 保存先\n",
        "path_home = \"/content/drive/MyDrive/plateau-2023-uc01-satellite-analytics/PLATEAU-FloodSAR/\"\n",
        "#path_cgml = path_home + \"/CityGML/\"\n",
        "path_dem = path_home + \"/DEM/\"\n",
        "path_case = path_home + casename + \"/\"\n",
        "path_upload = path_case + \"ForUpload/\"\n",
        "json_buildings = path_case+\"buildings_parsed.json\"\n",
        "json_boundary = path_case +\"boundary.json\"\n",
        "file_bbox = path_case + \"boundbox.npy\"\n",
        "file_dem_fmt = path_case + \"dem_{}_{}-{}_{}-{}.npz\"\n",
        "\n",
        "file_flooddem = path_case + \"flood_dem_{:04d}.npz\"\n",
        "file_flooddepth = path_case + \"flood_depth_{:04d}.npz\"\n",
        "\n",
        "path_heattile_tmp = \"heat/\"\n",
        "\n",
        "file_building_csv = path_upload + \"buildings.csv\"\n",
        "file_floodHeattile_yukauemokuzou_zip = path_upload+\"heatmap_yukaue_mokuzou.zip\"\n",
        "file_floodHeattile_yukashitamokuzou_zip = path_upload+\"heatmap_yukashita_mokuzou.zip\"\n",
        "file_floodHeattile_allmokuzou_zip = path_upload+\"heatmap_all_mokuzou.zip\""
      ]
    },
    {
      "cell_type": "code",
      "execution_count": null,
      "metadata": {
        "colab": {
          "base_uri": "https://localhost:8080/"
        },
        "id": "mIDzsoB53lCD",
        "outputId": "fd97725f-c32d-4888-c979-498233ddc0f7"
      },
      "outputs": [
        {
          "output_type": "stream",
          "name": "stdout",
          "text": [
            "/content/drive/MyDrive/plateau-2023-uc01-satellite-analytics/PLATEAU-FloodSAR\n",
            "mkdir: cannot create directory ‘shapes’: File exists\n",
            "/content/drive/MyDrive/plateau-2023-uc01-satellite-analytics/PLATEAU-FloodSAR/shapes\n",
            "ファイルがダウンロードされました: A002005212020DDSWC40202.zip\n",
            "mkdir: cannot create directory ‘A002005212020DDSWC40202’: File exists\n",
            "Archive:  A002005212020DDSWC40202.zip\n",
            "  inflating: A002005212020DDSWC40202/r2ka40202.shp  \n",
            "  inflating: A002005212020DDSWC40202/r2ka40202.shx  \n",
            "  inflating: A002005212020DDSWC40202/r2ka40202.dbf  \n",
            "  inflating: A002005212020DDSWC40202/r2ka40202.prj  \n",
            "/content/drive/MyDrive/plateau-2023-uc01-satellite-analytics/PLATEAU-FloodSAR\n"
          ]
        }
      ],
      "source": [
        "# @title shapeファイルをダウンロードする．\n",
        "%cd {path_home}\n",
        "!mkdir shapes\n",
        "%cd shapes\n",
        "\n",
        "import requests\n",
        "import re\n",
        "from urllib.parse import unquote\n",
        "\n",
        "# ダウンロードするファイルのURL\n",
        "local_government_code = f\"{pref_code}{city_code}\"\n",
        "url = f\"https://www.e-stat.go.jp/gis/statmap-search/data?dlserveyId={survey_id}&code={local_government_code}&coordSys=1&format=shape&downloadType=5&datum=2000\"\n",
        "\n",
        "def get_filename_from_cd(cd):\n",
        "    \"\"\"\n",
        "    Content-Dispositionヘッダーからファイル名を取得する関数\n",
        "    \"\"\"\n",
        "    if not cd:\n",
        "        return None\n",
        "    fname = re.findall(\"filename\\*=UTF-8''(.+)\", cd)\n",
        "    if len(fname) == 0:\n",
        "        return None\n",
        "    return unquote(fname[0])\n",
        "\n",
        "# ファイルをダウンロードし保存する関数\n",
        "def download_file(url):\n",
        "    \"\"\"\n",
        "    指定されたURLからファイルをダウンロードし、Content-Dispositionヘッダーから取得したファイル名で保存する\n",
        "    \"\"\"\n",
        "    with requests.get(url, stream=True) as response:\n",
        "        response.raise_for_status()\n",
        "        filename = get_filename_from_cd(response.headers.get('content-disposition'))\n",
        "        if not filename:\n",
        "            filename = 'downloaded_file.zip'\n",
        "        with open(filename, 'wb') as file:\n",
        "            for chunk in response.iter_content(chunk_size=8192):\n",
        "                file.write(chunk)\n",
        "        print(f\"ファイルがダウンロードされました: {filename}\")\n",
        "    return filename\n",
        "\n",
        "# ファイルのダウンロード\n",
        "shp_filename = download_file(url)\n",
        "\n",
        "import os\n",
        "shape_dir = os.path.splitext(shp_filename)[0]\n",
        "!mkdir {shape_dir}\n",
        "!unzip -o {shp_filename} -d {shape_dir}\n",
        "\n",
        "%cd {path_home}\n",
        "from glob import glob\n",
        "\n",
        "address_shp = glob(f\"shapes/{shape_dir}/*.shp\")[0] # このコードの場所からみた住所のshpファイルの相対パス\n",
        "shape_file = path_home + address_shp"
      ]
    },
    {
      "cell_type": "code",
      "execution_count": null,
      "metadata": {
        "colab": {
          "base_uri": "https://localhost:8080/"
        },
        "id": "3QVzgY8L4r5K",
        "outputId": "03af08b5-4b76-47f4-a736-3e288feea2b6"
      },
      "outputs": [
        {
          "output_type": "stream",
          "name": "stdout",
          "text": [
            "Requirement already satisfied: plateauutils in /usr/local/lib/python3.10/dist-packages (0.0.14)\n",
            "Requirement already satisfied: click in /usr/local/lib/python3.10/dist-packages (from plateauutils) (8.1.7)\n",
            "Requirement already satisfied: numpy in /usr/local/lib/python3.10/dist-packages (from plateauutils) (1.26.2)\n",
            "Requirement already satisfied: pandas in /usr/local/lib/python3.10/dist-packages (from plateauutils) (1.5.3)\n",
            "Requirement already satisfied: pillow in /usr/local/lib/python3.10/dist-packages (from plateauutils) (9.4.0)\n",
            "Requirement already satisfied: py3dtiles in /usr/local/lib/python3.10/dist-packages (from plateauutils) (7.0.0)\n",
            "Requirement already satisfied: pyproj in /usr/local/lib/python3.10/dist-packages (from plateauutils) (3.6.1)\n",
            "Requirement already satisfied: reearthcmsapi in /usr/local/lib/python3.10/dist-packages (from plateauutils) (0.0.3)\n",
            "Requirement already satisfied: requests in /usr/local/lib/python3.10/dist-packages (from plateauutils) (2.31.0)\n",
            "Requirement already satisfied: shapely in /usr/local/lib/python3.10/dist-packages (from plateauutils) (2.0.2)\n",
            "Requirement already satisfied: tqdm in /usr/local/lib/python3.10/dist-packages (from plateauutils) (4.66.1)\n",
            "Requirement already satisfied: python-dateutil>=2.8.1 in /usr/local/lib/python3.10/dist-packages (from pandas->plateauutils) (2.8.2)\n",
            "Requirement already satisfied: pytz>=2020.1 in /usr/local/lib/python3.10/dist-packages (from pandas->plateauutils) (2023.3.post1)\n",
            "Requirement already satisfied: cython in /usr/local/lib/python3.10/dist-packages (from py3dtiles->plateauutils) (3.0.6)\n",
            "Requirement already satisfied: earcut==1.1.5 in /usr/local/lib/python3.10/dist-packages (from py3dtiles->plateauutils) (1.1.5)\n",
            "Requirement already satisfied: lz4 in /usr/local/lib/python3.10/dist-packages (from py3dtiles->plateauutils) (4.3.2)\n",
            "Requirement already satisfied: numba in /usr/local/lib/python3.10/dist-packages (from py3dtiles->plateauutils) (0.58.1)\n",
            "Requirement already satisfied: psutil in /usr/local/lib/python3.10/dist-packages (from py3dtiles->plateauutils) (5.9.5)\n",
            "Requirement already satisfied: pyzmq in /usr/local/lib/python3.10/dist-packages (from py3dtiles->plateauutils) (23.2.1)\n",
            "Requirement already satisfied: certifi in /usr/local/lib/python3.10/dist-packages (from pyproj->plateauutils) (2023.11.17)\n",
            "Requirement already satisfied: frozendict>=2.3.4 in /usr/local/lib/python3.10/dist-packages (from reearthcmsapi->plateauutils) (2.3.10)\n",
            "Requirement already satisfied: setuptools>=21.0.0 in /usr/local/lib/python3.10/dist-packages (from reearthcmsapi->plateauutils) (67.7.2)\n",
            "Requirement already satisfied: typing-extensions>=4.3.0 in /usr/local/lib/python3.10/dist-packages (from reearthcmsapi->plateauutils) (4.5.0)\n",
            "Requirement already satisfied: urllib3<2.1.0,>=1.26.7 in /usr/local/lib/python3.10/dist-packages (from reearthcmsapi->plateauutils) (2.0.7)\n",
            "Requirement already satisfied: charset-normalizer<4,>=2 in /usr/local/lib/python3.10/dist-packages (from requests->plateauutils) (3.3.2)\n",
            "Requirement already satisfied: idna<4,>=2.5 in /usr/local/lib/python3.10/dist-packages (from requests->plateauutils) (3.6)\n",
            "Requirement already satisfied: six>=1.5 in /usr/local/lib/python3.10/dist-packages (from python-dateutil>=2.8.1->pandas->plateauutils) (1.16.0)\n",
            "Requirement already satisfied: llvmlite<0.42,>=0.41.0dev0 in /usr/local/lib/python3.10/dist-packages (from numba->py3dtiles->plateauutils) (0.41.1)\n",
            "Requirement already satisfied: numpy in /usr/local/lib/python3.10/dist-packages (1.26.2)\n",
            "Requirement already satisfied: scikit-image in /usr/local/lib/python3.10/dist-packages (0.22.0)\n",
            "Requirement already satisfied: numpy>=1.22 in /usr/local/lib/python3.10/dist-packages (from scikit-image) (1.26.2)\n",
            "Requirement already satisfied: scipy>=1.8 in /usr/local/lib/python3.10/dist-packages (from scikit-image) (1.11.4)\n",
            "Requirement already satisfied: networkx>=2.8 in /usr/local/lib/python3.10/dist-packages (from scikit-image) (3.2.1)\n",
            "Requirement already satisfied: pillow>=9.0.1 in /usr/local/lib/python3.10/dist-packages (from scikit-image) (9.4.0)\n",
            "Requirement already satisfied: imageio>=2.27 in /usr/local/lib/python3.10/dist-packages (from scikit-image) (2.31.6)\n",
            "Requirement already satisfied: tifffile>=2022.8.12 in /usr/local/lib/python3.10/dist-packages (from scikit-image) (2023.12.9)\n",
            "Requirement already satisfied: packaging>=21 in /usr/local/lib/python3.10/dist-packages (from scikit-image) (23.2)\n",
            "Requirement already satisfied: lazy_loader>=0.3 in /usr/local/lib/python3.10/dist-packages (from scikit-image) (0.3)\n",
            "Requirement already satisfied: rasterio in /usr/local/lib/python3.10/dist-packages (1.3.9)\n",
            "Requirement already satisfied: affine in /usr/local/lib/python3.10/dist-packages (from rasterio) (2.4.0)\n",
            "Requirement already satisfied: attrs in /usr/local/lib/python3.10/dist-packages (from rasterio) (23.1.0)\n",
            "Requirement already satisfied: certifi in /usr/local/lib/python3.10/dist-packages (from rasterio) (2023.11.17)\n",
            "Requirement already satisfied: click>=4.0 in /usr/local/lib/python3.10/dist-packages (from rasterio) (8.1.7)\n",
            "Requirement already satisfied: cligj>=0.5 in /usr/local/lib/python3.10/dist-packages (from rasterio) (0.7.2)\n",
            "Requirement already satisfied: numpy in /usr/local/lib/python3.10/dist-packages (from rasterio) (1.26.2)\n",
            "Requirement already satisfied: snuggs>=1.4.1 in /usr/local/lib/python3.10/dist-packages (from rasterio) (1.4.7)\n",
            "Requirement already satisfied: click-plugins in /usr/local/lib/python3.10/dist-packages (from rasterio) (1.1.1)\n",
            "Requirement already satisfied: setuptools in /usr/local/lib/python3.10/dist-packages (from rasterio) (67.7.2)\n",
            "Requirement already satisfied: pyparsing>=2.1.6 in /usr/local/lib/python3.10/dist-packages (from snuggs>=1.4.1->rasterio) (3.1.1)\n"
          ]
        }
      ],
      "source": [
        "# @title 主要ライブラリインポート\n",
        "#!pip install git+https://github.com/eukarya-inc/plateauutils.git@main#egg=plateauutils\n",
        "!pip install plateauutils\n",
        "!pip install --upgrade numpy\n",
        "!pip install --upgrade scikit-image\n",
        "import json\n",
        "import matplotlib.pyplot as plt\n",
        "import numpy as np\n",
        "from progressbar import progressbar\n",
        "from shapely.geometry import MultiPolygon, shape, mapping, Point\n",
        "!pip install rasterio\n",
        "import rasterio\n",
        "from rasterio.features import geometry_mask\n",
        "import fiona\n",
        "import csv\n",
        "import sys\n",
        "import shutil\n",
        "from plateauutils.flood_converter.flood_to_png import FloodToPng\n",
        "#sys.path.append(path_home)\n",
        "import plateau_floodsar_lib as pfsl"
      ]
    },
    {
      "cell_type": "code",
      "source": [
        "\n",
        "!pip list"
      ],
      "metadata": {
        "id": "4fBPoSrLLlA9",
        "colab": {
          "base_uri": "https://localhost:8080/"
        },
        "outputId": "cbef1f75-26b5-4bea-d2e1-e4c3de1a4c88"
      },
      "execution_count": null,
      "outputs": [
        {
          "output_type": "stream",
          "name": "stdout",
          "text": [
            "Package                          Version\n",
            "-------------------------------- ---------------------\n",
            "absl-py                          1.4.0\n",
            "affine                           2.4.0\n",
            "aiohttp                          3.9.1\n",
            "aiosignal                        1.3.1\n",
            "alabaster                        0.7.13\n",
            "albumentations                   1.3.1\n",
            "altair                           4.2.2\n",
            "anyio                            3.7.1\n",
            "appdirs                          1.4.4\n",
            "argon2-cffi                      23.1.0\n",
            "argon2-cffi-bindings             21.2.0\n",
            "array-record                     0.5.0\n",
            "arviz                            0.15.1\n",
            "astropy                          5.3.4\n",
            "astunparse                       1.6.3\n",
            "async-timeout                    4.0.3\n",
            "atpublic                         4.0\n",
            "attrs                            23.1.0\n",
            "audioread                        3.0.1\n",
            "autograd                         1.6.2\n",
            "Babel                            2.14.0\n",
            "backcall                         0.2.0\n",
            "beautifulsoup4                   4.11.2\n",
            "bidict                           0.22.1\n",
            "bigframes                        0.17.0\n",
            "bleach                           6.1.0\n",
            "blinker                          1.4\n",
            "blis                             0.7.11\n",
            "blosc2                           2.0.0\n",
            "bokeh                            3.3.2\n",
            "bqplot                           0.12.42\n",
            "branca                           0.7.0\n",
            "build                            1.0.3\n",
            "CacheControl                     0.13.1\n",
            "cachetools                       5.3.2\n",
            "catalogue                        2.0.10\n",
            "certifi                          2023.11.17\n",
            "cffi                             1.16.0\n",
            "chardet                          5.2.0\n",
            "charset-normalizer               3.3.2\n",
            "chex                             0.1.7\n",
            "click                            8.1.7\n",
            "click-plugins                    1.1.1\n",
            "cligj                            0.7.2\n",
            "cloudpickle                      2.2.1\n",
            "cmake                            3.27.9\n",
            "cmdstanpy                        1.2.0\n",
            "colorcet                         3.0.1\n",
            "colorlover                       0.3.0\n",
            "colour                           0.1.5\n",
            "community                        1.0.0b1\n",
            "confection                       0.1.4\n",
            "cons                             0.4.6\n",
            "contextlib2                      21.6.0\n",
            "contourpy                        1.2.0\n",
            "cryptography                     41.0.7\n",
            "cufflinks                        0.17.3\n",
            "cupy-cuda12x                     12.2.0\n",
            "cvxopt                           1.3.2\n",
            "cvxpy                            1.3.2\n",
            "cycler                           0.12.1\n",
            "cymem                            2.0.8\n",
            "Cython                           3.0.6\n",
            "dask                             2023.8.1\n",
            "datascience                      0.17.6\n",
            "db-dtypes                        1.2.0\n",
            "dbus-python                      1.2.18\n",
            "debugpy                          1.6.6\n",
            "decorator                        4.4.2\n",
            "defusedxml                       0.7.1\n",
            "diskcache                        5.6.3\n",
            "distributed                      2023.8.1\n",
            "distro                           1.7.0\n",
            "dlib                             19.24.2\n",
            "dm-tree                          0.1.8\n",
            "docutils                         0.18.1\n",
            "dopamine-rl                      4.0.6\n",
            "duckdb                           0.9.2\n",
            "earcut                           1.1.5\n",
            "earthengine-api                  0.1.384\n",
            "easydict                         1.11\n",
            "ecos                             2.0.12\n",
            "editdistance                     0.6.2\n",
            "eerepr                           0.0.4\n",
            "en-core-web-sm                   3.6.0\n",
            "entrypoints                      0.4\n",
            "et-xmlfile                       1.1.0\n",
            "etils                            1.6.0\n",
            "etuples                          0.3.9\n",
            "exceptiongroup                   1.2.0\n",
            "fastai                           2.7.13\n",
            "fastcore                         1.5.29\n",
            "fastdownload                     0.0.7\n",
            "fastjsonschema                   2.19.0\n",
            "fastprogress                     1.0.3\n",
            "fastrlock                        0.8.2\n",
            "filelock                         3.13.1\n",
            "fiona                            1.9.5\n",
            "firebase-admin                   5.3.0\n",
            "Flask                            2.2.5\n",
            "flatbuffers                      23.5.26\n",
            "flax                             0.7.5\n",
            "folium                           0.14.0\n",
            "fonttools                        4.46.0\n",
            "frozendict                       2.3.10\n",
            "frozenlist                       1.4.0\n",
            "fsspec                           2023.6.0\n",
            "future                           0.18.3\n",
            "gast                             0.5.4\n",
            "gcsfs                            2023.6.0\n",
            "GDAL                             3.4.3\n",
            "gdown                            4.6.6\n",
            "geemap                           0.29.6\n",
            "gensim                           4.3.2\n",
            "geocoder                         1.38.1\n",
            "geographiclib                    2.0\n",
            "geopandas                        0.13.2\n",
            "geopy                            2.3.0\n",
            "gin-config                       0.5.0\n",
            "glob2                            0.7\n",
            "google                           2.0.3\n",
            "google-ai-generativelanguage     0.4.0\n",
            "google-api-core                  2.11.1\n",
            "google-api-python-client         2.84.0\n",
            "google-auth                      2.17.3\n",
            "google-auth-httplib2             0.1.1\n",
            "google-auth-oauthlib             1.2.0\n",
            "google-cloud-aiplatform          1.38.1\n",
            "google-cloud-bigquery            3.12.0\n",
            "google-cloud-bigquery-connection 1.12.1\n",
            "google-cloud-bigquery-storage    2.24.0\n",
            "google-cloud-core                2.3.3\n",
            "google-cloud-datastore           2.15.2\n",
            "google-cloud-firestore           2.11.1\n",
            "google-cloud-functions           1.13.3\n",
            "google-cloud-iam                 2.13.0\n",
            "google-cloud-language            2.9.1\n",
            "google-cloud-resource-manager    1.11.0\n",
            "google-cloud-storage             2.8.0\n",
            "google-cloud-translate           3.11.3\n",
            "google-colab                     1.0.0\n",
            "google-crc32c                    1.5.0\n",
            "google-generativeai              0.3.1\n",
            "google-pasta                     0.2.0\n",
            "google-resumable-media           2.7.0\n",
            "googleapis-common-protos         1.62.0\n",
            "googledrivedownloader            0.4\n",
            "graphviz                         0.20.1\n",
            "greenlet                         3.0.2\n",
            "grpc-google-iam-v1               0.13.0\n",
            "grpcio                           1.60.0\n",
            "grpcio-status                    1.48.2\n",
            "gspread                          3.4.2\n",
            "gspread-dataframe                3.3.1\n",
            "gym                              0.25.2\n",
            "gym-notices                      0.0.8\n",
            "h5netcdf                         1.3.0\n",
            "h5py                             3.9.0\n",
            "holidays                         0.38\n",
            "holoviews                        1.17.1\n",
            "html5lib                         1.1\n",
            "httpimport                       1.3.1\n",
            "httplib2                         0.22.0\n",
            "huggingface-hub                  0.19.4\n",
            "humanize                         4.7.0\n",
            "hyperopt                         0.2.7\n",
            "ibis-framework                   6.2.0\n",
            "idna                             3.6\n",
            "imageio                          2.31.6\n",
            "imageio-ffmpeg                   0.4.9\n",
            "imagesize                        1.4.1\n",
            "imbalanced-learn                 0.10.1\n",
            "imgaug                           0.4.0\n",
            "importlib-metadata               7.0.0\n",
            "importlib-resources              6.1.1\n",
            "imutils                          0.5.4\n",
            "inflect                          7.0.0\n",
            "iniconfig                        2.0.0\n",
            "install                          1.3.5\n",
            "intel-openmp                     2023.2.3\n",
            "ipyevents                        2.0.2\n",
            "ipyfilechooser                   0.6.0\n",
            "ipykernel                        5.5.6\n",
            "ipyleaflet                       0.18.0\n",
            "ipython                          7.34.0\n",
            "ipython-genutils                 0.2.0\n",
            "ipython-sql                      0.5.0\n",
            "ipytree                          0.2.2\n",
            "ipywidgets                       7.7.1\n",
            "itsdangerous                     2.1.2\n",
            "jax                              0.4.20\n",
            "jaxlib                           0.4.20+cuda12.cudnn89\n",
            "jeepney                          0.7.1\n",
            "jieba                            0.42.1\n",
            "Jinja2                           3.1.2\n",
            "joblib                           1.3.2\n",
            "jsonpickle                       3.0.2\n",
            "jsonschema                       4.19.2\n",
            "jsonschema-specifications        2023.11.2\n",
            "jupyter-client                   6.1.12\n",
            "jupyter-console                  6.1.0\n",
            "jupyter_core                     5.5.0\n",
            "jupyter-server                   1.24.0\n",
            "jupyterlab_pygments              0.3.0\n",
            "jupyterlab-widgets               3.0.9\n",
            "kaggle                           1.5.16\n",
            "kagglehub                        0.1.4\n",
            "keras                            2.15.0\n",
            "keyring                          23.5.0\n",
            "kiwisolver                       1.4.5\n",
            "langcodes                        3.3.0\n",
            "launchpadlib                     1.10.16\n",
            "lazr.restfulclient               0.14.4\n",
            "lazr.uri                         1.0.6\n",
            "lazy_loader                      0.3\n",
            "libclang                         16.0.6\n",
            "librosa                          0.10.1\n",
            "lida                             0.0.10\n",
            "lightgbm                         4.1.0\n",
            "linkify-it-py                    2.0.2\n",
            "llmx                             0.0.15a0\n",
            "llvmlite                         0.41.1\n",
            "locket                           1.0.0\n",
            "logical-unification              0.4.6\n",
            "lxml                             4.9.3\n",
            "lz4                              4.3.2\n",
            "malloy                           2023.1067\n",
            "Markdown                         3.5.1\n",
            "markdown-it-py                   3.0.0\n",
            "MarkupSafe                       2.1.3\n",
            "matplotlib                       3.7.1\n",
            "matplotlib-inline                0.1.6\n",
            "matplotlib-venn                  0.11.9\n",
            "mdit-py-plugins                  0.4.0\n",
            "mdurl                            0.1.2\n",
            "miniKanren                       1.0.3\n",
            "missingno                        0.5.2\n",
            "mistune                          0.8.4\n",
            "mizani                           0.9.3\n",
            "mkl                              2023.2.0\n",
            "ml-dtypes                        0.2.0\n",
            "mlxtend                          0.22.0\n",
            "more-itertools                   10.1.0\n",
            "moviepy                          1.0.3\n",
            "mpmath                           1.3.0\n",
            "msgpack                          1.0.7\n",
            "multidict                        6.0.4\n",
            "multipledispatch                 1.0.0\n",
            "multitasking                     0.0.11\n",
            "murmurhash                       1.0.10\n",
            "music21                          9.1.0\n",
            "natsort                          8.4.0\n",
            "nbclassic                        1.0.0\n",
            "nbclient                         0.9.0\n",
            "nbconvert                        6.5.4\n",
            "nbformat                         5.9.2\n",
            "nest-asyncio                     1.5.8\n",
            "networkx                         3.2.1\n",
            "nibabel                          4.0.2\n",
            "nltk                             3.8.1\n",
            "notebook                         6.5.5\n",
            "notebook_shim                    0.2.3\n",
            "numba                            0.58.1\n",
            "numexpr                          2.8.8\n",
            "numpy                            1.26.2\n",
            "oauth2client                     4.1.3\n",
            "oauthlib                         3.2.2\n",
            "opencv-contrib-python            4.8.0.76\n",
            "opencv-python                    4.8.0.76\n",
            "opencv-python-headless           4.8.1.78\n",
            "openpyxl                         3.1.2\n",
            "opt-einsum                       3.3.0\n",
            "optax                            0.1.7\n",
            "orbax-checkpoint                 0.4.4\n",
            "osqp                             0.6.2.post8\n",
            "packaging                        23.2\n",
            "pandas                           1.5.3\n",
            "pandas-datareader                0.10.0\n",
            "pandas-gbq                       0.19.2\n",
            "pandas-stubs                     1.5.3.230304\n",
            "pandocfilters                    1.5.0\n",
            "panel                            1.3.4\n",
            "param                            2.0.1\n",
            "parso                            0.8.3\n",
            "parsy                            2.1\n",
            "partd                            1.4.1\n",
            "pathlib                          1.0.1\n",
            "pathy                            0.10.3\n",
            "patsy                            0.5.4\n",
            "peewee                           3.17.0\n",
            "pexpect                          4.9.0\n",
            "pickleshare                      0.7.5\n",
            "Pillow                           9.4.0\n",
            "pip                              23.1.2\n",
            "pip-tools                        6.13.0\n",
            "plateauutils                     0.0.14\n",
            "platformdirs                     4.1.0\n",
            "plotly                           5.15.0\n",
            "plotnine                         0.12.4\n",
            "pluggy                           1.3.0\n",
            "polars                           0.17.3\n",
            "pooch                            1.8.0\n",
            "portpicker                       1.5.2\n",
            "prefetch-generator               1.0.3\n",
            "preshed                          3.0.9\n",
            "prettytable                      3.9.0\n",
            "proglog                          0.1.10\n",
            "progressbar2                     4.2.0\n",
            "prometheus-client                0.19.0\n",
            "promise                          2.3\n",
            "prompt-toolkit                   3.0.43\n",
            "prophet                          1.1.5\n",
            "proto-plus                       1.23.0\n",
            "protobuf                         3.20.3\n",
            "psutil                           5.9.5\n",
            "psycopg2                         2.9.9\n",
            "ptyprocess                       0.7.0\n",
            "py-cpuinfo                       9.0.0\n",
            "py3dtiles                        7.0.0\n",
            "py4j                             0.10.9.7\n",
            "pyarrow                          10.0.1\n",
            "pyasn1                           0.5.1\n",
            "pyasn1-modules                   0.3.0\n",
            "pycocotools                      2.0.7\n",
            "pycparser                        2.21\n",
            "pyct                             0.5.0\n",
            "pydantic                         1.10.13\n",
            "pydata-google-auth               1.8.2\n",
            "pydot                            1.4.2\n",
            "pydot-ng                         2.0.0\n",
            "pydotplus                        2.0.2\n",
            "PyDrive                          1.3.1\n",
            "PyDrive2                         1.6.3\n",
            "pyerfa                           2.0.1.1\n",
            "pygame                           2.5.2\n",
            "Pygments                         2.16.1\n",
            "PyGObject                        3.42.1\n",
            "PyJWT                            2.3.0\n",
            "pymc                             5.7.2\n",
            "pymystem3                        0.2.0\n",
            "PyOpenGL                         3.1.7\n",
            "pyOpenSSL                        23.3.0\n",
            "pyparsing                        3.1.1\n",
            "pyperclip                        1.8.2\n",
            "pyproj                           3.6.1\n",
            "pyproject_hooks                  1.0.0\n",
            "pyshp                            2.3.1\n",
            "PySocks                          1.7.1\n",
            "pytensor                         2.14.2\n",
            "pytest                           7.4.3\n",
            "python-apt                       0.0.0\n",
            "python-box                       7.1.1\n",
            "python-dateutil                  2.8.2\n",
            "python-louvain                   0.16\n",
            "python-slugify                   8.0.1\n",
            "python-utils                     3.8.1\n",
            "pytz                             2023.3.post1\n",
            "pyviz_comms                      3.0.0\n",
            "PyWavelets                       1.5.0\n",
            "PyYAML                           6.0.1\n",
            "pyzmq                            23.2.1\n",
            "qdldl                            0.1.7.post0\n",
            "qudida                           0.0.4\n",
            "rasterio                         1.3.9\n",
            "ratelim                          0.1.6\n",
            "reearthcmsapi                    0.0.3\n",
            "referencing                      0.32.0\n",
            "regex                            2023.6.3\n",
            "requests                         2.31.0\n",
            "requests-oauthlib                1.3.1\n",
            "requirements-parser              0.5.0\n",
            "rich                             13.7.0\n",
            "rpds-py                          0.13.2\n",
            "rpy2                             3.4.2\n",
            "rsa                              4.9\n",
            "safetensors                      0.4.1\n",
            "scikit-image                     0.22.0\n",
            "scikit-learn                     1.2.2\n",
            "scipy                            1.11.4\n",
            "scooby                           0.9.2\n",
            "scs                              3.2.4.post1\n",
            "seaborn                          0.12.2\n",
            "SecretStorage                    3.3.1\n",
            "Send2Trash                       1.8.2\n",
            "setuptools                       67.7.2\n",
            "shapely                          2.0.2\n",
            "six                              1.16.0\n",
            "sklearn-pandas                   2.2.0\n",
            "smart-open                       6.4.0\n",
            "sniffio                          1.3.0\n",
            "snowballstemmer                  2.2.0\n",
            "snuggs                           1.4.7\n",
            "sortedcontainers                 2.4.0\n",
            "soundfile                        0.12.1\n",
            "soupsieve                        2.5\n",
            "soxr                             0.3.7\n",
            "spacy                            3.6.1\n",
            "spacy-legacy                     3.0.12\n",
            "spacy-loggers                    1.0.5\n",
            "Sphinx                           5.0.2\n",
            "sphinxcontrib-applehelp          1.0.7\n",
            "sphinxcontrib-devhelp            1.0.5\n",
            "sphinxcontrib-htmlhelp           2.0.4\n",
            "sphinxcontrib-jsmath             1.0.1\n",
            "sphinxcontrib-qthelp             1.0.6\n",
            "sphinxcontrib-serializinghtml    1.1.9\n",
            "SQLAlchemy                       2.0.23\n",
            "sqlglot                          17.16.2\n",
            "sqlparse                         0.4.4\n",
            "srsly                            2.4.8\n",
            "stanio                           0.3.0\n",
            "statsmodels                      0.14.1\n",
            "sympy                            1.12\n",
            "tables                           3.8.0\n",
            "tabulate                         0.9.0\n",
            "tbb                              2021.11.0\n",
            "tblib                            3.0.0\n",
            "tenacity                         8.2.3\n",
            "tensorboard                      2.15.1\n",
            "tensorboard-data-server          0.7.2\n",
            "tensorflow                       2.15.0\n",
            "tensorflow-datasets              4.9.3\n",
            "tensorflow-estimator             2.15.0\n",
            "tensorflow-gcs-config            2.15.0\n",
            "tensorflow-hub                   0.15.0\n",
            "tensorflow-io-gcs-filesystem     0.34.0\n",
            "tensorflow-metadata              1.14.0\n",
            "tensorflow-probability           0.22.0\n",
            "tensorstore                      0.1.45\n",
            "termcolor                        2.4.0\n",
            "terminado                        0.18.0\n",
            "text-unidecode                   1.3\n",
            "textblob                         0.17.1\n",
            "tf-slim                          1.1.0\n",
            "thinc                            8.1.12\n",
            "threadpoolctl                    3.2.0\n",
            "tifffile                         2023.12.9\n",
            "tinycss2                         1.2.1\n",
            "tokenizers                       0.15.0\n",
            "toml                             0.10.2\n",
            "tomli                            2.0.1\n",
            "toolz                            0.12.0\n",
            "torch                            2.1.0+cu121\n",
            "torchaudio                       2.1.0+cu121\n",
            "torchdata                        0.7.0\n",
            "torchsummary                     1.5.1\n",
            "torchtext                        0.16.0\n",
            "torchvision                      0.16.0+cu121\n",
            "tornado                          6.3.2\n",
            "tqdm                             4.66.1\n",
            "traitlets                        5.7.1\n",
            "traittypes                       0.2.1\n",
            "transformers                     4.35.2\n",
            "triton                           2.1.0\n",
            "tweepy                           4.14.0\n",
            "typer                            0.9.0\n",
            "types-pytz                       2023.3.1.1\n",
            "types-setuptools                 69.0.0.0\n",
            "typing_extensions                4.5.0\n",
            "tzlocal                          5.2\n",
            "uc-micro-py                      1.0.2\n",
            "uritemplate                      4.1.1\n",
            "urllib3                          2.0.7\n",
            "vega-datasets                    0.9.0\n",
            "wadllib                          1.3.6\n",
            "wasabi                           1.1.2\n",
            "wcwidth                          0.2.12\n",
            "webcolors                        1.13\n",
            "webencodings                     0.5.1\n",
            "websocket-client                 1.7.0\n",
            "Werkzeug                         3.0.1\n",
            "wheel                            0.42.0\n",
            "widgetsnbextension               3.6.6\n",
            "wordcloud                        1.9.3\n",
            "wrapt                            1.14.1\n",
            "xarray                           2023.7.0\n",
            "xarray-einstats                  0.6.0\n",
            "xgboost                          2.0.2\n",
            "xlrd                             2.0.1\n",
            "xxhash                           3.4.1\n",
            "xyzservices                      2023.10.1\n",
            "yarl                             1.9.4\n",
            "yellowbrick                      1.5\n",
            "yfinance                         0.2.33\n",
            "zict                             3.0.0\n",
            "zipp                             3.17.0\n"
          ]
        }
      ]
    },
    {
      "cell_type": "code",
      "execution_count": null,
      "metadata": {
        "colab": {
          "base_uri": "https://localhost:8080/"
        },
        "id": "LUrBuR1IqzZB",
        "outputId": "39293c03-2d71-4ce7-e406-7c630ba25e64"
      },
      "outputs": [
        {
          "output_type": "stream",
          "name": "stdout",
          "text": [
            "90455\n"
          ]
        }
      ],
      "source": [
        "# JSONファイルからデータを読み込む\n",
        "with open(json_buildings, 'r') as f:\n",
        "    buildings = json.load(f)\n",
        "\n",
        "print(len(buildings))"
      ]
    },
    {
      "cell_type": "code",
      "execution_count": null,
      "metadata": {
        "colab": {
          "base_uri": "https://localhost:8080/"
        },
        "id": "ZAGBvIoZAWg7",
        "outputId": "a355d9e8-8ab1-40bf-fb71-1a0a3f540228"
      },
      "outputs": [
        {
          "output_type": "stream",
          "name": "stdout",
          "text": [
            "[{'gid': 'bldg_5bb0e545-ec27-4bdd-b4f5-ce88ac0802f0', 'center': [130.39681017603277, 33.00481616943035], 'min_height': 3.251, 'measured_height': None, 'building_structure_type': None, 'dem': nan}, {'gid': 'bldg_223b2a8f-c2f4-4d06-bfe9-b7795ebd9d9a', 'center': [130.3963708808834, 33.00190456995042], 'min_height': 5.253, 'measured_height': 2.6, 'building_structure_type': None, 'dem': 5.522831106867581}, {'gid': 'bldg_5b497c2a-fb59-424b-ac81-2d9c8355f5ed', 'center': [130.39730104480077, 33.00499391435827], 'min_height': 3.057, 'measured_height': None, 'building_structure_type': None, 'dem': 2.5878461692023644}, {'gid': 'bldg_3b3417a5-f869-4420-95f9-c1d6cbf30c9d', 'center': [130.3986860225292, 33.00550176708172], 'min_height': 2.657, 'measured_height': 2.1, 'building_structure_type': None, 'dem': 2.610875161877514}, {'gid': 'bldg_c06324bb-f540-4309-a779-8c428bfd84e5', 'center': [130.3996265232932, 33.00239327178217], 'min_height': 5.499, 'measured_height': 3.1, 'building_structure_type': None, 'dem': 5.131970960710376}, {'gid': 'bldg_0ede5d15-3637-4cb2-b452-faed8c8236c3', 'center': [130.39964145640266, 33.00235875262421], 'min_height': 5.5, 'measured_height': 2.5, 'building_structure_type': None, 'dem': 5.1195241592127285}, {'gid': 'bldg_abb7ba9f-923f-40de-9c99-b3321b8dbd3c', 'center': [130.399391314812, 33.0023375216338], 'min_height': 5.499, 'measured_height': 3.1, 'building_structure_type': None, 'dem': 5.0988511735267075}, {'gid': 'bldg_ded59a34-8656-4baf-bef8-bd4570559fa5', 'center': [130.39965294971702, 33.00232250098261], 'min_height': 5.5, 'measured_height': 3.1, 'building_structure_type': None, 'dem': 5.093607092355062}, {'gid': 'bldg_6241c153-d639-426e-b727-e1e214fcba28', 'center': [130.39939976565594, 33.00230225889832], 'min_height': 5.429, 'measured_height': 2.6, 'building_structure_type': None, 'dem': 5.0967573036610085}, {'gid': 'bldg_2ae6bcc2-b910-4c2b-af1f-da64bf716ed5', 'center': [130.3994120239776, 33.00226353995445], 'min_height': 5.413, 'measured_height': 3.2, 'building_structure_type': None, 'dem': 5.089342996982695}]\n"
          ]
        }
      ],
      "source": [
        "try:\n",
        "  print(buildings[0:10])\n",
        "  print(len([vv for vv in buildings if vv[\"measured_height\"] <2.1]))\n",
        "except:\n",
        "  pass"
      ]
    },
    {
      "cell_type": "code",
      "execution_count": null,
      "metadata": {
        "colab": {
          "base_uri": "https://localhost:8080/"
        },
        "id": "QiiNoHhpLoSh",
        "outputId": "406bbd0b-c3e4-40c7-f85d-766dd16a9f7e"
      },
      "outputs": [
        {
          "output_type": "stream",
          "name": "stdout",
          "text": [
            "{'軽量鉄骨造', '鉄筋コンクリート造', '鉄骨鉄筋コンクリート造', 'レンガ造・コンクリートブロック造・石造', '鉄骨造', '木造・土蔵造', None}\n"
          ]
        }
      ],
      "source": [
        "building_types = set([vv[\"building_structure_type\"] for vv in buildings])\n",
        "print(building_types)"
      ]
    },
    {
      "cell_type": "code",
      "execution_count": null,
      "metadata": {
        "id": "DtRRGyGWHQ8U"
      },
      "outputs": [],
      "source": [
        "#depth_map = np.load(file_flooddepth.format(int(maxdepth*100)))\n",
        "dem_map = np.load(file_flooddem.format(int(maxdepth*100)))"
      ]
    },
    {
      "cell_type": "code",
      "execution_count": null,
      "metadata": {
        "id": "m0eAcGhZNhen"
      },
      "outputs": [],
      "source": [
        "#lons = depth_map[\"lons\"]\n",
        "#lats = depth_map[\"lats\"]\n",
        "#depthmap = depth_map[\"floodmap_depth\"]\n",
        "lons = dem_map[\"lons\"]\n",
        "lats = dem_map[\"lats\"]\n",
        "demmap = dem_map[\"floodmap_dem\"]"
      ]
    },
    {
      "cell_type": "code",
      "execution_count": null,
      "metadata": {
        "colab": {
          "base_uri": "https://localhost:8080/"
        },
        "id": "Fa4AkcK4bEd6",
        "outputId": "a60bc5a0-2583-4f90-efd3-3857894beac2"
      },
      "outputs": [
        {
          "output_type": "stream",
          "name": "stdout",
          "text": [
            "[130.3527832  130.35282612 130.35286903 ... 130.51744938 130.51749229\n",
            " 130.51753521]\n",
            "[33.11909569 33.11905972 33.11902375 ... 32.99028909 32.99025312\n",
            " 32.99021715]\n"
          ]
        }
      ],
      "source": [
        "#np.set_printoptions(threshold=np.inf)\n",
        "print(lons)\n",
        "print(lats)"
      ]
    },
    {
      "cell_type": "code",
      "execution_count": null,
      "metadata": {
        "colab": {
          "base_uri": "https://localhost:8080/"
        },
        "id": "txTJoLBRHRsG",
        "outputId": "eea1f043-dc64-48cd-b76d-f03c419517ac"
      },
      "outputs": [
        {
          "output_type": "stream",
          "name": "stdout",
          "text": [
            "[[nan nan nan ... nan nan nan]\n",
            " [nan nan nan ... nan nan nan]\n",
            " [nan nan nan ... nan nan nan]\n",
            " ...\n",
            " [nan nan nan ... nan nan nan]\n",
            " [nan nan nan ... nan nan nan]\n",
            " [nan nan nan ... nan nan nan]]\n"
          ]
        }
      ],
      "source": [
        "print(demmap)"
      ]
    },
    {
      "cell_type": "code",
      "execution_count": null,
      "metadata": {
        "id": "Zud6DaQKNeY5"
      },
      "outputs": [],
      "source": [
        "if flg_checkDisp:\n",
        "  ax =plt.subplot(1,1,1)\n",
        "  #img = ax.contourf(lons,lats, depthmap,levels=np.arange(0,maxdepth+0.1,0.25))\n",
        "  img = ax.contourf(lons,lats, demmap)#,levels=np.arange(0,maxdepth+0.1,0.25))\n",
        "  ax.axis(\"equal\")\n",
        "  plt.colorbar(img)\n",
        "  #ax.set_xlim(130.4,130.5)\n",
        "  #ax.set_ylim(33.22,33.32)"
      ]
    },
    {
      "cell_type": "code",
      "execution_count": null,
      "metadata": {
        "id": "l13mzBAu9NZ8"
      },
      "outputs": [],
      "source": [
        "bldgtype_yukaue_depth = {\"木造・土蔵造\":0.45, \"レンガ造・コンクリートブロック造・石造\":0.45, \"不明\":0.45}\n",
        "bldgtype_mokuzou = [\"木造・土蔵造\"]\n",
        "bldgtype_renga = [\"\"]\n",
        "bldgtype_block = [\"レンガ造・コンクリートブロック造・石造\"]\n",
        "def get_floodcategory(bldg_type, depth):\n",
        "  min_depth = bldgtype_yukaue_depth[bldg_type] if bldg_type in bldgtype_yukaue_depth else 0.0\n",
        "  category = \"非浸水\"\n",
        "  if depth is not None and depth >0:\n",
        "    if depth > min_depth :\n",
        "      if min_depth == 0:\n",
        "        category = \"浸水\"\n",
        "      else:\n",
        "        category = \"床上\"\n",
        "    elif depth > 0:\n",
        "      category = \"床下\"\n",
        "  if bldg_type in bldgtype_mokuzou:\n",
        "    category += \"（木造）\"\n",
        "  elif bldg_type in bldgtype_renga:\n",
        "    category += \"（レンガ造）\"\n",
        "  elif bldg_type == \"不明\" or bldg_type is None:\n",
        "    category += \"（不明）\"\n",
        "  else:\n",
        "    category += \"（非木造）\"\n",
        "  return category"
      ]
    },
    {
      "cell_type": "code",
      "execution_count": null,
      "metadata": {
        "colab": {
          "base_uri": "https://localhost:8080/"
        },
        "id": "kg8jRMBW9oEH",
        "outputId": "30c323db-6e29-4d16-b93e-7b404330d47c"
      },
      "outputs": [
        {
          "output_type": "stream",
          "name": "stdout",
          "text": [
            "床上（木造）\n",
            "床下（木造）\n",
            "床上（不明）\n",
            "床下（不明）\n",
            "浸水（非木造）\n",
            "非浸水（不明）\n",
            "非浸水（不明）\n"
          ]
        }
      ],
      "source": [
        "print(get_floodcategory(\"木造・土蔵造\", 1) )\n",
        "print(get_floodcategory(\"木造・土蔵造\", 0.2) )\n",
        "print(get_floodcategory(\"不明\", 1) )\n",
        "print(get_floodcategory(\"不明\", 0.3) )\n",
        "print(get_floodcategory(\"非木造\", 1) )\n",
        "print(get_floodcategory(None, -1) )\n",
        "print(get_floodcategory(None, None) )"
      ]
    },
    {
      "cell_type": "code",
      "execution_count": null,
      "metadata": {
        "id": "Is3Ht14DOJaB"
      },
      "outputs": [],
      "source": [
        "def calc_floatIdx_of_list(val:float, list):\n",
        "  \"\"\"\n",
        "  Args:\n",
        "      val (float): value which the method finds index for.\n",
        "      list (array-like): must be ordered (ascending or descending)\n",
        "  \"\"\"\n",
        "  try:\n",
        "    if list[0] < list[-1]:\n",
        "      idl = np.where(val > list)[0][-1]\n",
        "    else:\n",
        "      idl = np.where(val < list)[0][-1]\n",
        "  except IndexError:\n",
        "    print(\"IndexErrorCheck:\", val, (list[0], list[-1]))\n",
        "    return np.nan\n",
        "  if idl == len(list) -1:\n",
        "    return idl\n",
        "  return idl + (val-list[idl])/(list[idl+1]-list[idl])\n",
        "  #return (val - list[0])/(list[-1]-list[0]) * (len(list)-1)\n",
        "\n",
        "def calc_interpval_of_list(idx:float, list):\n",
        "  il = int(idx)\n",
        "  ih = int(idx + 1)\n",
        "  if ih >= len(list):\n",
        "    return list[-1]\n",
        "  dd = idx - il\n",
        "  return (1-dd)*list[il] + dd*list[ih]\n",
        "\n",
        "def calc_InterpVal_lonlat(lon, lat, data, lons, lats):\n",
        "  #print(\"Check1: \", lon, lat)\n",
        "  cx = calc_floatIdx_of_list(lon, lons)\n",
        "  cy = calc_floatIdx_of_list(lat, lats)\n",
        "  #print(\"Check: \", cx, cy, \"\\n\")\n",
        "  if np.any(np.isnan([cy, cx])):\n",
        "    return np.nan\n",
        "  xl = int(cx)\n",
        "  yl = int(cy)\n",
        "  xh = xl + 1\n",
        "  dx = cx-xl\n",
        "  yh = yl + 1\n",
        "  dy = cy - yl\n",
        "  if xh > len(lons)-1:\n",
        "    xh = xl\n",
        "  if yh > len(lats)-1:\n",
        "    yh = yl\n",
        "  val_ll = data[yl,xl]\n",
        "  val_hl = data[yh,xl]\n",
        "  val_lh = data[yl,xh]\n",
        "  val_hh = data[yh, xh]\n",
        "  return (1-dy)*(1-dx)*val_ll + (1-dy)*dx*val_lh + dy*(1-dx)*val_hl + dy*dx*val_hh"
      ]
    },
    {
      "cell_type": "code",
      "execution_count": null,
      "metadata": {
        "colab": {
          "base_uri": "https://localhost:8080/"
        },
        "id": "zbFVHhi5vOep",
        "outputId": "aeb54ec5-0a0e-4c16-dbf4-e33c9d626d3c"
      },
      "outputs": [
        {
          "output_type": "stream",
          "name": "stdout",
          "text": [
            "130.352783203125 130.51753520965576\n",
            "33.11909568798536 32.990217149508766\n"
          ]
        }
      ],
      "source": [
        "print(lons[0], lons[-1])\n",
        "print(lats[0], lats[-1])"
      ]
    },
    {
      "cell_type": "code",
      "execution_count": null,
      "metadata": {
        "cellView": "form",
        "id": "ym-qxoGVZu8H"
      },
      "outputs": [],
      "source": [
        "#@title 住所付与の準備\n",
        "\n",
        "# shpファイルのパス\n",
        "\n",
        "# マルチポリゴンのバウンディングボックスを取得します。\n",
        "minx, miny, maxx, maxy = lons.min(), lats.min(), lons.max(), lats.max() # [130.412497, 33.224723, 130.68759971, 33.40869805]\n",
        "# ラスタライズのパラメータを設定します。\n",
        "raster_height, raster_width = demmap.shape # (5376, 6656)\n",
        "\n",
        "transform = rasterio.transform.from_origin(minx, maxy, (maxx-minx)/raster_width, (maxy-miny)/raster_height)\n",
        "\n",
        "lookup_table = []\n",
        "\n",
        "# shpファイルを開く\n",
        "with fiona.open(shape_file, 'r') as src:\n",
        "    with rasterio.MemoryFile() as memfile:\n",
        "        with memfile.open(driver='GTiff',\n",
        "                          height=raster_height,\n",
        "                          width=raster_width,\n",
        "                          count=1,\n",
        "                          dtype='uint8',\n",
        "                          crs=src.crs,\n",
        "                          transform=transform) as dataset:\n",
        "            combined_mask = np.empty((dataset.height, dataset.width))\n",
        "            combined_mask[:] = np.nan\n",
        "            for i, feature in enumerate(src):\n",
        "                # 各フィーチャからジオメトリを取得し、shapelyオブジェクトに変換\n",
        "                polygon = shape(feature['geometry'])\n",
        "                mask = geometry_mask([mapping(polygon)],\n",
        "                                      transform=dataset.transform,\n",
        "                                      invert=True,\n",
        "                                      out_shape=(dataset.height, dataset.width))\n",
        "                combined_mask[mask] = i\n",
        "                del mask\n",
        "\n",
        "                # PREF_NAME 福岡県\n",
        "                # CITY_NAME 久留米市\n",
        "                # S_NAME 花畑三丁目\n",
        "                pref_name = feature[\"properties\"][\"PREF_NAME\"]\n",
        "                city_name = feature[\"properties\"][\"CITY_NAME\"]\n",
        "                s_name = feature[\"properties\"][\"S_NAME\"]\n",
        "                lookup_table.append({\n",
        "                    \"id\": i,\n",
        "                    \"address\": s_name,\n",
        "                    \"vector\": polygon\n",
        "                })\n",
        "\n",
        "\n",
        "#plt.imshow(combined_mask)\n",
        "\n",
        "new_lons = np.linspace(lons.min(), lons.max(), raster_width)  # 経度\n",
        "new_lats = np.linspace(lats.max(), lats.min(), raster_height)   # 緯度\n",
        "\n",
        "def get_address_ids(lon, lat, combined_mask):\n",
        "    #center_lon, center_lat = building['center']\n",
        "\n",
        "    # 緯度経度からピクセル座標に変換\n",
        "    #lons_to_pixel = np.searchsorted(lons, center_lon) - 1\n",
        "    #lats_to_pixel = np.searchsorted(lats, center_lat) - 1\n",
        "    lons_to_pixel = int(calc_floatIdx_of_list(lon, new_lons))\n",
        "    lats_to_pixel = int(calc_floatIdx_of_list(lat, new_lats))\n",
        "\n",
        "    # # 周囲のセルを調べるための正規分布を作成\n",
        "    # x, y = np.meshgrid(np.arange(combined_mask.shape[1]), np.arange(combined_mask.shape[0]))\n",
        "    # pos = np.dstack((x, y))\n",
        "    # rv = multivariate_normal([lons_to_pixel, lats_to_pixel], [[1.22, 0], [0, 1.22]])\n",
        "    # gaussian_mask = rv.pdf(pos)\n",
        "\n",
        "    # # 正規分布からしきい値を超えるセルのIDを取得\n",
        "    # # threshold = gaussian_mask.mean()\n",
        "    # # ids = combined_mask[gaussian_mask > threshold]\n",
        "\n",
        "    ids = combined_mask[lats_to_pixel-1:lats_to_pixel+2, lons_to_pixel-1:lons_to_pixel+2] # 中心と周囲8ピクセルを見る\n",
        "    unique_ids = np.unique(ids[~np.isnan(ids)])  # np.nanを除外してユニークなIDを取得\n",
        "\n",
        "    return unique_ids\n",
        "\n",
        "def find_address(lon, lat, combined_mask):\n",
        "      address_ids = get_address_ids(lon, lat, combined_mask)\n",
        "      address = \"\"\n",
        "      if len(address_ids) == 0:\n",
        "          address = '不明'\n",
        "      elif len(address_ids) == 1:\n",
        "          address = lookup_table[int(address_ids[0])]['address']\n",
        "      else:\n",
        "          # 複数のIDがある場合の処理\n",
        "          # lookup_tableのベクトルと照合して正しいIDを見つける処理\n",
        "          center_point =  Point(lon, lat) # Point(building['center'][0], building['center'][1])\n",
        "          possible_addresses = []\n",
        "\n",
        "          for address_id in address_ids:\n",
        "              for entry in lookup_table:\n",
        "                  if entry['id'] == address_id:\n",
        "                      polygon = shape(entry['vector'])\n",
        "                      if polygon.contains(center_point):\n",
        "                          possible_addresses.append(entry['address'])\n",
        "                          break  # 最初にマッチしたアドレスでループを抜ける\n",
        "\n",
        "          if possible_addresses:\n",
        "              address = possible_addresses[0]  # 最初に見つかった住所を採用\n",
        "          else:\n",
        "              # どのポリゴンにも含まれなかったら周囲の住所を全て列挙\n",
        "              address = \" / \".join([entry['address'] for entry in lookup_table if entry['id'] in address_ids])\n",
        "      return address\n",
        "\n",
        "# 処理を実行\n",
        "#buildings_with_address = assign_address(buildings, combined_mask)"
      ]
    },
    {
      "cell_type": "code",
      "execution_count": null,
      "metadata": {
        "colab": {
          "base_uri": "https://localhost:8080/"
        },
        "id": "oXsl3QJ-q16O",
        "outputId": "4257df78-a49d-43fb-fdbd-fff3117aac91"
      },
      "outputs": [
        {
          "output_type": "stream",
          "name": "stderr",
          "text": [
            "100% (90455 of 90455) |##################| Elapsed Time: 0:00:23 Time:  0:00:23\n"
          ]
        }
      ],
      "source": [
        "for bb in progressbar(buildings):\n",
        "  lon, lat = bb[\"center\"]\n",
        "  #print(lon, lat)\n",
        "  #depth = calc_InterpVal_lonlat(lon, lat, depthmap, lons, lats)\n",
        "  dem = calc_InterpVal_lonlat(lon, lat, demmap, lons, lats)\n",
        "  depth = dem - bb[\"min_height\"] #  bb[\"dem\"]\n",
        "  bb[\"lon\"] = bb[\"center\"][0]\n",
        "  bb[\"lat\"] = bb[\"center\"][1]\n",
        "  #print(depth)\n",
        "  bb[\"out\"] = False\n",
        "  bb[\"flood_category\"] = get_floodcategory(bb[\"building_structure_type\"], depth)\n",
        "  bb[\"depth\"] = depth\n",
        "  if \"非浸水\" in bb[\"flood_category\"]:\n",
        "    bb[\"out\"] = True\n",
        "    bb[\"depth\"] = None\n",
        "  bb[\"address\"] = find_address(lon,lat,combined_mask)"
      ]
    },
    {
      "cell_type": "code",
      "execution_count": null,
      "metadata": {
        "colab": {
          "base_uri": "https://localhost:8080/"
        },
        "id": "8ctqOEB5z3P-",
        "outputId": "d0afcdd0-b316-4db8-aae1-7aa0ed436469"
      },
      "outputs": [
        {
          "output_type": "stream",
          "name": "stdout",
          "text": [
            "2.1m未満： 3400\n",
            "[{'gid': 'bldg_5bb0e545-ec27-4bdd-b4f5-ce88ac0802f0', 'center': [130.39681017603277, 33.00481616943035], 'min_height': 3.251, 'measured_height': None, 'building_structure_type': None, 'dem': nan, 'lon': 130.39681017603277, 'lat': 33.00481616943035, 'out': True, 'flood_category': '非浸水（不明）', 'depth': None, 'address': '新港町'}, {'gid': 'bldg_223b2a8f-c2f4-4d06-bfe9-b7795ebd9d9a', 'center': [130.3963708808834, 33.00190456995042], 'min_height': 5.253, 'measured_height': 2.6, 'building_structure_type': None, 'dem': 5.522831106867581, 'lon': 130.3963708808834, 'lat': 33.00190456995042, 'out': True, 'flood_category': '非浸水（不明）', 'depth': None, 'address': '新港町'}, {'gid': 'bldg_5b497c2a-fb59-424b-ac81-2d9c8355f5ed', 'center': [130.39730104480077, 33.00499391435827], 'min_height': 3.057, 'measured_height': None, 'building_structure_type': None, 'dem': 2.5878461692023644, 'lon': 130.39730104480077, 'lat': 33.00499391435827, 'out': True, 'flood_category': '非浸水（不明）', 'depth': None, 'address': '新港町'}, {'gid': 'bldg_3b3417a5-f869-4420-95f9-c1d6cbf30c9d', 'center': [130.3986860225292, 33.00550176708172], 'min_height': 2.657, 'measured_height': 2.1, 'building_structure_type': None, 'dem': 2.610875161877514, 'lon': 130.3986860225292, 'lat': 33.00550176708172, 'out': True, 'flood_category': '非浸水（不明）', 'depth': None, 'address': '新港町'}, {'gid': 'bldg_c06324bb-f540-4309-a779-8c428bfd84e5', 'center': [130.3996265232932, 33.00239327178217], 'min_height': 5.499, 'measured_height': 3.1, 'building_structure_type': None, 'dem': 5.131970960710376, 'lon': 130.3996265232932, 'lat': 33.00239327178217, 'out': True, 'flood_category': '非浸水（不明）', 'depth': None, 'address': '新港町'}, {'gid': 'bldg_0ede5d15-3637-4cb2-b452-faed8c8236c3', 'center': [130.39964145640266, 33.00235875262421], 'min_height': 5.5, 'measured_height': 2.5, 'building_structure_type': None, 'dem': 5.1195241592127285, 'lon': 130.39964145640266, 'lat': 33.00235875262421, 'out': True, 'flood_category': '非浸水（不明）', 'depth': None, 'address': '新港町'}, {'gid': 'bldg_abb7ba9f-923f-40de-9c99-b3321b8dbd3c', 'center': [130.399391314812, 33.0023375216338], 'min_height': 5.499, 'measured_height': 3.1, 'building_structure_type': None, 'dem': 5.0988511735267075, 'lon': 130.399391314812, 'lat': 33.0023375216338, 'out': True, 'flood_category': '非浸水（不明）', 'depth': None, 'address': '新港町'}, {'gid': 'bldg_ded59a34-8656-4baf-bef8-bd4570559fa5', 'center': [130.39965294971702, 33.00232250098261], 'min_height': 5.5, 'measured_height': 3.1, 'building_structure_type': None, 'dem': 5.093607092355062, 'lon': 130.39965294971702, 'lat': 33.00232250098261, 'out': True, 'flood_category': '非浸水（不明）', 'depth': None, 'address': '新港町'}, {'gid': 'bldg_6241c153-d639-426e-b727-e1e214fcba28', 'center': [130.39939976565594, 33.00230225889832], 'min_height': 5.429, 'measured_height': 2.6, 'building_structure_type': None, 'dem': 5.0967573036610085, 'lon': 130.39939976565594, 'lat': 33.00230225889832, 'out': True, 'flood_category': '非浸水（不明）', 'depth': None, 'address': '新港町'}, {'gid': 'bldg_2ae6bcc2-b910-4c2b-af1f-da64bf716ed5', 'center': [130.3994120239776, 33.00226353995445], 'min_height': 5.413, 'measured_height': 3.2, 'building_structure_type': None, 'dem': 5.089342996982695, 'lon': 130.3994120239776, 'lat': 33.00226353995445, 'out': True, 'flood_category': '非浸水（不明）', 'depth': None, 'address': '新港町'}]\n"
          ]
        }
      ],
      "source": [
        "print(\"2.1m未満：\", len([bb for bb in buildings if bb[\"measured_height\"] is None or bb[\"measured_height\"] < 2.1]))\n",
        "print([bb for bb in buildings if \"非浸水\" in bb[\"flood_category\"]][0:10])"
      ]
    },
    {
      "cell_type": "code",
      "execution_count": null,
      "metadata": {
        "colab": {
          "base_uri": "https://localhost:8080/"
        },
        "id": "SDrixPRnyAwG",
        "outputId": "5277b8b6-0fa7-448a-820f-0c3e0bfbd611"
      },
      "outputs": [
        {
          "output_type": "stream",
          "name": "stdout",
          "text": [
            "524 ( 47 )/ 90455\n"
          ]
        }
      ],
      "source": [
        "num_flooded = len([bb for bb in buildings if not bb[\"out\"]])\n",
        "num_yukashita = len([bb for bb in buildings if \"床下\" in bb[\"flood_category\"]])\n",
        "\n",
        "print(num_flooded,\"(\",num_yukashita,\")/\",len(buildings))"
      ]
    },
    {
      "cell_type": "code",
      "execution_count": null,
      "metadata": {
        "id": "1HCz1FLLGxrJ",
        "colab": {
          "base_uri": "https://localhost:8080/",
          "height": 435
        },
        "outputId": "f7086aad-e9e6-4bde-8e4a-8e8eae18551b"
      },
      "outputs": [
        {
          "output_type": "display_data",
          "data": {
            "text/plain": [
              "<Figure size 640x480 with 2 Axes>"
            ],
            "image/png": "[encoded data removed]"
          },
          "metadata": {}
        }
      ],
      "source": [
        "if True :#flg_checkDisp:\n",
        "  xx = [bb[\"center\"][0] for bb in buildings]\n",
        "  yy = [bb[\"center\"][1] for bb in buildings]\n",
        "  cc = [\"orangered\" if not bb[\"out\"] else \"purple\" for bb in buildings]\n",
        "  ss = [1 if not bb[\"out\"] else 0.1 for bb in buildings]\n",
        "  aa = [1 if not bb[\"out\"] else 0.01 for bb in buildings]\n",
        "  ax =plt.subplot(1,1,1)\n",
        "  #img = ax.contourf(lons,lats, depthmap,levels=np.arange(0,maxdepth+0.1,0.25))\n",
        "  img = ax.contourf(lons,lats, demmap)#,levels=np.arange(0,maxdepth+0.1,0.25))\n",
        "  plt.scatter(xx,yy,c=cc,s=ss)#, alpha=aa)\n",
        "  ax.axis(\"equal\")\n",
        "  #plt.xlim([130.50, 130.53])\n",
        "  #plt.ylim([33.32, 33.34])\n",
        "  plt.colorbar(img)\n",
        "  plt.scatter"
      ]
    },
    {
      "cell_type": "code",
      "execution_count": null,
      "metadata": {
        "id": "ivAoyw0GmEms"
      },
      "outputs": [],
      "source": [
        "!mkdir {path_upload}\n",
        "csv_keylist = ['gid', 'lon', 'lat', 'min_height', 'flood_category','depth', 'address']\n",
        "csv_header = ['gid', 'lon', 'lat', 'dem', 'flood_category','flood_depth', 'address']\n",
        "with open(file_building_csv, \"w\") as ofile:\n",
        "  ofile.write(\",\".join(f\"'{w}'\" for w in csv_header)+\"\\n\")\n",
        "  for bb in buildings:\n",
        "    tempstr = \"\"\n",
        "    for kk in csv_keylist:\n",
        "      if isinstance(bb[kk], str):\n",
        "        tempstr += f\"'{bb[kk]}',\"\n",
        "      else:\n",
        "        tempstr += f\"{bb[kk]},\"\n",
        "    ofile.write(tempstr[:-1]+\"\\n\")\n",
        "    #print(tempstr[:-1])\n"
      ]
    },
    {
      "cell_type": "code",
      "source": [
        "print(lons,lats)\n",
        "print(lons[-1])"
      ],
      "metadata": {
        "colab": {
          "base_uri": "https://localhost:8080/"
        },
        "id": "x1HOGtOZzU5I",
        "outputId": "2e5944c9-53ba-42d7-bcc7-336142801d09"
      },
      "execution_count": null,
      "outputs": [
        {
          "output_type": "stream",
          "name": "stdout",
          "text": [
            "[130.3527832  130.35282612 130.35286903 ... 130.51744938 130.51749229\n",
            " 130.51753521] [33.11909569 33.11905972 33.11902375 ... 32.99028909 32.99025312\n",
            " 32.99021715]\n",
            "130.51753520965576\n"
          ]
        }
      ]
    },
    {
      "cell_type": "code",
      "source": [
        "def dump2heatmap(lons, lats, buildings):\n",
        "  gauss_hl = 63\n",
        "  xx, yy = np.meshgrid(np.arange(-gauss_hl,gauss_hl+1),np.arange(-gauss_hl,gauss_hl+1))\n",
        "  #gauss = 1/(2045*np.pi)*np.exp(-(xx**2+yy**2)/2048) # sigma = 32 px\n",
        "  gauss = np.sqrt((xx**2+yy**2)) <= 31 #gauss_hl\n",
        "  #print(np.shape(gauss))\n",
        "  maxx = len(lons)\n",
        "  maxy = len(lats)\n",
        "  heatmap = np.zeros((maxy, maxx))\n",
        "  for bb in buildings:\n",
        "    if not bb[\"out\"]:\n",
        "      lon, lat = bb[\"center\"]\n",
        "      idx = int(calc_floatIdx_of_list(lon, lons))\n",
        "      idy = int(calc_floatIdx_of_list(lat, lats))\n",
        "      gxl, gxh = 0, gauss_hl*2 + 1\n",
        "      gyl, gyh = 0, gauss_hl*2 + 1\n",
        "      idxl, idxh = idx-gauss_hl, idx+gauss_hl+1\n",
        "      idyl, idyh = idy-gauss_hl, idy+gauss_hl+1\n",
        "      if idxl < 0:\n",
        "        gxl = - idxl\n",
        "        idxl = 0\n",
        "      if idxh > maxx:\n",
        "        gxh = idxh - maxx\n",
        "        idxh = maxx\n",
        "      if idyl < 0:\n",
        "        gyl = - idyl\n",
        "        idyl = 0\n",
        "      if idyh > maxy:\n",
        "        gyh = idyh - maxy\n",
        "        idyh = maxy\n",
        "      #print(idyl,idyh,idxl,idxh,gyl,gyh,gxl,gxh)\n",
        "      heatmap[idyl:idyh,idxl:idxh] += gauss[gyl:gyh,gxl:gxh]\n",
        "  return heatmap/(np.sum(gauss)*16) * 10000"
      ],
      "metadata": {
        "id": "1vlQiytQ2OH4"
      },
      "execution_count": null,
      "outputs": []
    },
    {
      "cell_type": "code",
      "source": [
        "yukaue_mokuzou = dump2heatmap(lons, lats, [bb for bb in buildings if bb[\"flood_category\"]==\"床上（木造）\"])\n",
        "yukashita_mokuzou = dump2heatmap(lons, lats, [bb for bb in buildings if bb[\"flood_category\"]==\"床下（木造）\"])\n",
        "all_mokuzou = dump2heatmap(lons, lats, [bb for bb in buildings if \"（木造）\" in bb[\"flood_category\"]])"
      ],
      "metadata": {
        "id": "2WR-HY26HO-o"
      },
      "execution_count": null,
      "outputs": []
    },
    {
      "cell_type": "code",
      "source": [
        "print(np.nansum(yukaue_mokuzou))\n",
        "print(np.nansum(yukashita_mokuzou))\n",
        "print(np.nansum(all_mokuzou))\n"
      ],
      "metadata": {
        "id": "mW59wwSfpvx1",
        "colab": {
          "base_uri": "https://localhost:8080/"
        },
        "outputId": "1e402464-ffd3-4235-8fc2-21016f251a3e"
      },
      "execution_count": null,
      "outputs": [
        {
          "output_type": "stream",
          "name": "stdout",
          "text": [
            "115625.00000000003\n",
            "28750.000000000015\n",
            "144375.0000000001\n"
          ]
        }
      ]
    },
    {
      "cell_type": "code",
      "source": [
        "if flg_checkDisp:\n",
        "  chech_heatmap = all_mokuzou\n",
        "  ax =plt.subplot(1,1,1)\n",
        "  plt_dens = np.copy(chech_heatmap)\n",
        "  plt_dens[chech_heatmap==0] = np.nan\n",
        "  img = ax.pcolormesh(lons,lats, plt_dens)\n",
        "  ax.axis(\"equal\")\n",
        "  plt.xlim([130.50, 130.53])\n",
        "  plt.ylim([33.32, 33.34])\n",
        "  plt.colorbar(img)"
      ],
      "metadata": {
        "id": "fH3-HcOh1TNI"
      },
      "execution_count": null,
      "outputs": []
    },
    {
      "cell_type": "code",
      "source": [
        "#@title XYZタイル分けされた点郡NPZファイルの生成関数\n",
        "#print(len(lats)/256.0, len(lons)/256.0)\n",
        "\n",
        "def save_tile_npz(lats,lons,map, classificationmap, zoom=15, dst_dir =\"temp/\"):\n",
        "  dir_zoom = dst_dir + f\"{zoom}/\"\n",
        "  if not os.path.exists(dir_zoom):\n",
        "    os.makedirs(dir_zoom)\n",
        "  res_lons = np.array([])\n",
        "  res_lats = np.array([])\n",
        "  res_maps = np.array([])\n",
        "  res_class = np.array([])\n",
        "  print(f\" / total loop num: {len(lats)/256}\")\n",
        "  for jj, tmp_lat in progressbar(enumerate(lats[::256])):\n",
        "    idj = jj*256\n",
        "    sublats = lats[idj:idj+256]\n",
        "    for ii, tmp_lon in enumerate(lons[::256]):\n",
        "      idi = ii*256\n",
        "      sublons = lons[idi:idi+256]\n",
        "      xx,yy  = pfsl.calc_xyz_from_lonlat(tmp_lon, tmp_lat, zoom)\n",
        "      #print(ii,jj, xx, yy)\n",
        "      submap = map[idj:idj+256,idi:idi+256]\n",
        "      subclass = classificationmap[idj:idj+256,idi:idi+256]\n",
        "      grd_lons, grd_lats  = np.meshgrid(sublons,sublats)\n",
        "      flt_lons = grd_lons.ravel()\n",
        "      flt_lats = grd_lats.ravel()\n",
        "      flt_map = submap.ravel()\n",
        "      flt_class = subclass.ravel()\n",
        "      #selected = [[lon,lat,dem] for lon, lat, dem in zip(flt_lons, flt_lats,flt_map) if not np.isnan(dem)]\n",
        "      #print(flt_lons[0:5])\n",
        "      #print(flt_lats[0:5])\n",
        "      #print(flt_map[0:5])\n",
        "      #print(ii, jj, f\"{subzoom}-{xx}-{yy}\", f\"{subzoom}-{chk_tile[0]}-{chk_tile[1]}\")\n",
        "      if not os.path.exists(f\"{dir_zoom}{xx}\"):\n",
        "        os.mkdir(f\"{dir_zoom}{xx}\")\n",
        "      np.savez(f\"{dir_zoom}{xx}/{yy}.npz\", lons=flt_lons, lats=flt_lats, dem=flt_map, classification=flt_class)\n",
        "      res_lons = np.append(res_lons, flt_lons)\n",
        "      res_lats = np.append(res_lats, flt_lats)\n",
        "      res_maps = np.append(res_maps, flt_map)\n",
        "      res_class = np.append(res_class, flt_class)\n",
        "  return res_lons, res_lats, res_maps, res_class\n"
      ],
      "metadata": {
        "cellView": "form",
        "id": "ibvWUGuWNgXs"
      },
      "execution_count": null,
      "outputs": []
    },
    {
      "cell_type": "code",
      "source": [
        "worklist = [\n",
        "  [yukaue_mokuzou, file_floodHeattile_yukauemokuzou_zip],\n",
        "  [yukashita_mokuzou, file_floodHeattile_yukashitamokuzou_zip],\n",
        "  [all_mokuzou, file_floodHeattile_allmokuzou_zip]\n",
        "]\n",
        "for heatmap, savefile in worklist:\n",
        "  print(f\"for {savefile}\")\n",
        "  #print(np.nansum(heatmap))\n",
        "  category = np.zeros_like(heatmap)\n",
        "  levels = [5, 10, 15, 20, 25]\n",
        "  for ii, ll in enumerate(levels[::-1]):\n",
        "    category[heatmap<ll] = len(levels)-ii\n",
        "  category[heatmap==0] = 0\n",
        "  category[heatmap>levels[-1]] = len(levels)+1\n",
        "  heatmap[heatmap==0] = np.nan\n",
        "  if os.path.exists(\"/heat_tmp\"):\n",
        "    !rm -rf /heat_tmp\n",
        "  test_lons, test_lats, test_maps, test_class = save_tile_npz(lats,lons,heatmap,category,dst_dir=\"/heat_tmp/\")\n",
        "  if os.path.exists(\"/heattile_tmp/\"):\n",
        "    !rm -rf /heattile_tmp\n",
        "  p = FloodToPng(\"/heat_tmp/\")\n",
        "  p.parse(\"/heattile_tmp/\")\n",
        "  shutil.make_archive(savefile[:-4], 'zip', \"/heattile_tmp/\")\n",
        "  #!rm -rf \"heat_tmp\"\n",
        "  #!rm -rf \"heattile_tmp\""
      ],
      "metadata": {
        "colab": {
          "base_uri": "https://localhost:8080/"
        },
        "id": "LKMn31TlNiol",
        "outputId": "e979947e-dc24-4ccf-c9a7-e4353f708799"
      },
      "execution_count": null,
      "outputs": [
        {
          "output_type": "stream",
          "name": "stdout",
          "text": [
            "for /content/drive/MyDrive/plateau-2023-uc01-satellite-analytics/PLATEAU-FloodSAR/omuta-r2/ForUpload/heatmap_yukaue_mokuzou.zip\n"
          ]
        },
        {
          "output_type": "stream",
          "name": "stderr",
          "text": [
            "\r/ |#                                                  | 0 Elapsed Time: 0:00:00"
          ]
        },
        {
          "output_type": "stream",
          "name": "stdout",
          "text": [
            " / total loop num: 14.0\n"
          ]
        },
        {
          "output_type": "stream",
          "name": "stderr",
          "text": [
            "| |     #                                            | 13 Elapsed Time: 0:00:19\n"
          ]
        },
        {
          "output_type": "stream",
          "name": "stdout",
          "text": [
            "for /content/drive/MyDrive/plateau-2023-uc01-satellite-analytics/PLATEAU-FloodSAR/omuta-r2/ForUpload/heatmap_yukashita_mokuzou.zip\n"
          ]
        },
        {
          "output_type": "stream",
          "name": "stderr",
          "text": [
            "- | #                                                 | 1 Elapsed Time: 0:00:00"
          ]
        },
        {
          "output_type": "stream",
          "name": "stdout",
          "text": [
            " / total loop num: 14.0\n"
          ]
        },
        {
          "output_type": "stream",
          "name": "stderr",
          "text": [
            "| |      #                                           | 13 Elapsed Time: 0:00:19\n"
          ]
        },
        {
          "output_type": "stream",
          "name": "stdout",
          "text": [
            "for /content/drive/MyDrive/plateau-2023-uc01-satellite-analytics/PLATEAU-FloodSAR/omuta-r2/ForUpload/heatmap_all_mokuzou.zip\n"
          ]
        },
        {
          "output_type": "stream",
          "name": "stderr",
          "text": [
            "- | #                                                 | 1 Elapsed Time: 0:00:00"
          ]
        },
        {
          "output_type": "stream",
          "name": "stdout",
          "text": [
            " / total loop num: 14.0\n"
          ]
        },
        {
          "output_type": "stream",
          "name": "stderr",
          "text": [
            "| |        #                                         | 13 Elapsed Time: 0:00:19\n"
          ]
        }
      ]
    }
  ],
  "metadata": {
    "colab": {
      "provenance": []
    },
    "kernelspec": {
      "display_name": "Python 3",
      "name": "python3"
    },
    "language_info": {
      "name": "python"
    }
  },
  "nbformat": 4,
  "nbformat_minor": 0
}