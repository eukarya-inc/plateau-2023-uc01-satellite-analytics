{
  "cells": [
    {
      "cell_type": "markdown",
      "metadata": {
        "id": "plexmctqq0xV"
      },
      "source": [
        "建物データと浸水面標高ラスターデータから建物の被災データを生成。（必要手続き：Driveの接続）\n",
        "\n",
        "3_CalcFloodDEMRaster.ipynbの実行後は再起動させる必要があります。"
      ]
    },
    {
      "cell_type": "code",
      "execution_count": null,
      "metadata": {
        "colab": {
          "base_uri": "https://localhost:8080/"
        },
        "id": "6miOua5u8sih",
        "outputId": "cf4d1c22-0d54-465a-f5da-2c4e0c3a198b"
      },
      "outputs": [
        {
          "output_type": "stream",
          "name": "stdout",
          "text": [
            "Mounted at /content/drive\n"
          ]
        }
      ],
      "source": [
        "# @title Googleドライブの準備\n",
        "from google.colab import drive\n",
        "drive.mount('/content/drive')"
      ]
    },
    {
      "cell_type": "code",
      "execution_count": null,
      "metadata": {
        "id": "ThhMHeyt3lCC",
        "cellView": "form"
      },
      "outputs": [],
      "source": [
        "#@title 日本の調査IDと自治体コードから住所情報を得る\n",
        "survey_id = \"A002005212020\" #@param {type: \"string\"}\n",
        "pref_code = \"40\" #@param\n",
        "city_code = \"203\" #@param"
      ]
    },
    {
      "cell_type": "code",
      "execution_count": null,
      "metadata": {
        "id": "TiWIAVi6pnpm"
      },
      "outputs": [],
      "source": [
        "# @title 設定するパラメータ\n",
        "\n",
        "# ケース名：解析を通して使います。\n",
        "casename = \"kurume-r2\"\n",
        "\n",
        "maxdepth = 4.27\n",
        "\n",
        "local_government_code = f\"{pref_code}{city_code}\"\n",
        "\n",
        "# 確認用画像出力用フラグ\n",
        "flg_checkDisp =  False\n"
      ]
    },
    {
      "cell_type": "code",
      "execution_count": null,
      "metadata": {
        "id": "GmDsB5-EpfHS"
      },
      "outputs": [],
      "source": [
        "# @title 詳細設定用パラメータ（基本的には操作不要）\n",
        "\n",
        "enable_savefig = False # 図をGoogleドライブに保存する？\n",
        "\n",
        "zoomlevel = 15 # DEM zoom level to fetch\n",
        "\n",
        "# デバッグ用出力\n",
        "global globalflag_debug\n",
        "\n",
        "# 保存先\n",
        "path_home = \"/content/drive/MyDrive/plateau-2023-uc01-satellite-analytics/PLATEAU-FloodSAR/\"\n",
        "#path_cgml = path_home + \"/CityGML/\"\n",
        "path_dem = path_home + \"/DEM/\"\n",
        "path_case = path_home + casename + \"/\"\n",
        "path_upload = path_case + \"ForUpload/\"\n",
        "json_buildings = path_case+\"buildings_parsed.json\"\n",
        "json_boundary = path_case +\"boundary.json\"\n",
        "file_bbox = path_case + \"boundbox.npy\"\n",
        "file_dem_fmt = path_case + \"dem_{}_{}-{}_{}-{}.npz\"\n",
        "\n",
        "file_flooddem = path_case + \"flood_dem_{:04d}.npz\"\n",
        "file_flooddepth = path_case + \"flood_depth_{:04d}.npz\"\n",
        "\n",
        "path_heattile_tmp = \"heat/\"\n",
        "\n",
        "file_building_csv = path_upload + \"buildings.csv\"\n",
        "file_floodHeattile_yukauemokuzou_zip = path_upload+\"heatmap_yukaue_mokuzou.zip\"\n",
        "file_floodHeattile_yukashitamokuzou_zip = path_upload+\"heatmap_yukashita_mokuzou.zip\"\n",
        "file_floodHeattile_allmokuzou_zip = path_upload+\"heatmap_all_mokuzou.zip\""
      ]
    },
    {
      "cell_type": "code",
      "execution_count": null,
      "metadata": {
        "colab": {
          "base_uri": "https://localhost:8080/"
        },
        "id": "mIDzsoB53lCD",
        "outputId": "901965d1-8453-49cb-8588-cdb0a35c99e3",
        "cellView": "form"
      },
      "outputs": [
        {
          "output_type": "stream",
          "name": "stdout",
          "text": [
            "/content/drive/MyDrive/plateau-2023-uc01-satellite-analytics/PLATEAU-FloodSAR\n",
            "mkdir: cannot create directory ‘shapes’: File exists\n",
            "/content/drive/MyDrive/plateau-2023-uc01-satellite-analytics/PLATEAU-FloodSAR/shapes\n",
            "ファイルがダウンロードされました: A002005212020DDSWC40203.zip\n",
            "mkdir: cannot create directory ‘A002005212020DDSWC40203’: File exists\n",
            "Archive:  A002005212020DDSWC40203.zip\n",
            "  inflating: A002005212020DDSWC40203/r2ka40203.shp  \n",
            "  inflating: A002005212020DDSWC40203/r2ka40203.shx  \n",
            "  inflating: A002005212020DDSWC40203/r2ka40203.dbf  \n",
            "  inflating: A002005212020DDSWC40203/r2ka40203.prj  \n",
            "/content/drive/MyDrive/plateau-2023-uc01-satellite-analytics/PLATEAU-FloodSAR\n"
          ]
        }
      ],
      "source": [
        "# @title shapeファイルをダウンロードする．\n",
        "%cd {path_home}\n",
        "!mkdir shapes\n",
        "%cd shapes\n",
        "\n",
        "import requests\n",
        "import re\n",
        "from urllib.parse import unquote\n",
        "\n",
        "# ダウンロードするファイルのURL\n",
        "local_government_code = f\"{pref_code}{city_code}\"\n",
        "url = f\"https://www.e-stat.go.jp/gis/statmap-search/data?dlserveyId={survey_id}&code={local_government_code}&coordSys=1&format=shape&downloadType=5&datum=2000\"\n",
        "\n",
        "def get_filename_from_cd(cd):\n",
        "    \"\"\"\n",
        "    Content-Dispositionヘッダーからファイル名を取得する関数\n",
        "    \"\"\"\n",
        "    if not cd:\n",
        "        return None\n",
        "    fname = re.findall(\"filename\\*=UTF-8''(.+)\", cd)\n",
        "    if len(fname) == 0:\n",
        "        return None\n",
        "    return unquote(fname[0])\n",
        "\n",
        "# ファイルをダウンロードし保存する関数\n",
        "def download_file(url):\n",
        "    \"\"\"\n",
        "    指定されたURLからファイルをダウンロードし、Content-Dispositionヘッダーから取得したファイル名で保存する\n",
        "    \"\"\"\n",
        "    with requests.get(url, stream=True) as response:\n",
        "        response.raise_for_status()\n",
        "        filename = get_filename_from_cd(response.headers.get('content-disposition'))\n",
        "        if not filename:\n",
        "            filename = 'downloaded_file.zip'\n",
        "        with open(filename, 'wb') as file:\n",
        "            for chunk in response.iter_content(chunk_size=8192):\n",
        "                file.write(chunk)\n",
        "        print(f\"ファイルがダウンロードされました: {filename}\")\n",
        "    return filename\n",
        "\n",
        "# ファイルのダウンロード\n",
        "shp_filename = download_file(url)\n",
        "\n",
        "import os\n",
        "shape_dir = os.path.splitext(shp_filename)[0]\n",
        "!mkdir {shape_dir}\n",
        "!unzip -o {shp_filename} -d {shape_dir}\n",
        "\n",
        "%cd {path_home}\n",
        "from glob import glob\n",
        "\n",
        "address_shp = glob(f\"shapes/{shape_dir}/*.shp\")[0] # このコードの場所からみた住所のshpファイルの相対パス\n",
        "shape_file = path_home + address_shp"
      ]
    },
    {
      "cell_type": "code",
      "execution_count": null,
      "metadata": {
        "colab": {
          "base_uri": "https://localhost:8080/",
          "height": 1000
        },
        "id": "3QVzgY8L4r5K",
        "outputId": "1fe2d85e-ede8-462d-ca66-a6759a0e5d58"
      },
      "outputs": [
        {
          "output_type": "stream",
          "name": "stdout",
          "text": [
            "Collecting plateauutils\n",
            "  Cloning https://github.com/eukarya-inc/plateauutils.git (to revision main) to /tmp/pip-install-ra95z9r7/plateauutils_cb43a44035fd46d3bd9ee1ac7a6d6bb6\n",
            "  Running command git clone --filter=blob:none --quiet https://github.com/eukarya-inc/plateauutils.git /tmp/pip-install-ra95z9r7/plateauutils_cb43a44035fd46d3bd9ee1ac7a6d6bb6\n",
            "  Resolved https://github.com/eukarya-inc/plateauutils.git to commit 988d053eae5ff3b0bd9e23445fdb6171796a418f\n",
            "  Installing build dependencies ... \u001b[?25l\u001b[?25hdone\n",
            "  Getting requirements to build wheel ... \u001b[?25l\u001b[?25hdone\n",
            "  Preparing metadata (pyproject.toml) ... \u001b[?25l\u001b[?25hdone\n",
            "Collecting py3dtiles@ git+https://gitlab.com/Oslandia/py3dtiles.git@489289d2f7310fbcb8e95710e250d893999adf5d (from plateauutils)\n",
            "  Cloning https://gitlab.com/Oslandia/py3dtiles.git (to revision 489289d2f7310fbcb8e95710e250d893999adf5d) to /tmp/pip-install-ra95z9r7/py3dtiles_0c68e063942949f0a24d1d21945748ba\n",
            "  Running command git clone --filter=blob:none --quiet https://gitlab.com/Oslandia/py3dtiles.git /tmp/pip-install-ra95z9r7/py3dtiles_0c68e063942949f0a24d1d21945748ba\n",
            "  Running command git rev-parse -q --verify 'sha^489289d2f7310fbcb8e95710e250d893999adf5d'\n",
            "  Running command git fetch -q https://gitlab.com/Oslandia/py3dtiles.git 489289d2f7310fbcb8e95710e250d893999adf5d\n",
            "  Running command git checkout -q 489289d2f7310fbcb8e95710e250d893999adf5d\n",
            "  Resolved https://gitlab.com/Oslandia/py3dtiles.git to commit 489289d2f7310fbcb8e95710e250d893999adf5d\n",
            "  Preparing metadata (setup.py) ... \u001b[?25l\u001b[?25hdone\n",
            "Requirement already satisfied: click in /usr/local/lib/python3.10/dist-packages (from plateauutils) (8.1.7)\n",
            "Requirement already satisfied: numpy in /usr/local/lib/python3.10/dist-packages (from plateauutils) (1.23.5)\n",
            "Requirement already satisfied: pandas in /usr/local/lib/python3.10/dist-packages (from plateauutils) (1.5.3)\n",
            "Requirement already satisfied: pillow in /usr/local/lib/python3.10/dist-packages (from plateauutils) (9.4.0)\n",
            "Requirement already satisfied: pyproj in /usr/local/lib/python3.10/dist-packages (from plateauutils) (3.6.1)\n",
            "Collecting reearthcmsapi (from plateauutils)\n",
            "  Downloading reearthcmsapi-0.0.3-py3-none-any.whl (151 kB)\n",
            "\u001b[2K     \u001b[90m━━━━━━━━━━━━━━━━━━━━━━━━━━━━━━━━━━━━━━━━\u001b[0m \u001b[32m151.6/151.6 kB\u001b[0m \u001b[31m3.2 MB/s\u001b[0m eta \u001b[36m0:00:00\u001b[0m\n",
            "\u001b[?25hRequirement already satisfied: requests in /usr/local/lib/python3.10/dist-packages (from plateauutils) (2.31.0)\n",
            "Requirement already satisfied: shapely in /usr/local/lib/python3.10/dist-packages (from plateauutils) (2.0.2)\n",
            "Requirement already satisfied: tqdm in /usr/local/lib/python3.10/dist-packages (from plateauutils) (4.66.1)\n",
            "Requirement already satisfied: python-dateutil>=2.8.1 in /usr/local/lib/python3.10/dist-packages (from pandas->plateauutils) (2.8.2)\n",
            "Requirement already satisfied: pytz>=2020.1 in /usr/local/lib/python3.10/dist-packages (from pandas->plateauutils) (2023.3.post1)\n",
            "Requirement already satisfied: cython in /usr/local/lib/python3.10/dist-packages (from py3dtiles@ git+https://gitlab.com/Oslandia/py3dtiles.git@489289d2f7310fbcb8e95710e250d893999adf5d->plateauutils) (3.0.6)\n",
            "Collecting earcut==1.1.5 (from py3dtiles@ git+https://gitlab.com/Oslandia/py3dtiles.git@489289d2f7310fbcb8e95710e250d893999adf5d->plateauutils)\n",
            "  Downloading earcut-1.1.5.tar.gz (9.1 kB)\n",
            "  Preparing metadata (setup.py) ... \u001b[?25l\u001b[?25hdone\n",
            "Collecting lz4 (from py3dtiles@ git+https://gitlab.com/Oslandia/py3dtiles.git@489289d2f7310fbcb8e95710e250d893999adf5d->plateauutils)\n",
            "  Downloading lz4-4.3.2-cp310-cp310-manylinux_2_17_x86_64.manylinux2014_x86_64.whl (1.3 MB)\n",
            "\u001b[2K     \u001b[90m━━━━━━━━━━━━━━━━━━━━━━━━━━━━━━━━━━━━━━━━\u001b[0m \u001b[32m1.3/1.3 MB\u001b[0m \u001b[31m28.0 MB/s\u001b[0m eta \u001b[36m0:00:00\u001b[0m\n",
            "\u001b[?25hRequirement already satisfied: numba in /usr/local/lib/python3.10/dist-packages (from py3dtiles@ git+https://gitlab.com/Oslandia/py3dtiles.git@489289d2f7310fbcb8e95710e250d893999adf5d->plateauutils) (0.58.1)\n",
            "Collecting numpy (from plateauutils)\n",
            "  Downloading numpy-1.22.4-cp310-cp310-manylinux_2_17_x86_64.manylinux2014_x86_64.whl (16.8 MB)\n",
            "\u001b[2K     \u001b[90m━━━━━━━━━━━━━━━━━━━━━━━━━━━━━━━━━━━━━━━━\u001b[0m \u001b[32m16.8/16.8 MB\u001b[0m \u001b[31m50.1 MB/s\u001b[0m eta \u001b[36m0:00:00\u001b[0m\n",
            "\u001b[?25hRequirement already satisfied: psutil in /usr/local/lib/python3.10/dist-packages (from py3dtiles@ git+https://gitlab.com/Oslandia/py3dtiles.git@489289d2f7310fbcb8e95710e250d893999adf5d->plateauutils) (5.9.5)\n",
            "Requirement already satisfied: pyzmq in /usr/local/lib/python3.10/dist-packages (from py3dtiles@ git+https://gitlab.com/Oslandia/py3dtiles.git@489289d2f7310fbcb8e95710e250d893999adf5d->plateauutils) (23.2.1)\n",
            "Requirement already satisfied: certifi in /usr/local/lib/python3.10/dist-packages (from pyproj->plateauutils) (2023.11.17)\n",
            "Requirement already satisfied: frozendict>=2.3.4 in /usr/local/lib/python3.10/dist-packages (from reearthcmsapi->plateauutils) (2.3.10)\n",
            "Requirement already satisfied: setuptools>=21.0.0 in /usr/local/lib/python3.10/dist-packages (from reearthcmsapi->plateauutils) (67.7.2)\n",
            "Requirement already satisfied: typing-extensions>=4.3.0 in /usr/local/lib/python3.10/dist-packages (from reearthcmsapi->plateauutils) (4.5.0)\n",
            "Requirement already satisfied: urllib3<2.1.0,>=1.26.7 in /usr/local/lib/python3.10/dist-packages (from reearthcmsapi->plateauutils) (2.0.7)\n",
            "Requirement already satisfied: charset-normalizer<4,>=2 in /usr/local/lib/python3.10/dist-packages (from requests->plateauutils) (3.3.2)\n",
            "Requirement already satisfied: idna<4,>=2.5 in /usr/local/lib/python3.10/dist-packages (from requests->plateauutils) (3.6)\n",
            "Requirement already satisfied: six>=1.5 in /usr/local/lib/python3.10/dist-packages (from python-dateutil>=2.8.1->pandas->plateauutils) (1.16.0)\n",
            "Requirement already satisfied: llvmlite<0.42,>=0.41.0dev0 in /usr/local/lib/python3.10/dist-packages (from numba->py3dtiles@ git+https://gitlab.com/Oslandia/py3dtiles.git@489289d2f7310fbcb8e95710e250d893999adf5d->plateauutils) (0.41.1)\n",
            "Building wheels for collected packages: plateauutils, py3dtiles, earcut\n",
            "  Building wheel for plateauutils (pyproject.toml) ... \u001b[?25l\u001b[?25hdone\n",
            "  Created wheel for plateauutils: filename=plateauutils-0.0.13-py3-none-any.whl size=414429 sha256=691148830ee7b46b5c9eab50c8011fe360871d3ec173581635248ee9363500b2\n",
            "  Stored in directory: /tmp/pip-ephem-wheel-cache-jym87vsh/wheels/cd/7e/1a/7abef4942e7fa9e69ea17cd37bdc193a7c502f36600fd3a008\n",
            "  Building wheel for py3dtiles (setup.py) ... \u001b[?25l\u001b[?25hdone\n",
            "  Created wheel for py3dtiles: filename=py3dtiles-6.0.0-py3-none-any.whl size=101648 sha256=29379fd7f566a980f8de51051e2afb514034c3af7b764787a9c7bb2955bc4063\n",
            "  Stored in directory: /root/.cache/pip/wheels/35/1a/85/a82737c34ffa0e2e408aa039e66acfd41030b36c36a1153742\n",
            "  Building wheel for earcut (setup.py) ... \u001b[?25l\u001b[?25hdone\n",
            "  Created wheel for earcut: filename=earcut-1.1.5-py3-none-any.whl size=8738 sha256=2269440a2c3ae649b0b92612fe299c80e74dfd8a9d6719f36bde882638717a0f\n",
            "  Stored in directory: /root/.cache/pip/wheels/1d/44/c4/ae3b04eee88104a19850c1cbc658fa398560c35ba5956faa79\n",
            "Successfully built plateauutils py3dtiles earcut\n",
            "Installing collected packages: numpy, lz4, reearthcmsapi, earcut, py3dtiles, plateauutils\n",
            "  Attempting uninstall: numpy\n",
            "    Found existing installation: numpy 1.23.5\n",
            "    Uninstalling numpy-1.23.5:\n",
            "      Successfully uninstalled numpy-1.23.5\n",
            "\u001b[31mERROR: pip's dependency resolver does not currently take into account all the packages that are installed. This behaviour is the source of the following dependency conflicts.\n",
            "lida 0.0.10 requires fastapi, which is not installed.\n",
            "lida 0.0.10 requires kaleido, which is not installed.\n",
            "lida 0.0.10 requires python-multipart, which is not installed.\n",
            "lida 0.0.10 requires uvicorn, which is not installed.\n",
            "plotnine 0.12.4 requires numpy>=1.23.0, but you have numpy 1.22.4 which is incompatible.\n",
            "tensorflow 2.14.0 requires numpy>=1.23.5, but you have numpy 1.22.4 which is incompatible.\u001b[0m\u001b[31m\n",
            "\u001b[0mSuccessfully installed earcut-1.1.5 lz4-4.3.2 numpy-1.22.4 plateauutils-0.0.13 py3dtiles-6.0.0 reearthcmsapi-0.0.3\n"
          ]
        },
        {
          "output_type": "display_data",
          "data": {
            "application/vnd.colab-display-data+json": {
              "pip_warning": {
                "packages": [
                  "numpy"
                ]
              }
            }
          },
          "metadata": {}
        },
        {
          "output_type": "stream",
          "name": "stdout",
          "text": [
            "Collecting rasterio\n",
            "  Downloading rasterio-1.3.9-cp310-cp310-manylinux2014_x86_64.whl (20.6 MB)\n",
            "\u001b[2K     \u001b[90m━━━━━━━━━━━━━━━━━━━━━━━━━━━━━━━━━━━━━━━━\u001b[0m \u001b[32m20.6/20.6 MB\u001b[0m \u001b[31m30.7 MB/s\u001b[0m eta \u001b[36m0:00:00\u001b[0m\n",
            "\u001b[?25hCollecting affine (from rasterio)\n",
            "  Downloading affine-2.4.0-py3-none-any.whl (15 kB)\n",
            "Requirement already satisfied: attrs in /usr/local/lib/python3.10/dist-packages (from rasterio) (23.1.0)\n",
            "Requirement already satisfied: certifi in /usr/local/lib/python3.10/dist-packages (from rasterio) (2023.11.17)\n",
            "Requirement already satisfied: click>=4.0 in /usr/local/lib/python3.10/dist-packages (from rasterio) (8.1.7)\n",
            "Requirement already satisfied: cligj>=0.5 in /usr/local/lib/python3.10/dist-packages (from rasterio) (0.7.2)\n",
            "Requirement already satisfied: numpy in /usr/local/lib/python3.10/dist-packages (from rasterio) (1.22.4)\n",
            "Collecting snuggs>=1.4.1 (from rasterio)\n",
            "  Downloading snuggs-1.4.7-py3-none-any.whl (5.4 kB)\n",
            "Requirement already satisfied: click-plugins in /usr/local/lib/python3.10/dist-packages (from rasterio) (1.1.1)\n",
            "Requirement already satisfied: setuptools in /usr/local/lib/python3.10/dist-packages (from rasterio) (67.7.2)\n",
            "Requirement already satisfied: pyparsing>=2.1.6 in /usr/local/lib/python3.10/dist-packages (from snuggs>=1.4.1->rasterio) (3.1.1)\n",
            "Installing collected packages: snuggs, affine, rasterio\n",
            "Successfully installed affine-2.4.0 rasterio-1.3.9 snuggs-1.4.7\n"
          ]
        }
      ],
      "source": [
        "# @title 主要ライブラリインポート\n",
        "!pip install git+https://github.com/eukarya-inc/plateauutils.git@main#egg=plateauutils\n",
        "import json\n",
        "import matplotlib.pyplot as plt\n",
        "import numpy as np\n",
        "from progressbar import progressbar\n",
        "from shapely.geometry import MultiPolygon, shape, mapping, Point\n",
        "!pip install rasterio\n",
        "import rasterio\n",
        "from rasterio.features import geometry_mask\n",
        "import fiona\n",
        "import csv\n",
        "import sys\n",
        "import shutil\n",
        "from plateauutils.flood_converter.flood_to_png import FloodToPng\n",
        "#sys.path.append(path_home)\n",
        "import plateau_floodsar_lib as pfsl"
      ]
    },
    {
      "cell_type": "code",
      "execution_count": null,
      "metadata": {
        "colab": {
          "base_uri": "https://localhost:8080/"
        },
        "id": "LUrBuR1IqzZB",
        "outputId": "5f63e6a8-a5a1-4792-c54a-d8c015f82688"
      },
      "outputs": [
        {
          "output_type": "stream",
          "name": "stdout",
          "text": [
            "102376\n"
          ]
        }
      ],
      "source": [
        "# JSONファイルからデータを読み込む\n",
        "with open(json_buildings, 'r') as f:\n",
        "    buildings = json.load(f)\n",
        "\n",
        "print(len(buildings))"
      ]
    },
    {
      "cell_type": "code",
      "execution_count": null,
      "metadata": {
        "colab": {
          "base_uri": "https://localhost:8080/"
        },
        "id": "ZAGBvIoZAWg7",
        "outputId": "ea8433fb-dbd6-4822-ea2e-bb744719ff82"
      },
      "outputs": [
        {
          "output_type": "stream",
          "name": "stdout",
          "text": [
            "[{'gid': 'bldg_383f1804-aa34-4634-949f-f769e09fa92d', 'center': [130.41263587199947, 33.22489181671553], 'min_height': 3.805999994277954, 'measured_height': 9.3, 'building_structure_type': '非木造', 'dem': 4.211194651213488}, {'gid': 'bldg_877dea60-35d0-4fd9-8b02-852e39c75d81', 'center': [130.41619367090038, 33.22492719812357], 'min_height': 4.454999923706055, 'measured_height': 3.0, 'building_structure_type': '非木造', 'dem': 4.511449391826913}, {'gid': 'bldg_b75ca4b1-92b3-44a5-ad16-5e72cd09b0f2', 'center': [130.41286751062674, 33.22492397949454], 'min_height': 3.700000047683716, 'measured_height': 9.4, 'building_structure_type': '非木造', 'dem': 3.956987680630892}, {'gid': 'bldg_61b43d48-4425-4801-985c-f6189fa71458', 'center': [130.46168907863304, 33.22495868239884], 'min_height': 4.843999862670898, 'measured_height': 3.0, 'building_structure_type': '不明', 'dem': 4.896962536308122}, {'gid': 'bldg_d1818edb-3724-41ef-b0bb-53d428017daa', 'center': [130.46219544576414, 33.224922353136535], 'min_height': 4.747000217437744, 'measured_height': 3.0, 'building_structure_type': '不明', 'dem': 4.901148507110092}, {'gid': 'bldg_a6325189-a10f-4bb0-92ef-ea9530a7c72d', 'center': [130.46247207098483, 33.22490067711922], 'min_height': 4.806000232696533, 'measured_height': 3.0, 'building_structure_type': '不明', 'dem': 4.857921823799638}, {'gid': 'bldg_12d03d82-481a-4342-bd4d-0520682ef664', 'center': [130.4619645777858, 33.22494066617915], 'min_height': 4.854000091552734, 'measured_height': 3.0, 'building_structure_type': '不明', 'dem': 5.1089738877309925}, {'gid': 'bldg_e796a650-2cdb-4226-863a-469c8c6dd759', 'center': [130.4622833525813, 33.224450683790295], 'min_height': 4.735000133514404, 'measured_height': 3.0, 'building_structure_type': '不明', 'dem': 4.8315321575428625}, {'gid': 'bldg_4f079522-996e-4e27-bfe3-4ddee833ccdd', 'center': [130.46275801607112, 33.22492874495974], 'min_height': 4.706999778747559, 'measured_height': 3.0, 'building_structure_type': '不明', 'dem': 4.768067275240944}, {'gid': 'bldg_ed365b93-aa41-4d8e-a099-cce121cec45c', 'center': [130.40294440354532, 33.2304646602368], 'min_height': 3.441999912261963, 'measured_height': 7.5, 'building_structure_type': '木造・土蔵造', 'dem': 3.909007289345219}]\n",
            "0\n"
          ]
        }
      ],
      "source": [
        "print(buildings[0:10])\n",
        "print(len([vv for vv in buildings if vv[\"measured_height\"] <2.1]))"
      ]
    },
    {
      "cell_type": "code",
      "execution_count": null,
      "metadata": {
        "colab": {
          "base_uri": "https://localhost:8080/"
        },
        "id": "QiiNoHhpLoSh",
        "outputId": "19031c02-2162-4ab0-81a7-01f477019f8a"
      },
      "outputs": [
        {
          "output_type": "stream",
          "name": "stdout",
          "text": [
            "{'非木造', '鉄筋コンクリート造', '不明', None, '木造・土蔵造'}\n"
          ]
        }
      ],
      "source": [
        "building_types = set([vv[\"building_structure_type\"] for vv in buildings])\n",
        "print(building_types)"
      ]
    },
    {
      "cell_type": "code",
      "execution_count": null,
      "metadata": {
        "id": "DtRRGyGWHQ8U"
      },
      "outputs": [],
      "source": [
        "#depth_map = np.load(file_flooddepth.format(int(maxdepth*100)))\n",
        "dem_map = np.load(file_flooddem.format(int(maxdepth*100)))"
      ]
    },
    {
      "cell_type": "code",
      "execution_count": null,
      "metadata": {
        "id": "m0eAcGhZNhen"
      },
      "outputs": [],
      "source": [
        "#lons = depth_map[\"lons\"]\n",
        "#lats = depth_map[\"lats\"]\n",
        "#depthmap = depth_map[\"floodmap_depth\"]\n",
        "lons = dem_map[\"lons\"]\n",
        "lats = dem_map[\"lats\"]\n",
        "demmap = dem_map[\"floodmap_dem\"]"
      ]
    },
    {
      "cell_type": "code",
      "execution_count": null,
      "metadata": {
        "colab": {
          "base_uri": "https://localhost:8080/"
        },
        "id": "Fa4AkcK4bEd6",
        "outputId": "d9fda96a-2409-44ee-add4-805aa6b4bac1"
      },
      "outputs": [
        {
          "output_type": "stream",
          "name": "stdout",
          "text": [
            "[130.37475586 130.37479877 130.37484169 ... 130.77013493 130.77017784\n",
            " 130.77022076]\n",
            "[33.41304731 33.41301145 33.41297559 ... 33.21116941 33.21113355\n",
            " 33.21109768]\n"
          ]
        }
      ],
      "source": [
        "#np.set_printoptions(threshold=np.inf)\n",
        "print(lons)\n",
        "print(lats)"
      ]
    },
    {
      "cell_type": "code",
      "execution_count": null,
      "metadata": {
        "colab": {
          "base_uri": "https://localhost:8080/"
        },
        "id": "txTJoLBRHRsG",
        "outputId": "06290e2e-fb03-46b2-dc91-5a2a9f5f74d0"
      },
      "outputs": [
        {
          "output_type": "stream",
          "name": "stdout",
          "text": [
            "[[nan nan nan ... nan nan nan]\n",
            " [nan nan nan ... nan nan nan]\n",
            " [nan nan nan ... nan nan nan]\n",
            " ...\n",
            " [nan nan nan ... nan nan nan]\n",
            " [nan nan nan ... nan nan nan]\n",
            " [nan nan nan ... nan nan nan]]\n"
          ]
        }
      ],
      "source": [
        "print(demmap)"
      ]
    },
    {
      "cell_type": "code",
      "execution_count": null,
      "metadata": {
        "id": "Zud6DaQKNeY5"
      },
      "outputs": [],
      "source": [
        "if flg_checkDisp:\n",
        "  ax =plt.subplot(1,1,1)\n",
        "  #img = ax.contourf(lons,lats, depthmap,levels=np.arange(0,maxdepth+0.1,0.25))\n",
        "  img = ax.contourf(lons,lats, demmap)#,levels=np.arange(0,maxdepth+0.1,0.25))\n",
        "  ax.axis(\"equal\")\n",
        "  plt.colorbar(img)\n",
        "  #ax.set_xlim(130.4,130.5)\n",
        "  #ax.set_ylim(33.22,33.32)"
      ]
    },
    {
      "cell_type": "code",
      "execution_count": null,
      "metadata": {
        "id": "l13mzBAu9NZ8"
      },
      "outputs": [],
      "source": [
        "bldgtype_yukaue_depth = {\"木造・土蔵造\":0.45, \"レンガ造・コンクリートブロック造・石造\":0.45, \"不明\":0.45}\n",
        "bldgtype_mokuzou = [\"木造・土蔵造\"]\n",
        "bldgtype_renga = [\"\"]\n",
        "bldgtype_block = [\"レンガ造・コンクリートブロック造・石造\"]\n",
        "def get_floodcategory(bldg_type, depth):\n",
        "  min_depth = bldgtype_yukaue_depth[bldg_type] if bldg_type in bldgtype_yukaue_depth else 0.0\n",
        "  category = \"非浸水\"\n",
        "  if depth is not None and depth >0:\n",
        "    if depth > min_depth :\n",
        "      if min_depth == 0:\n",
        "        category = \"浸水\"\n",
        "      else:\n",
        "        category = \"床上\"\n",
        "    elif depth > 0:\n",
        "      category = \"床下\"\n",
        "  if bldg_type in bldgtype_mokuzou:\n",
        "    category += \"（木造）\"\n",
        "  elif bldg_type in bldgtype_renga:\n",
        "    category += \"（レンガ造）\"\n",
        "  elif bldg_type == \"不明\" or bldg_type is None:\n",
        "    category += \"（不明）\"\n",
        "  else:\n",
        "    category += \"（非木造）\"\n",
        "  return category"
      ]
    },
    {
      "cell_type": "code",
      "execution_count": null,
      "metadata": {
        "colab": {
          "base_uri": "https://localhost:8080/"
        },
        "id": "kg8jRMBW9oEH",
        "outputId": "2f035dac-317d-420d-c016-6a4d89fe696e"
      },
      "outputs": [
        {
          "output_type": "stream",
          "name": "stdout",
          "text": [
            "床上（木造）\n",
            "床下（木造）\n",
            "床上（不明）\n",
            "床下（不明）\n",
            "浸水（非木造）\n",
            "非浸水（不明）\n",
            "非浸水（不明）\n"
          ]
        }
      ],
      "source": [
        "print(get_floodcategory(\"木造・土蔵造\", 1) )\n",
        "print(get_floodcategory(\"木造・土蔵造\", 0.2) )\n",
        "print(get_floodcategory(\"不明\", 1) )\n",
        "print(get_floodcategory(\"不明\", 0.3) )\n",
        "print(get_floodcategory(\"非木造\", 1) )\n",
        "print(get_floodcategory(None, -1) )\n",
        "print(get_floodcategory(None, None) )"
      ]
    },
    {
      "cell_type": "code",
      "execution_count": null,
      "metadata": {
        "id": "Is3Ht14DOJaB"
      },
      "outputs": [],
      "source": [
        "def calc_floatIdx_of_list(val:float, list):\n",
        "  \"\"\"\n",
        "  Args:\n",
        "      val (float): value which the method finds index for.\n",
        "      list (array-like): must be ordered (ascending or descending)\n",
        "  \"\"\"\n",
        "  try:\n",
        "    if list[0] < list[-1]:\n",
        "      idl = np.where(val > list)[0][-1]\n",
        "    else:\n",
        "      idl = np.where(val < list)[0][-1]\n",
        "  except IndexError:\n",
        "    print(\"IndexErrorCheck:\", val, (list[0], list[-1]))\n",
        "    return np.nan\n",
        "  if idl == len(list) -1:\n",
        "    return idl\n",
        "  return idl + (val-list[idl])/(list[idl+1]-list[idl])\n",
        "  #return (val - list[0])/(list[-1]-list[0]) * (len(list)-1)\n",
        "\n",
        "def calc_interpval_of_list(idx:float, list):\n",
        "  il = int(idx)\n",
        "  ih = int(idx + 1)\n",
        "  if ih >= len(list):\n",
        "    return list[-1]\n",
        "  dd = idx - il\n",
        "  return (1-dd)*list[il] + dd*list[ih]\n",
        "\n",
        "def calc_InterpVal_lonlat(lon, lat, data, lons, lats):\n",
        "  #print(\"Check1: \", lon, lat)\n",
        "  cx = calc_floatIdx_of_list(lon, lons)\n",
        "  cy = calc_floatIdx_of_list(lat, lats)\n",
        "  #print(\"Check: \", cx, cy, \"\\n\")\n",
        "  if np.any(np.isnan([cy, cx])):\n",
        "    return np.nan\n",
        "  xl = int(cx)\n",
        "  yl = int(cy)\n",
        "  xh = xl + 1\n",
        "  dx = cx-xl\n",
        "  yh = yl + 1\n",
        "  dy = cy - yl\n",
        "  if xh > len(lons)-1:\n",
        "    xh = xl\n",
        "  if yh > len(lats)-1:\n",
        "    yh = yl\n",
        "  val_ll = data[yl,xl]\n",
        "  val_hl = data[yh,xl]\n",
        "  val_lh = data[yl,xh]\n",
        "  val_hh = data[yh, xh]\n",
        "  return (1-dy)*(1-dx)*val_ll + (1-dy)*dx*val_lh + dy*(1-dx)*val_hl + dy*dx*val_hh"
      ]
    },
    {
      "cell_type": "code",
      "execution_count": null,
      "metadata": {
        "colab": {
          "base_uri": "https://localhost:8080/"
        },
        "id": "zbFVHhi5vOep",
        "outputId": "c454a34b-4b98-4dc3-cc8f-43967a5f6883"
      },
      "outputs": [
        {
          "output_type": "stream",
          "name": "stdout",
          "text": [
            "130.374755859375 130.77022075653076\n",
            "33.413047314283666 33.211097684352545\n"
          ]
        }
      ],
      "source": [
        "print(lons[0], lons[-1])\n",
        "print(lats[0], lats[-1])"
      ]
    },
    {
      "cell_type": "code",
      "execution_count": null,
      "metadata": {
        "cellView": "form",
        "id": "ym-qxoGVZu8H"
      },
      "outputs": [],
      "source": [
        "#@title 住所付与の準備\n",
        "\n",
        "# shpファイルのパス\n",
        "\n",
        "# マルチポリゴンのバウンディングボックスを取得します。\n",
        "minx, miny, maxx, maxy = lons.min(), lats.min(), lons.max(), lats.max() # [130.412497, 33.224723, 130.68759971, 33.40869805]\n",
        "# ラスタライズのパラメータを設定します。\n",
        "raster_height, raster_width = demmap.shape # (5376, 6656)\n",
        "\n",
        "transform = rasterio.transform.from_origin(minx, maxy, (maxx-minx)/raster_width, (maxy-miny)/raster_height)\n",
        "\n",
        "lookup_table = []\n",
        "\n",
        "# shpファイルを開く\n",
        "with fiona.open(shape_file, 'r') as src:\n",
        "    with rasterio.MemoryFile() as memfile:\n",
        "        with memfile.open(driver='GTiff',\n",
        "                          height=raster_height,\n",
        "                          width=raster_width,\n",
        "                          count=1,\n",
        "                          dtype='uint8',\n",
        "                          crs=src.crs,\n",
        "                          transform=transform) as dataset:\n",
        "            combined_mask = np.empty((dataset.height, dataset.width))\n",
        "            combined_mask[:] = np.nan\n",
        "            for i, feature in enumerate(src):\n",
        "                # 各フィーチャからジオメトリを取得し、shapelyオブジェクトに変換\n",
        "                polygon = shape(feature['geometry'])\n",
        "                mask = geometry_mask([mapping(polygon)],\n",
        "                                      transform=dataset.transform,\n",
        "                                      invert=True,\n",
        "                                      out_shape=(dataset.height, dataset.width))\n",
        "                combined_mask[mask] = i\n",
        "                del mask\n",
        "\n",
        "                # PREF_NAME 福岡県\n",
        "                # CITY_NAME 久留米市\n",
        "                # S_NAME 花畑三丁目\n",
        "                pref_name = feature[\"properties\"][\"PREF_NAME\"]\n",
        "                city_name = feature[\"properties\"][\"CITY_NAME\"]\n",
        "                s_name = feature[\"properties\"][\"S_NAME\"]\n",
        "                lookup_table.append({\n",
        "                    \"id\": i,\n",
        "                    \"address\": s_name,\n",
        "                    \"vector\": polygon\n",
        "                })\n",
        "\n",
        "\n",
        "#plt.imshow(combined_mask)\n",
        "\n",
        "new_lons = np.linspace(lons.min(), lons.max(), raster_width)  # 経度\n",
        "new_lats = np.linspace(lats.max(), lats.min(), raster_height)   # 緯度\n",
        "\n",
        "def get_address_ids(lon, lat, combined_mask):\n",
        "    #center_lon, center_lat = building['center']\n",
        "\n",
        "    # 緯度経度からピクセル座標に変換\n",
        "    #lons_to_pixel = np.searchsorted(lons, center_lon) - 1\n",
        "    #lats_to_pixel = np.searchsorted(lats, center_lat) - 1\n",
        "    lons_to_pixel = int(calc_floatIdx_of_list(lon, new_lons))\n",
        "    lats_to_pixel = int(calc_floatIdx_of_list(lat, new_lats))\n",
        "\n",
        "    # # 周囲のセルを調べるための正規分布を作成\n",
        "    # x, y = np.meshgrid(np.arange(combined_mask.shape[1]), np.arange(combined_mask.shape[0]))\n",
        "    # pos = np.dstack((x, y))\n",
        "    # rv = multivariate_normal([lons_to_pixel, lats_to_pixel], [[1.22, 0], [0, 1.22]])\n",
        "    # gaussian_mask = rv.pdf(pos)\n",
        "\n",
        "    # # 正規分布からしきい値を超えるセルのIDを取得\n",
        "    # # threshold = gaussian_mask.mean()\n",
        "    # # ids = combined_mask[gaussian_mask > threshold]\n",
        "\n",
        "    ids = combined_mask[lats_to_pixel-1:lats_to_pixel+2, lons_to_pixel-1:lons_to_pixel+2] # 中心と周囲8ピクセルを見る\n",
        "    unique_ids = np.unique(ids[~np.isnan(ids)])  # np.nanを除外してユニークなIDを取得\n",
        "\n",
        "    return unique_ids\n",
        "\n",
        "def find_address(lon, lat, combined_mask):\n",
        "      address_ids = get_address_ids(lon, lat, combined_mask)\n",
        "      address = \"\"\n",
        "      if len(address_ids) == 0:\n",
        "          address = '不明'\n",
        "      elif len(address_ids) == 1:\n",
        "          address = lookup_table[int(address_ids[0])]['address']\n",
        "      else:\n",
        "          # 複数のIDがある場合の処理\n",
        "          # lookup_tableのベクトルと照合して正しいIDを見つける処理\n",
        "          center_point =  Point(lon, lat) # Point(building['center'][0], building['center'][1])\n",
        "          possible_addresses = []\n",
        "\n",
        "          for address_id in address_ids:\n",
        "              for entry in lookup_table:\n",
        "                  if entry['id'] == address_id:\n",
        "                      polygon = shape(entry['vector'])\n",
        "                      if polygon.contains(center_point):\n",
        "                          possible_addresses.append(entry['address'])\n",
        "                          break  # 最初にマッチしたアドレスでループを抜ける\n",
        "\n",
        "          if possible_addresses:\n",
        "              address = possible_addresses[0]  # 最初に見つかった住所を採用\n",
        "          else:\n",
        "              # どのポリゴンにも含まれなかったら周囲の住所を全て列挙\n",
        "              address = \" / \".join([entry['address'] for entry in lookup_table if entry['id'] in address_ids])\n",
        "      return address\n",
        "\n",
        "# 処理を実行\n",
        "#buildings_with_address = assign_address(buildings, combined_mask)"
      ]
    },
    {
      "cell_type": "code",
      "execution_count": null,
      "metadata": {
        "colab": {
          "base_uri": "https://localhost:8080/"
        },
        "id": "oXsl3QJ-q16O",
        "outputId": "65b47ea5-495e-462d-8f1c-1013b49e4bcc"
      },
      "outputs": [
        {
          "output_type": "stream",
          "name": "stderr",
          "text": [
            "100% (102376 of 102376) |################| Elapsed Time: 0:00:17 Time:  0:00:17\n"
          ]
        }
      ],
      "source": [
        "for bb in progressbar(buildings):\n",
        "  lon, lat = bb[\"center\"]\n",
        "  #print(lon, lat)\n",
        "  #depth = calc_InterpVal_lonlat(lon, lat, depthmap, lons, lats)\n",
        "  dem = calc_InterpVal_lonlat(lon, lat, demmap, lons, lats)\n",
        "  depth = dem - bb[\"min_height\"] #  bb[\"dem\"]\n",
        "  bb[\"lon\"] = bb[\"center\"][0]\n",
        "  bb[\"lat\"] = bb[\"center\"][1]\n",
        "  #print(depth)\n",
        "  bb[\"out\"] = False\n",
        "  bb[\"flood_category\"] = get_floodcategory(bb[\"building_structure_type\"], depth)\n",
        "  bb[\"depth\"] = depth\n",
        "  if \"非浸水\" in bb[\"flood_category\"]:\n",
        "    bb[\"out\"] = True\n",
        "    bb[\"depth\"] = None\n",
        "  bb[\"address\"] = find_address(lon,lat,combined_mask)"
      ]
    },
    {
      "cell_type": "code",
      "execution_count": null,
      "metadata": {
        "colab": {
          "base_uri": "https://localhost:8080/"
        },
        "id": "8ctqOEB5z3P-",
        "outputId": "ffcd4171-abee-4c85-ab83-1db0c151b4c9"
      },
      "outputs": [
        {
          "output_type": "stream",
          "name": "stdout",
          "text": [
            "2.1m未満： 0\n",
            "[{'gid': 'bldg_383f1804-aa34-4634-949f-f769e09fa92d', 'center': [130.41263587199947, 33.22489181671553], 'min_height': 3.805999994277954, 'measured_height': 9.3, 'building_structure_type': '非木造', 'dem': 4.211194651213488, 'lon': 130.41263587199947, 'lat': 33.22489181671553, 'out': True, 'flood_category': '非浸水（非木造）', 'depth': None, 'address': '城島町江上本'}, {'gid': 'bldg_877dea60-35d0-4fd9-8b02-852e39c75d81', 'center': [130.41619367090038, 33.22492719812357], 'min_height': 4.454999923706055, 'measured_height': 3.0, 'building_structure_type': '非木造', 'dem': 4.511449391826913, 'lon': 130.41619367090038, 'lat': 33.22492719812357, 'out': True, 'flood_category': '非浸水（非木造）', 'depth': None, 'address': '城島町江上'}, {'gid': 'bldg_b75ca4b1-92b3-44a5-ad16-5e72cd09b0f2', 'center': [130.41286751062674, 33.22492397949454], 'min_height': 3.700000047683716, 'measured_height': 9.4, 'building_structure_type': '非木造', 'dem': 3.956987680630892, 'lon': 130.41286751062674, 'lat': 33.22492397949454, 'out': True, 'flood_category': '非浸水（非木造）', 'depth': None, 'address': '城島町江上本'}, {'gid': 'bldg_61b43d48-4425-4801-985c-f6189fa71458', 'center': [130.46168907863304, 33.22495868239884], 'min_height': 4.843999862670898, 'measured_height': 3.0, 'building_structure_type': '不明', 'dem': 4.896962536308122, 'lon': 130.46168907863304, 'lat': 33.22495868239884, 'out': True, 'flood_category': '非浸水（不明）', 'depth': None, 'address': '三潴町生岩'}, {'gid': 'bldg_d1818edb-3724-41ef-b0bb-53d428017daa', 'center': [130.46219544576414, 33.224922353136535], 'min_height': 4.747000217437744, 'measured_height': 3.0, 'building_structure_type': '不明', 'dem': 4.901148507110092, 'lon': 130.46219544576414, 'lat': 33.224922353136535, 'out': True, 'flood_category': '非浸水（不明）', 'depth': None, 'address': '三潴町生岩'}, {'gid': 'bldg_a6325189-a10f-4bb0-92ef-ea9530a7c72d', 'center': [130.46247207098483, 33.22490067711922], 'min_height': 4.806000232696533, 'measured_height': 3.0, 'building_structure_type': '不明', 'dem': 4.857921823799638, 'lon': 130.46247207098483, 'lat': 33.22490067711922, 'out': True, 'flood_category': '非浸水（不明）', 'depth': None, 'address': '三潴町生岩'}, {'gid': 'bldg_12d03d82-481a-4342-bd4d-0520682ef664', 'center': [130.4619645777858, 33.22494066617915], 'min_height': 4.854000091552734, 'measured_height': 3.0, 'building_structure_type': '不明', 'dem': 5.1089738877309925, 'lon': 130.4619645777858, 'lat': 33.22494066617915, 'out': True, 'flood_category': '非浸水（不明）', 'depth': None, 'address': '三潴町生岩'}, {'gid': 'bldg_e796a650-2cdb-4226-863a-469c8c6dd759', 'center': [130.4622833525813, 33.224450683790295], 'min_height': 4.735000133514404, 'measured_height': 3.0, 'building_structure_type': '不明', 'dem': 4.8315321575428625, 'lon': 130.4622833525813, 'lat': 33.224450683790295, 'out': True, 'flood_category': '非浸水（不明）', 'depth': None, 'address': '三潴町生岩'}, {'gid': 'bldg_4f079522-996e-4e27-bfe3-4ddee833ccdd', 'center': [130.46275801607112, 33.22492874495974], 'min_height': 4.706999778747559, 'measured_height': 3.0, 'building_structure_type': '不明', 'dem': 4.768067275240944, 'lon': 130.46275801607112, 'lat': 33.22492874495974, 'out': True, 'flood_category': '非浸水（不明）', 'depth': None, 'address': '三潴町生岩'}, {'gid': 'bldg_ed365b93-aa41-4d8e-a099-cce121cec45c', 'center': [130.40294440354532, 33.2304646602368], 'min_height': 3.441999912261963, 'measured_height': 7.5, 'building_structure_type': '木造・土蔵造', 'dem': 3.909007289345219, 'lon': 130.40294440354532, 'lat': 33.2304646602368, 'out': True, 'flood_category': '非浸水（木造）', 'depth': None, 'address': '城島町下青木'}]\n"
          ]
        }
      ],
      "source": [
        "print(\"2.1m未満：\", len([bb for bb in buildings if bb[\"measured_height\"] < 2.1]))\n",
        "print([bb for bb in buildings if \"非浸水\" in bb[\"flood_category\"]][0:10])"
      ]
    },
    {
      "cell_type": "code",
      "execution_count": null,
      "metadata": {
        "colab": {
          "base_uri": "https://localhost:8080/"
        },
        "id": "SDrixPRnyAwG",
        "outputId": "cbb6fd57-1143-4f7f-ad0b-c8ee1ae36c8b"
      },
      "outputs": [
        {
          "output_type": "stream",
          "name": "stdout",
          "text": [
            "3018 ( 893 )/ 102376\n"
          ]
        }
      ],
      "source": [
        "num_flooded = len([bb for bb in buildings if not bb[\"out\"]])\n",
        "num_yukashita = len([bb for bb in buildings if \"床下\" in bb[\"flood_category\"]])\n",
        "\n",
        "print(num_flooded,\"(\",num_yukashita,\")/\",len(buildings))"
      ]
    },
    {
      "cell_type": "code",
      "execution_count": null,
      "metadata": {
        "id": "1HCz1FLLGxrJ"
      },
      "outputs": [],
      "source": [
        "if flg_checkDisp:\n",
        "  xx = [bb[\"center\"][0] for bb in buildings]\n",
        "  yy = [bb[\"center\"][1] for bb in buildings]\n",
        "  cc = [\"orangered\" if not bb[\"out\"] else \"purple\" for bb in buildings]\n",
        "  ss = [1 if not bb[\"out\"] else 0.1 for bb in buildings]\n",
        "  aa = [1 if not bb[\"out\"] else 0.01 for bb in buildings]\n",
        "  ax =plt.subplot(1,1,1)\n",
        "  #img = ax.contourf(lons,lats, depthmap,levels=np.arange(0,maxdepth+0.1,0.25))\n",
        "  img = ax.contourf(lons,lats, demmap)#,levels=np.arange(0,maxdepth+0.1,0.25))\n",
        "  plt.scatter(xx,yy,c=cc,s=ss)#, alpha=aa)\n",
        "  ax.axis(\"equal\")\n",
        "  plt.xlim([130.50, 130.53])\n",
        "  plt.ylim([33.32, 33.34])\n",
        "  plt.colorbar(img)\n",
        "  plt.scatter"
      ]
    },
    {
      "cell_type": "code",
      "execution_count": null,
      "metadata": {
        "id": "ivAoyw0GmEms",
        "colab": {
          "base_uri": "https://localhost:8080/"
        },
        "outputId": "586dc867-821f-4701-c8bf-9671bc73a30c"
      },
      "outputs": [
        {
          "output_type": "stream",
          "name": "stdout",
          "text": [
            "mkdir: cannot create directory ‘/content/drive/MyDrive/plateau-2023-uc01-satellite-analytics/PLATEAU-FloodSAR/kurume-r2/ForUpload/’: File exists\n"
          ]
        }
      ],
      "source": [
        "!mkdir {path_upload}\n",
        "csv_keylist = ['gid', 'lon', 'lat', 'min_height', 'flood_category','depth', 'address']\n",
        "csv_header = ['gid', 'lon', 'lat', 'dem', 'flood_category','flood_depth', 'address']\n",
        "with open(file_building_csv, \"w\") as ofile:\n",
        "  ofile.write(\",\".join(f\"'{w}'\" for w in csv_header)+\"\\n\")\n",
        "  for bb in buildings:\n",
        "    tempstr = \"\"\n",
        "    for kk in csv_keylist:\n",
        "      if isinstance(bb[kk], str):\n",
        "        tempstr += f\"'{bb[kk]}',\"\n",
        "      else:\n",
        "        tempstr += f\"{bb[kk]},\"\n",
        "    ofile.write(tempstr[:-1]+\"\\n\")\n",
        "    #print(tempstr[:-1])\n"
      ]
    },
    {
      "cell_type": "code",
      "source": [
        "print(lons,lats)\n",
        "print(lons[-1])"
      ],
      "metadata": {
        "colab": {
          "base_uri": "https://localhost:8080/"
        },
        "id": "x1HOGtOZzU5I",
        "outputId": "1e6e54d2-ceb4-4014-9859-90d2482f7591"
      },
      "execution_count": null,
      "outputs": [
        {
          "output_type": "stream",
          "name": "stdout",
          "text": [
            "[130.37475586 130.37479877 130.37484169 ... 130.77013493 130.77017784\n",
            " 130.77022076] [33.41304731 33.41301145 33.41297559 ... 33.21116941 33.21113355\n",
            " 33.21109768]\n",
            "130.77022075653076\n"
          ]
        }
      ]
    },
    {
      "cell_type": "code",
      "source": [
        "def dump2heatmap(lons, lats, buildings):\n",
        "  gauss_hl = 63\n",
        "  xx, yy = np.meshgrid(np.arange(-gauss_hl,gauss_hl+1),np.arange(-gauss_hl,gauss_hl+1))\n",
        "  #gauss = 1/(2045*np.pi)*np.exp(-(xx**2+yy**2)/2048) # sigma = 32 px\n",
        "  gauss = np.sqrt((xx**2+yy**2)) <= 31 #gauss_hl\n",
        "  #print(np.shape(gauss))\n",
        "  maxx = len(lons)\n",
        "  maxy = len(lats)\n",
        "  heatmap = np.zeros((maxy, maxx))\n",
        "  for bb in buildings:\n",
        "    if not bb[\"out\"]:\n",
        "      lon, lat = bb[\"center\"]\n",
        "      idx = int(calc_floatIdx_of_list(lon, lons))\n",
        "      idy = int(calc_floatIdx_of_list(lat, lats))\n",
        "      gxl, gxh = 0, gauss_hl*2 + 1\n",
        "      gyl, gyh = 0, gauss_hl*2 + 1\n",
        "      idxl, idxh = idx-gauss_hl, idx+gauss_hl+1\n",
        "      idyl, idyh = idy-gauss_hl, idy+gauss_hl+1\n",
        "      if idxl < 0:\n",
        "        gxl = - idxl\n",
        "        idxl = 0\n",
        "      if idxh > maxx:\n",
        "        gxh = idxh - maxx\n",
        "        idxh = maxx\n",
        "      if idyl < 0:\n",
        "        gyl = - idyl\n",
        "        idyl = 0\n",
        "      if idyh > maxy:\n",
        "        gyh = idyh - maxy\n",
        "        idyh = maxy\n",
        "      #print(idyl,idyh,idxl,idxh,gyl,gyh,gxl,gxh)\n",
        "      heatmap[idyl:idyh,idxl:idxh] += gauss[gyl:gyh,gxl:gxh]\n",
        "  return heatmap/(np.sum(gauss)*16) * 10000"
      ],
      "metadata": {
        "id": "1vlQiytQ2OH4"
      },
      "execution_count": null,
      "outputs": []
    },
    {
      "cell_type": "code",
      "source": [
        "yukaue_mokuzou = dump2heatmap(lons, lats, [bb for bb in buildings if bb[\"flood_category\"]==\"床上（木造）\"])\n",
        "yukashita_mokuzou = dump2heatmap(lons, lats, [bb for bb in buildings if bb[\"flood_category\"]==\"床下（木造）\"])\n",
        "all_mokuzou = dump2heatmap(lons, lats, [bb for bb in buildings if \"（木造）\" in bb[\"flood_category\"]])"
      ],
      "metadata": {
        "id": "2WR-HY26HO-o"
      },
      "execution_count": null,
      "outputs": []
    },
    {
      "cell_type": "code",
      "source": [
        "print(np.nansum(yukaue_mokuzou))\n",
        "print(np.nansum(yukashita_mokuzou))\n",
        "print(np.nansum(all_mokuzou))\n"
      ],
      "metadata": {
        "id": "mW59wwSfpvx1",
        "colab": {
          "base_uri": "https://localhost:8080/"
        },
        "outputId": "97c4a8e1-ff1c-4387-f42a-54f38781e7e4"
      },
      "execution_count": null,
      "outputs": [
        {
          "output_type": "stream",
          "name": "stdout",
          "text": [
            "525624.9999999987\n",
            "525625.0000000003\n",
            "1051249.9999999995\n"
          ]
        }
      ]
    },
    {
      "cell_type": "code",
      "source": [
        "if flg_checkDisp:\n",
        "  chech_heatmap = all_mokuzou\n",
        "  ax =plt.subplot(1,1,1)\n",
        "  plt_dens = np.copy(chech_heatmap)\n",
        "  plt_dens[chech_heatmap==0] = np.nan\n",
        "  img = ax.pcolormesh(lons,lats, plt_dens)\n",
        "  ax.axis(\"equal\")\n",
        "  plt.xlim([130.50, 130.53])\n",
        "  plt.ylim([33.32, 33.34])\n",
        "  plt.colorbar(img)"
      ],
      "metadata": {
        "id": "fH3-HcOh1TNI"
      },
      "execution_count": null,
      "outputs": []
    },
    {
      "cell_type": "code",
      "source": [
        "if flg_checkDisp:\n",
        "  ax =plt.subplot(1,1,1)\n",
        "  plt_cat = np.copy(category)\n",
        "  plt_cat[category==0] = np.nan\n",
        "  img = ax.pcolormesh(lons,lats, plt_cat)\n",
        "  ax.axis(\"equal\")\n",
        "  plt.xlim([130.50, 130.53])\n",
        "  plt.ylim([33.32, 33.34])\n",
        "  plt.colorbar(img)"
      ],
      "metadata": {
        "id": "RsyUowQoIEep"
      },
      "execution_count": null,
      "outputs": []
    },
    {
      "cell_type": "code",
      "source": [
        "#@title XYZタイル分けされた点郡NPZファイルの生成関数\n",
        "#print(len(lats)/256.0, len(lons)/256.0)\n",
        "\n",
        "def save_tile_npz(lats,lons,map, classificationmap, zoom=15, dst_dir =\"temp/\"):\n",
        "  dir_zoom = dst_dir + f\"{zoom}/\"\n",
        "  if not os.path.exists(dir_zoom):\n",
        "    os.makedirs(dir_zoom)\n",
        "  res_lons = np.array([])\n",
        "  res_lats = np.array([])\n",
        "  res_maps = np.array([])\n",
        "  res_class = np.array([])\n",
        "  print(f\" / total loop num: {len(lats)/256}\")\n",
        "  for jj, tmp_lat in progressbar(enumerate(lats[::256])):\n",
        "    idj = jj*256\n",
        "    sublats = lats[idj:idj+256]\n",
        "    for ii, tmp_lon in enumerate(lons[::256]):\n",
        "      idi = ii*256\n",
        "      sublons = lons[idi:idi+256]\n",
        "      xx,yy  = pfsl.calc_xyz_from_lonlat(tmp_lon, tmp_lat, zoom)\n",
        "      #print(ii,jj, xx, yy)\n",
        "      submap = map[idj:idj+256,idi:idi+256]\n",
        "      subclass = classificationmap[idj:idj+256,idi:idi+256]\n",
        "      grd_lons, grd_lats  = np.meshgrid(sublons,sublats)\n",
        "      flt_lons = grd_lons.ravel()\n",
        "      flt_lats = grd_lats.ravel()\n",
        "      flt_map = submap.ravel()\n",
        "      flt_class = subclass.ravel()\n",
        "      #selected = [[lon,lat,dem] for lon, lat, dem in zip(flt_lons, flt_lats,flt_map) if not np.isnan(dem)]\n",
        "      #print(flt_lons[0:5])\n",
        "      #print(flt_lats[0:5])\n",
        "      #print(flt_map[0:5])\n",
        "      #print(ii, jj, f\"{subzoom}-{xx}-{yy}\", f\"{subzoom}-{chk_tile[0]}-{chk_tile[1]}\")\n",
        "      if not os.path.exists(f\"{dir_zoom}{xx}\"):\n",
        "        os.mkdir(f\"{dir_zoom}{xx}\")\n",
        "      np.savez(f\"{dir_zoom}{xx}/{yy}.npz\", lons=flt_lons, lats=flt_lats, dem=flt_map, classification=flt_class)\n",
        "      res_lons = np.append(res_lons, flt_lons)\n",
        "      res_lats = np.append(res_lats, flt_lats)\n",
        "      res_maps = np.append(res_maps, flt_map)\n",
        "      res_class = np.append(res_class, flt_class)\n",
        "  return res_lons, res_lats, res_maps, res_class\n"
      ],
      "metadata": {
        "cellView": "form",
        "id": "ibvWUGuWNgXs"
      },
      "execution_count": null,
      "outputs": []
    },
    {
      "cell_type": "code",
      "source": [
        "worklist = [\n",
        "  [yukaue_mokuzou, file_floodHeattile_yukauemokuzou_zip],\n",
        "  [yukashita_mokuzou, file_floodHeattile_yukashitamokuzou_zip],\n",
        "  [all_mokuzou, file_floodHeattile_allmokuzou_zip]\n",
        "]\n",
        "for heatmap, savefile in worklist:\n",
        "  print(f\"for {savefile}\")\n",
        "  #print(np.nansum(heatmap))\n",
        "  category = np.zeros_like(heatmap)\n",
        "  levels = [5, 10, 15, 20, 25]\n",
        "  for ii, ll in enumerate(levels[::-1]):\n",
        "    category[heatmap<ll] = len(levels)-ii\n",
        "  category[heatmap==0] = 0\n",
        "  category[heatmap>levels[-1]] = len(levels)+1\n",
        "  heatmap[heatmap==0] = np.nan\n",
        "  if os.path.exists(\"/heat_tmp\"):\n",
        "    !rm -rf /heat_tmp\n",
        "  test_lons, test_lats, test_maps, test_class = save_tile_npz(lats,lons,heatmap,category,dst_dir=\"/heat_tmp/\")\n",
        "  if os.path.exists(\"/heattile_tmp/\"):\n",
        "    !rm -rf /heattile_tmp\n",
        "  p = FloodToPng(\"/heat_tmp/\")\n",
        "  p.parse(\"/heattile_tmp/\")\n",
        "  shutil.make_archive(savefile[:-4], 'zip', \"/heattile_tmp/\")\n",
        "  #!rm -rf \"heat_tmp\"\n",
        "  #!rm -rf \"heattile_tmp\""
      ],
      "metadata": {
        "colab": {
          "base_uri": "https://localhost:8080/"
        },
        "id": "LKMn31TlNiol",
        "outputId": "4dcd3cd2-a3cb-4e6d-b4b3-9dac77d04ac6"
      },
      "execution_count": null,
      "outputs": [
        {
          "output_type": "stream",
          "name": "stdout",
          "text": [
            "for /content/drive/MyDrive/plateau-2023-uc01-satellite-analytics/PLATEAU-FloodSAR/kurume-r2/ForUpload/heatmap_yukaue_mokuzou.zip\n"
          ]
        },
        {
          "output_type": "stream",
          "name": "stderr",
          "text": [
            "\r/ |#                                                  | 0 Elapsed Time: 0:00:00"
          ]
        },
        {
          "output_type": "stream",
          "name": "stdout",
          "text": [
            " / total loop num: 22.0\n"
          ]
        },
        {
          "output_type": "stream",
          "name": "stderr",
          "text": [
            "| |              #                                   | 21 Elapsed Time: 0:04:48\n"
          ]
        },
        {
          "output_type": "stream",
          "name": "stdout",
          "text": [
            "for /content/drive/MyDrive/plateau-2023-uc01-satellite-analytics/PLATEAU-FloodSAR/kurume-r2/ForUpload/heatmap_yukashita_mokuzou.zip\n"
          ]
        },
        {
          "output_type": "stream",
          "name": "stderr",
          "text": [
            "\r/ |#                                                  | 0 Elapsed Time: 0:00:00"
          ]
        },
        {
          "output_type": "stream",
          "name": "stdout",
          "text": [
            " / total loop num: 22.0\n"
          ]
        },
        {
          "output_type": "stream",
          "name": "stderr",
          "text": [
            "| |                                        #         | 21 Elapsed Time: 0:04:34\n"
          ]
        },
        {
          "output_type": "stream",
          "name": "stdout",
          "text": [
            "for /content/drive/MyDrive/plateau-2023-uc01-satellite-analytics/PLATEAU-FloodSAR/kurume-r2/ForUpload/heatmap_all_mokuzou.zip\n"
          ]
        },
        {
          "output_type": "stream",
          "name": "stderr",
          "text": [
            "\r/ |#                                                  | 0 Elapsed Time: 0:00:00"
          ]
        },
        {
          "output_type": "stream",
          "name": "stdout",
          "text": [
            " / total loop num: 22.0\n"
          ]
        },
        {
          "output_type": "stream",
          "name": "stderr",
          "text": [
            "| |                              #                   | 21 Elapsed Time: 0:04:26\n"
          ]
        }
      ]
    }
  ],
  "metadata": {
    "colab": {
      "provenance": []
    },
    "kernelspec": {
      "display_name": "Python 3",
      "name": "python3"
    },
    "language_info": {
      "name": "python"
    }
  },
  "nbformat": 4,
  "nbformat_minor": 0
}